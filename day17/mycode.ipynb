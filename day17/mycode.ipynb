{
 "cells": [
  {
   "cell_type": "code",
   "execution_count": 1,
   "metadata": {},
   "outputs": [
    {
     "name": "stdout",
     "output_type": "stream",
     "text": [
      "7,1,2,3,2,6,7,2,5\n"
     ]
    }
   ],
   "source": [
    "def execute_program(registers, program):\n",
    "    A, B, C = registers\n",
    "    output = []\n",
    "    instruction_pointer = 0\n",
    "\n",
    "    while instruction_pointer < len(program):\n",
    "        opcode = program[instruction_pointer]\n",
    "        operand = program[instruction_pointer + 1]\n",
    "\n",
    "        def get_combo_value(op):\n",
    "            if op in range(4):\n",
    "                return op\n",
    "            elif op == 4:\n",
    "                return A\n",
    "            elif op == 5:\n",
    "                return B\n",
    "            elif op == 6:\n",
    "                return C\n",
    "            else:\n",
    "                raise ValueError(\"Invalid combo operand: {}\".format(op))\n",
    "\n",
    "        if opcode == 0:  # adv\n",
    "            denom = 2 ** get_combo_value(operand)\n",
    "            A //= denom\n",
    "        elif opcode == 1:  # bxl\n",
    "            B ^= operand\n",
    "        elif opcode == 2:  # bst\n",
    "            B = get_combo_value(operand) % 8\n",
    "        elif opcode == 3:  # jnz\n",
    "            if A != 0:\n",
    "                instruction_pointer = operand\n",
    "                continue\n",
    "        elif opcode == 4:  # bxc\n",
    "            B ^= C\n",
    "        elif opcode == 5:  # out\n",
    "            output.append(get_combo_value(operand) % 8)\n",
    "        elif opcode == 6:  # bdv\n",
    "            denom = 2 ** get_combo_value(operand)\n",
    "            B = A // denom\n",
    "        elif opcode == 7:  # cdv\n",
    "            denom = 2 ** get_combo_value(operand)\n",
    "            C = A // denom\n",
    "        else:\n",
    "            raise ValueError(\"Invalid opcode: {}\".format(opcode))\n",
    "\n",
    "        instruction_pointer += 2\n",
    "\n",
    "    return ','.join(map(str, output))\n",
    "\n",
    "# Initial register values\n",
    "registers = [32916674, 0, 0]\n",
    "\n",
    "# Program input\n",
    "program = [2,4,1,1,7,5,0,3,1,4,4,0,5,5,3,0]\n",
    "\n",
    "# Execute the program and get the output\n",
    "output = execute_program(registers, program)\n",
    "print(output)"
   ]
  },
  {
   "cell_type": "code",
   "execution_count": 5,
   "metadata": {},
   "outputs": [
    {
     "data": {
      "text/html": [
       "<pre style=\"white-space:pre;overflow-x:auto;line-height:normal;font-family:Menlo,'DejaVu Sans Mono',consolas,'Courier New',monospace\">Lowest value for register A: <span style=\"color: #008080; text-decoration-color: #008080; font-weight: bold\">202356708354602</span>\n",
       "</pre>\n"
      ],
      "text/plain": [
       "Lowest value for register A: \u001b[1;36m202356708354602\u001b[0m\n"
      ]
     },
     "metadata": {},
     "output_type": "display_data"
    },
    {
     "data": {
      "text/html": [
       "<pre style=\"white-space:pre;overflow-x:auto;line-height:normal;font-family:Menlo,'DejaVu Sans Mono',consolas,'Courier New',monospace\">\n",
       "Verification:\n",
       "</pre>\n"
      ],
      "text/plain": [
       "\n",
       "Verification:\n"
      ]
     },
     "metadata": {},
     "output_type": "display_data"
    },
    {
     "data": {
      "text/html": [
       "<pre style=\"white-space:pre;overflow-x:auto;line-height:normal;font-family:Menlo,'DejaVu Sans Mono',consolas,'Courier New',monospace\">Original program: <span style=\"font-weight: bold\">[</span><span style=\"color: #008080; text-decoration-color: #008080; font-weight: bold\">2</span>, <span style=\"color: #008080; text-decoration-color: #008080; font-weight: bold\">4</span>, <span style=\"color: #008080; text-decoration-color: #008080; font-weight: bold\">1</span>, <span style=\"color: #008080; text-decoration-color: #008080; font-weight: bold\">1</span>, <span style=\"color: #008080; text-decoration-color: #008080; font-weight: bold\">7</span>, <span style=\"color: #008080; text-decoration-color: #008080; font-weight: bold\">5</span>, <span style=\"color: #008080; text-decoration-color: #008080; font-weight: bold\">0</span>, <span style=\"color: #008080; text-decoration-color: #008080; font-weight: bold\">3</span>, <span style=\"color: #008080; text-decoration-color: #008080; font-weight: bold\">1</span>, <span style=\"color: #008080; text-decoration-color: #008080; font-weight: bold\">4</span>, <span style=\"color: #008080; text-decoration-color: #008080; font-weight: bold\">4</span>, <span style=\"color: #008080; text-decoration-color: #008080; font-weight: bold\">0</span>, <span style=\"color: #008080; text-decoration-color: #008080; font-weight: bold\">5</span>, <span style=\"color: #008080; text-decoration-color: #008080; font-weight: bold\">5</span>, <span style=\"color: #008080; text-decoration-color: #008080; font-weight: bold\">3</span>, <span style=\"color: #008080; text-decoration-color: #008080; font-weight: bold\">0</span><span style=\"font-weight: bold\">]</span>\n",
       "</pre>\n"
      ],
      "text/plain": [
       "Original program: \u001b[1m[\u001b[0m\u001b[1;36m2\u001b[0m, \u001b[1;36m4\u001b[0m, \u001b[1;36m1\u001b[0m, \u001b[1;36m1\u001b[0m, \u001b[1;36m7\u001b[0m, \u001b[1;36m5\u001b[0m, \u001b[1;36m0\u001b[0m, \u001b[1;36m3\u001b[0m, \u001b[1;36m1\u001b[0m, \u001b[1;36m4\u001b[0m, \u001b[1;36m4\u001b[0m, \u001b[1;36m0\u001b[0m, \u001b[1;36m5\u001b[0m, \u001b[1;36m5\u001b[0m, \u001b[1;36m3\u001b[0m, \u001b[1;36m0\u001b[0m\u001b[1m]\u001b[0m\n"
      ]
     },
     "metadata": {},
     "output_type": "display_data"
    },
    {
     "data": {
      "text/html": [
       "<pre style=\"white-space:pre;overflow-x:auto;line-height:normal;font-family:Menlo,'DejaVu Sans Mono',consolas,'Courier New',monospace\">Program outputs: <span style=\"font-weight: bold\">[</span><span style=\"color: #008080; text-decoration-color: #008080; font-weight: bold\">2</span><span style=\"font-weight: bold\">]</span>\n",
       "</pre>\n"
      ],
      "text/plain": [
       "Program outputs: \u001b[1m[\u001b[0m\u001b[1;36m2\u001b[0m\u001b[1m]\u001b[0m\n"
      ]
     },
     "metadata": {},
     "output_type": "display_data"
    },
    {
     "data": {
      "text/html": [
       "<pre style=\"white-space:pre;overflow-x:auto;line-height:normal;font-family:Menlo,'DejaVu Sans Mono',consolas,'Courier New',monospace\">Match: <span style=\"color: #ff0000; text-decoration-color: #ff0000; font-style: italic\">False</span>\n",
       "</pre>\n"
      ],
      "text/plain": [
       "Match: \u001b[3;91mFalse\u001b[0m\n"
      ]
     },
     "metadata": {},
     "output_type": "display_data"
    }
   ],
   "source": [
    "def find_quine_value(program):\n",
    "    def find(target, ans):\n",
    "        if target == []:  # We've matched all numbers in the target\n",
    "            return ans\n",
    "            \n",
    "        # Try all possible 3-bit values\n",
    "        for t in range(8):\n",
    "            a = ans << 3 | t  # Build up the answer by shifting and combining\n",
    "            b = 0\n",
    "            c = 0\n",
    "            output = None\n",
    "            adv3 = False\n",
    "            \n",
    "            def combo(operand):\n",
    "                if 0 <= operand <= 3: return operand\n",
    "                if operand == 4: return a\n",
    "                if operand == 5: return b\n",
    "                if operand == 6: return c\n",
    "                raise AssertionError(f\"unrecognized combo operand {operand}\")\n",
    "            \n",
    "            # Execute program until we get an output\n",
    "            for pointer in range(0, len(program) - 2, 2):\n",
    "                ins = program[pointer]\n",
    "                operand = program[pointer + 1]\n",
    "                \n",
    "                if ins == 0:  # ADV\n",
    "                    assert not adv3, \"program has multiple ADVs\"\n",
    "                    assert operand == 3, \"program has ADV with operand other than 3\"\n",
    "                    adv3 = True\n",
    "                elif ins == 1:  # XOR immediate\n",
    "                    b = b ^ operand\n",
    "                elif ins == 2:  # MOD\n",
    "                    b = combo(operand) % 8\n",
    "                elif ins == 3:  # JNZ\n",
    "                    raise AssertionError(\"program has JNZ inside expected loop body\")\n",
    "                elif ins == 4:  # XOR C\n",
    "                    b = b ^ c\n",
    "                elif ins == 5:  # OUT\n",
    "                    assert output is None, \"program has multiple OUT\"\n",
    "                    output = combo(operand) % 8\n",
    "                elif ins == 6:  # RSH A\n",
    "                    b = a >> combo(operand)\n",
    "                elif ins == 7:  # SET C\n",
    "                    c = a >> combo(operand)\n",
    "                \n",
    "                if output == target[-1]:  # If we found a matching output\n",
    "                    sub = find(target[:-1], a)  # Recursively try to match the rest\n",
    "                    if sub is not None:\n",
    "                        return sub\n",
    "                    \n",
    "            # If we get here, this value of t didn't work\n",
    "            continue\n",
    "        \n",
    "        # If we get here, no value of t worked\n",
    "        return None\n",
    "\n",
    "    # Start the search with the program as the target\n",
    "    result = find(program, 0)\n",
    "    return result\n",
    "\n",
    "# Your program input\n",
    "program = [2,4,1,1,7,5,0,3,1,4,4,0,5,5,3,0]\n",
    "\n",
    "# Find the lowest value of A that makes the program output itself\n",
    "result = find_quine_value(program)\n",
    "print(f\"Lowest value for register A: {result}\")\n",
    "\n",
    "# Verify the result by running the program with this value\n",
    "def verify_result(program, a):\n",
    "    outputs = []\n",
    "    b = 0\n",
    "    c = 0\n",
    "    \n",
    "    def combo(operand):\n",
    "        if 0 <= operand <= 3: return operand\n",
    "        if operand == 4: return a\n",
    "        if operand == 5: return b\n",
    "        if operand == 6: return c\n",
    "        raise AssertionError(f\"unrecognized combo operand {operand}\")\n",
    "    \n",
    "    for pointer in range(0, len(program) - 2, 2):\n",
    "        ins = program[pointer]\n",
    "        operand = program[pointer + 1]\n",
    "        \n",
    "        if ins == 0: continue  # ADV\n",
    "        elif ins == 1: b = b ^ operand\n",
    "        elif ins == 2: b = combo(operand) % 8\n",
    "        elif ins == 4: b = b ^ c\n",
    "        elif ins == 5: outputs.append(combo(operand) % 8)\n",
    "        elif ins == 6: b = a >> combo(operand)\n",
    "        elif ins == 7: c = a >> combo(operand)\n",
    "    \n",
    "    return outputs\n",
    "\n",
    "if result:\n",
    "    outputs = verify_result(program, result)"
   ]
  }
 ],
 "metadata": {
  "kernelspec": {
   "display_name": "Python 3",
   "language": "python",
   "name": "python3"
  },
  "language_info": {
   "codemirror_mode": {
    "name": "ipython",
    "version": 3
   },
   "file_extension": ".py",
   "mimetype": "text/x-python",
   "name": "python",
   "nbconvert_exporter": "python",
   "pygments_lexer": "ipython3",
   "version": "3.11.5"
  }
 },
 "nbformat": 4,
 "nbformat_minor": 2
}
