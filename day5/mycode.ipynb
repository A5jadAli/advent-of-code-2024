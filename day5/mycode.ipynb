{
 "cells": [
  {
   "cell_type": "markdown",
   "metadata": {},
   "source": [
    "### **Day 5**"
   ]
  },
  {
   "cell_type": "code",
   "execution_count": 1,
   "metadata": {},
   "outputs": [
    {
     "name": "stdout",
     "output_type": "stream",
     "text": [
      "Sum of middle pages of valid updates: 5948\n"
     ]
    }
   ],
   "source": [
    "def read_file(file_path):\n",
    "    with open(file_path, 'r') as f:\n",
    "        return [line.strip() for line in f]\n",
    "\n",
    "def is_valid(update, rules):\n",
    "    for x, y in rules:\n",
    "        if x in update and y in update:\n",
    "            if update.index(x) > update.index(y):\n",
    "                return False\n",
    "    return True\n",
    "\n",
    "def find_middle(update):\n",
    "    return update[len(update) // 2]\n",
    "\n",
    "def solve(pages_file, updates_file):\n",
    "    # Read files\n",
    "    rules = read_file(pages_file)\n",
    "    updates = read_file(updates_file)\n",
    "    \n",
    "    # Parse rules into a list of tuples\n",
    "    rules = [tuple(map(int, r.split('|'))) for r in rules]\n",
    "    \n",
    "    # Parse updates into lists of integers\n",
    "    updates = [list(map(int, u.split(','))) for u in updates]\n",
    "    \n",
    "    # Validate updates and find middle pages\n",
    "    valid_updates = [update for update in updates if is_valid(update, rules)]\n",
    "    middle_sum = sum(find_middle(update) for update in valid_updates)\n",
    "    \n",
    "    return middle_sum\n",
    "\n",
    "# File paths\n",
    "pages_file = \"pages.txt\"\n",
    "updates_file = \"updates.txt\"\n",
    "\n",
    "# Solve the problem\n",
    "result = solve(pages_file, updates_file)\n",
    "print(f\"Sum of middle pages of valid updates: {result}\")"
   ]
  },
  {
   "cell_type": "code",
   "execution_count": 4,
   "metadata": {},
   "outputs": [
    {
     "name": "stdout",
     "output_type": "stream",
     "text": [
      "Sum of middle pages of reordered invalid updates: 3062\n"
     ]
    }
   ],
   "source": [
    "from collections import defaultdict, deque\n",
    "\n",
    "def read_file(file_path):\n",
    "    with open(file_path, 'r') as f:\n",
    "        return [line.strip() for line in f]\n",
    "\n",
    "def is_valid(update, rules):\n",
    "    for x, y in rules:\n",
    "        if x in update and y in update:\n",
    "            if update.index(x) > update.index(y):\n",
    "                return False\n",
    "    return True\n",
    "\n",
    "def find_middle(update):\n",
    "    return update[len(update) // 2]\n",
    "\n",
    "def reorder_update(update, rules):\n",
    "    # Build a graph based on rules\n",
    "    graph = defaultdict(list)\n",
    "    in_degree = defaultdict(int)\n",
    "    \n",
    "    # Add edges to the graph for pages in the update only\n",
    "    update_set = set(update)\n",
    "    for x, y in rules:\n",
    "        if x in update_set and y in update_set:\n",
    "            graph[x].append(y)\n",
    "            in_degree[y] += 1\n",
    "            if x not in in_degree:\n",
    "                in_degree[x] = 0\n",
    "\n",
    "    # Perform topological sort\n",
    "    queue = deque([node for node in update if in_degree[node] == 0])\n",
    "    ordered = []\n",
    "    while queue:\n",
    "        node = queue.popleft()\n",
    "        ordered.append(node)\n",
    "        for neighbor in graph[node]:\n",
    "            in_degree[neighbor] -= 1\n",
    "            if in_degree[neighbor] == 0:\n",
    "                queue.append(neighbor)\n",
    "\n",
    "    return ordered\n",
    "\n",
    "def solve(pages_file, updates_file):\n",
    "    # Read files\n",
    "    rules = read_file(pages_file)\n",
    "    updates = read_file(updates_file)\n",
    "    \n",
    "    # Parse rules into a list of tuples\n",
    "    rules = [tuple(map(int, r.split('|'))) for r in rules]\n",
    "    \n",
    "    # Parse updates into lists of integers\n",
    "    updates = [list(map(int, u.split(','))) for u in updates]\n",
    "    \n",
    "    # Separate valid and invalid updates\n",
    "    valid_updates = []\n",
    "    invalid_updates = []\n",
    "    for update in updates:\n",
    "        if is_valid(update, rules):\n",
    "            valid_updates.append(update)\n",
    "        else:\n",
    "            invalid_updates.append(update)\n",
    "    \n",
    "    # Reorder invalid updates and calculate their middle pages\n",
    "    reordered_invalids = [reorder_update(update, rules) for update in invalid_updates]\n",
    "    middle_sum_invalids = sum(find_middle(update) for update in reordered_invalids)\n",
    "    \n",
    "    return middle_sum_invalids\n",
    "\n",
    "# File paths\n",
    "pages_file = \"pages.txt\"\n",
    "updates_file = \"updates.txt\"\n",
    "\n",
    "# Solve the problem\n",
    "result = solve(pages_file, updates_file)\n",
    "print(f\"Sum of middle pages of reordered invalid updates: {result}\")"
   ]
  }
 ],
 "metadata": {
  "kernelspec": {
   "display_name": "Python 3",
   "language": "python",
   "name": "python3"
  },
  "language_info": {
   "codemirror_mode": {
    "name": "ipython",
    "version": 3
   },
   "file_extension": ".py",
   "mimetype": "text/x-python",
   "name": "python",
   "nbconvert_exporter": "python",
   "pygments_lexer": "ipython3",
   "version": "3.11.5"
  }
 },
 "nbformat": 4,
 "nbformat_minor": 2
}
