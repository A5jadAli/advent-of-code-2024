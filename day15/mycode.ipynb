{
 "cells": [
  {
   "cell_type": "code",
   "execution_count": 1,
   "metadata": {},
   "outputs": [],
   "source": [
    "def parse_input(input_str):\n",
    "    # Split into map and moves\n",
    "    lines = input_str.strip().split('\\n')\n",
    "    map_lines = []\n",
    "    moves = ''\n",
    "    \n",
    "    # Find the empty line that separates map from moves\n",
    "    map_end = 0\n",
    "    for i, line in enumerate(lines):\n",
    "        if not line.strip():\n",
    "            map_end = i\n",
    "            break\n",
    "        map_lines.append(line)\n",
    "    \n",
    "    # Extract moves, removing newlines and non-move characters\n",
    "    for line in lines[map_end:]:\n",
    "        moves += ''.join(c for c in line if c in '^v<>')\n",
    "    \n",
    "    return map_lines, moves\n",
    "\n",
    "def find_robot(grid):\n",
    "    for y, row in enumerate(grid):\n",
    "        for x, cell in enumerate(row):\n",
    "            if cell == '@':\n",
    "                return (x, y)\n",
    "    return None\n",
    "\n",
    "def simulate_move(grid, pos, direction):\n",
    "    grid = [list(row) for row in grid]  # Convert to mutable list\n",
    "    x, y = pos\n",
    "    dx, dy = {\n",
    "        '^': (0, -1),\n",
    "        'v': (0, 1),\n",
    "        '<': (-1, 0),\n",
    "        '>': (1, 0)\n",
    "    }[direction]\n",
    "    \n",
    "    new_x, new_y = x + dx, y + dy\n",
    "    \n",
    "    # Check if move would hit wall\n",
    "    if grid[new_y][new_x] == '#':\n",
    "        return grid, (x, y)\n",
    "        \n",
    "    # If there's a box\n",
    "    if grid[new_y][new_x] == 'O':\n",
    "        box_new_x, box_new_y = new_x + dx, new_y + dy\n",
    "        # Check if box can be pushed\n",
    "        if grid[box_new_y][box_new_x] in ['#', 'O']:\n",
    "            return grid, (x, y)\n",
    "        # Push box\n",
    "        grid[box_new_y][box_new_x] = 'O'\n",
    "        grid[new_y][new_x] = '@'\n",
    "        grid[y][x] = '.'\n",
    "        return grid, (new_x, new_y)\n",
    "    \n",
    "    # Empty space\n",
    "    grid[new_y][new_x] = '@'\n",
    "    grid[y][x] = '.'\n",
    "    return grid, (new_x, new_y)\n",
    "\n",
    "def calculate_gps_sum(grid):\n",
    "    total = 0\n",
    "    for y, row in enumerate(grid):\n",
    "        for x, cell in enumerate(row):\n",
    "            if cell == 'O':\n",
    "                gps = 100 * y + x\n",
    "                total += gps\n",
    "    return total\n",
    "\n",
    "def solve_warehouse_puzzle(input_str):\n",
    "    # Parse input\n",
    "    map_lines, moves = parse_input(input_str)\n",
    "    grid = [list(row) for row in map_lines]\n",
    "    \n",
    "    # Find initial robot position\n",
    "    robot_pos = find_robot(grid)\n",
    "    if not robot_pos:\n",
    "        return \"No robot found in input\"\n",
    "    \n",
    "    # Simulate each move\n",
    "    for move in moves:\n",
    "        grid, robot_pos = simulate_move(grid, robot_pos, move)\n",
    "    \n",
    "    # Calculate final GPS sum\n",
    "    return calculate_gps_sum(grid)"
   ]
  },
  {
   "cell_type": "code",
   "execution_count": 2,
   "metadata": {},
   "outputs": [
    {
     "name": "stdout",
     "output_type": "stream",
     "text": [
      "Result: 1434152\n"
     ]
    }
   ],
   "source": [
    "actual_input = \"\"\"##################################################\n",
    "##.#...OO#O...O.O..#.#O.............O...O.O.O.OO.#\n",
    "#O#O.....O...O..O#OO..O..OO....OO........#..#....#\n",
    "#..O.O.O...OOO..O..#.#..O.OOO....O.....OO#.O#.#.O#\n",
    "#.....#....O.O..#.#.O...OOO..#...O...O....OO.....#\n",
    "#O.O#.....O....O#.O..OO.O...#O.........O...O.O.OO#\n",
    "#..O..#OO.........O.#...O....O..OOOOO.O....O..O.##\n",
    "##O#....OOO......#O#.#.##O..O...O.O.OOO#.........#\n",
    "#O....O...O...O#OO.........O.........O.O.......O##\n",
    "#......OOO...OOO.O........OOOO.....O..O.O......O.#\n",
    "#.O....O#...#O.O.OOO...O...O..O...#OO.........O..#\n",
    "#....#O..O.O#.............O...O#.O.#.O....#......#\n",
    "##..O..O.OOO.O...................O#...O.....#...O#\n",
    "#....O.O........O.O.#O.OO...O....O.....OO....O...#\n",
    "#O...O.O....OOOO.O..#..O..O.#....OOOO#.....OOO.#.#\n",
    "#...#O.........O......OO..O.O..#...OO#.##.#...OO##\n",
    "#...O...OO.#...O....#..O...........#.......O#.O..#\n",
    "#....OO.......O...##.#...O..O.O..#..O.....O.O.O..#\n",
    "#..O.O...O....O..O....O.O..O.O.O.......OO.....O.##\n",
    "#O..O.........O.......O.O.O..O#.OO.O.O.OO......#.#\n",
    "#OO.O..OOO.....OO.#..#....OO..O.#.#.O..O.O.O.O.#.#\n",
    "#..O...O.....OO..#..O...#....O..OO.#O.O...O.O..OO#\n",
    "#.....#OO.O...O...#O..#..OO...O..#OO...........OO#\n",
    "#..#O...O..#.O...O#.....#O.OOOOOO...#.O.O.O.O..O.#\n",
    "#O......##.O..O........#@.....O..O#......O..OO...#\n",
    "#......OOO..O.......#.....OO##...O.#O...#.O..O...#\n",
    "#...O..O.....OO.O.#O.#..O.....O.O...#....O..O....#\n",
    "#O....O.O..O..O..O..O..O..#...O.O.....O#.O.#.#OO##\n",
    "#.O.....OO...OO#........OO....O...O....#........O#\n",
    "#.#.....OO..O.O.#O#.##.O..#O#................OO.##\n",
    "#.........O#OO.O.....#..#...O#O....O.O..O..O.....#\n",
    "#OO....OOO.....O.............#OO#...#....#.O.....#\n",
    "#.O#.....O#...#.O..O...O...#.OO..O...OOO#..#....O#\n",
    "#.#.O.O..O......#...OOO.......##.O..OOO#.O.O.....#\n",
    "#.........#.......#..O.OO.#.OO..O..O.....OOO..O..#\n",
    "#..#...O#O...............OO.O.O.O..O..OO.....#.#.#\n",
    "#O#.O.O.#.O..O#...O..O....O....OO#O.O.OOO.#..O...#\n",
    "#...#.##........OO.O.O..O.....O.O#OO..O.O.O.##O..#\n",
    "#O#...##.#...OO.OO.#O..O..#OO..O.O......O.O......#\n",
    "#.OO....#.O...O........OO..O.......O.O#..O.......#\n",
    "#O..O..O...O...O......OO..O..O.OOO.#...O....#O...#\n",
    "#.....#...#...OO.O...O.#..#..#OO..........O.O.#O.#\n",
    "#....O......O#.O.O...#...O..O.O.....O.O..O.....OO#\n",
    "#..O...#.O..O.O...O......#.#OOO..................#\n",
    "#.O.....OO.O...OO.......O.#...#...O....O.....O...#\n",
    "#O##O.#..OOO...#......O..O..#OO.........O..O...OO#\n",
    "#..O.O...O....O..O....#O.......O......O..OOOO##.O#\n",
    "#..O.#O..O.OOO..#O.......O.#.#OO.O.O.O.O..O.#..#.#\n",
    "#.....O.OOO...#.O.O..O...O.OO...OOO..#.O.O.OO.OOO#\n",
    "##################################################\n",
    "\n",
    "<v><v><><vv>v<v<^>><><>v^v>v>v<>^v<<>>v>>v>v^><>><v^v><v>v^v>v<^vv>vv><>v^^v>>v>^>>^v<v<^<v^^^<<<<v>>vvv<v<vv^><<>>^>v^^v>v^v>>^vv<^>^v>>^^>>>>v<<>^v>^^><^v>^<<<^<<<v<<v^>>^v<>v>>v<v^^v>v><<^vvv<>>v>>v^^^<vv<>^><^>^<<>>^<>v>v<v<><^>^v>^<^<^^^v>^>v<v^vv^<vvv><v><v><<^<v<v>vv<>>v>>^^v>v<<^<^v<<<^>v<<<^><>v<>v>vvv^^^<v><v^<vv>v^^<v^vv<<^<^v^>v<vvv^^^^<>v>>^>>>>^<>><>v<^^<v<>v^<^v<^v^^^v<><<vv<><vv^>v<><vv^>vv>vv^>vv>v>v>>><v>vv^>v^^v>^vvv^>^v^^<<<^>^>>>^<>^>^v^v^<>v^>^<vv>v<>^^v>>v^<>^><vv^<<<>v>^>>^<<v>vvv>><^><^^<v^>v<^>^<><^><vv<v>v<^><>^^>v^<v<>>vv^><^>v^^<^^vv^>vv^^v>>v<^^v^v>><v<v^^v^v^vv>>^^vv^^v^vv^v<^^>>><><^^<<>v><>v<^^>^<^<v><^vv>v>>>v<<v<<^^>><^>>^^v^<v<>vvvv<vv>^^<>><>>>^^v<><>>^<<<v<<v^^>>>v^>^v><><>^vvv^>>v^^^v>^><v^v^><^^<>v>vvv>vvvv>>>v<^v^^^vv>>v><<v>^<>>^<v^<v>>>v>^v<<^v<^^<^<^vv^v<>v<v<>>v^v<<^^^v>>><v>v^><v<<>>vv<<<v^>^v^^v^>^^^^>v^v<<^^v^>^<>^<<<<v><<><><<<<^vv<^v^<^>>v>>v<^><^>^<^v<^v^>^^v<^^^v^>^><^v>>^<^^^>^^^^v<><<^^<>>>vvvv<<^>v>^>v>^<^v<^^v^<v^><>^^^<^>><<^^><<\n",
    ">^><<>vvv^<>>>^>vv<v^v<<^<><<><<>>^>^>v>vv<v<vvv<<<vv<v><^^><^>vv^v<v>vvv>^^^<>>v^<v<^v<>>^<vv^<v^^v<vv^<<^<>^v><v><>^^>>>^<^v><^^^><<vv^>^>v<<<<>>><>>^>v^^vvvv<>v^^v><v<>><>v<^^<>>vv^v<^<>>>^^^<^^>vvv<^<<v<><v>><^^<^vv<v>vv><>v<v><^^>vvv<><<>v<<^<<<<^v>>><<v^vvv>><v><v><^^^>vvvv><<>^<^>^^>>^^<<^^v^^<<^vvvv<v>vv><>>^v>^>v^<<>>><v><>><<>vv><v^><<v<>><>v><<<>v>v<>^^^v<^>^<^<^<>>>><>v>vv^<<<^v^<<^<>^<v>^^v^>>v^<<^^<><><<<^>>><><v>vv^>v^>><^>>^v>>vv^<v^v<v<v><<^vv<<vv>^vv<v^v>v>v>>v^<vv^<v<>^>>v><>>vvv><>>>>v^<<^^<<^vv>^v>v<v<^<^^><<v>^^>>^<^<vv>>><^vv^^^>v<^^<>v>^^^>^<<<><>vv>^^<^<^<<<vv^v><^>v^v^<>^><^v<<>^>>^v^<<v>v^><v^^<^<<v^^v>v<><v>vvv^<>^v>>^^^v><>>v<<vv^v<^<>^<>>v<><<v<^>^<^v^^^vv><^vv>>^<>>>v<vv^<v^<^>v>>^<v<><>>>>><>v><v^<v^<v^<>vv^v<v^<v^^<v^<>v^v^>vvv<>^v<><^>>v>^<><<^<>^<v^>><^^v<<<vv^v^<v^>^><^^v><><v>v^<<<><v^>v<>^^<<<><>v<^<<<><^^>^^v<<v>v>><<v^vv^>^>^vv^v>v<<v^<v^<<>^<v^><>v>>v><>^v^<^vv<v^<vvv>vv<^vv>v<<>v^^<^<<>^><^^<^v^<v<v>^v<v<<<>^^><<<v<v>v>v><>^<<v^>v<vvv>^v^vvv<<<\n",
    "vv^^><^>v<<vv<<vvvvvv>^>v^><^<v^<><^<v>^v>^<>^^^^><<>^^>>>^>^<>v^<^v^^v<v>vv><><<>>^>>>v<vvvvvv<^>>v<<><<>v^^v<v>^>^<v>^v>vvvv^vv<^><^<v^vvv>>>vv^v<>^>^>^>vvv^><v^<v^>^^^v>>v<^>><<^^v^<>v>><^v<v>v<v<<>^^vv^^v<<<<vv><>>^vv^<^vv<>>v^>vv<^<v>><<^>^>>>^v>vvvv^<v<^^<>vvv><^v<>^<<v<>>v<<^^><v<<v^>>><vv>>v^^<<>v>v^^^<<v<^>v^>^v<^<v^^>><<><^<<<><>^^<v<<><>^v^>>^<>>v>>v<<vv^vv>>>^>vv^v^<>v<<v<<^^<^^<<vv>>>^>v<v^^^v>^<^^<^<>vv>v<^v^><<vv^^^v>>>>^^^>^<v^>>>>^><>><<v^><v^^<<^><v^^<>>>>vv><v^^vv^v>^v^><>v^^<><><^<><<<<v>>v<^>^vv^^v^<^>>>>^v^^^<v^v<^vv>vvvv^^vv<^<>><vv^^<^<>^^<^v^^><<>>^v>><^>v^vvvv><<^v>v>>^v^v<<>v^<^^<v^v>^vv^v<^v<>^v<vv>^>vv>>v<v^><^v<<>^^<v><^>><vv><>v<>^>^>vv^v><vv<v>vv^<<>v>v^^><>vvv>v^<<>^v<<>v>v>>><v<^^^^<>^^v<^vv<v<vv>vv>^vvv>>^^<v>v><^vvv<>^v^<^vv^<vvv^v^v^^><<<>^vv>>>>v><v^<^^^<vvv<^^^^<><>v^v>>^^^^v^>^<v<^^^^>^^>^^><^<^><^<<vv^<vv>>vv<v^<v^^><>^>>><^^^<v<vv^<<^vv><><vv<>>>v^>>v<>v>>>^v^>^<<<^<>v^>^v>>^<<v^<><^<>>v^v<^>^><^>v>><^v^^^>v^>^^<^v^^v>vv>v<^^^<^><^vv^v>v<>v<^vv\n",
    "^^>v<><<^vvvv>^v>>><^^<vv>v>><<>v>vv>^>>^^>>^><<v^<<><vv<<>v><<><>vv<v><<vv<^<^><v><>^v^<>v>^^>v>^<<<^<>v<<>v<><>v<<v><^>v<<^v<<^v>>v<^<<<^<><^>>^<>^^>>^<v^>^vv<>>^v^<><>^v><<<<^^><^^>>^^^>^v><v<><<^>^<<^<^^<v^>^vv>^>^v<>>>><^v>v^^^>>><>^<>>^^<vv^v>^>>><v>v>><^^v<^><vvv><><>v^><>>>^v<>>vvv><>v><<v>>>v<>v><^><<^<v<>v<><<^><<^v>>^^>><^^v^><v>vv<<^><><v>^>><^><^<^>^v><v>^^v<^^<v^<>v<vv><^<>v^>^^<^v>^<^^>v><<^>^>v>^>^><>^<v>>^<v<^>v<^vvv><v^v<^v^>^v^^^>>>vv<^<>^>>>>v^>^>v^vv^^v<^^v^^>>>^^vv>v>^v<^^v<vv^^>>v^^^^>^^>^^<vv^>v^v<><v^vv^vv><^<^><<<<<<v><<>^vv><vv>><<<v<^^<^<v><^><>>v>>v<v<v>^^v<^^<>^^v<>>v<>>><^>^<><<v<><>^^v<<vv><^v^<<<>v^<^<<^vv^^^<<<>v<^^>^^v>>>>v>>^>^>^<^v^vv^^<>v>><<^v<>v>>><<v>vv^><v>>^^<><<>>>>><^^^<<^>vv^v>^<>>^^^v><v^<<>v>^>vv^<v<^<<^v^v<^<<<vv^<v<vv><^^^><<v<vv^v><<<v><vv<vv<>^^^^v^^vv>>vv^v><^vv<^^v^v<v^>v<<v^>v<>^>>>><^>^>>vv>^>v^v<<<<<v<v<^<>^>vv^<^^><^<^<<>><>^>>>^v><^<<>>^><><<>v<<^v^^<^>v><vv^^vv>^^>^v>>^>vv<<>>>>v<<^>>v<^<><^<>^<<^^v^^<<v><<<^v>v<^>^v<<^><^<^v^\n",
    "^>v><>^>v^>^vv^^v<<<<><^^<^><<^v<v>v<<>>>><>^^^v><>v<^v><<<<^<>v>v>^>^><vv<<^>^<><vv>^^>v<v>vvvv>^^^<>vv^>><v>^<^vv<<v<<^^<vv<^<^v^vv><v^^vv^<^>^>^^^^>><^>v^v^^v^<vv^>>><^^^v<^v>>v^<^^v>v>^v>^<vv<^v^v^vvv>>v^><v^><<<>>v^^><v>v><<<^v><>v^^vv^v>>v><>^^^v<v>^<vv>v>^>^v<>><>>v^<><><^vvvv^>^^<>vv<v<<>><<<>><<<<>^v>>v^^^v>vv<<v<vv^<v>><>vv<v<<<<><v^<>^v^v<^>><^<<>^>v>^>v>^>^>>>v^>v>v^v^^^v<^>>>v>><<<<v^v<^<v^v^vv>vv^vv>v^v^><<^<><<<^^>vv<<^<^<v<vv^v>vv^<^^>>>vv^><<<^<><>^>>v<^^v><<<>v^v<<<^<<v<<^v<^v^^^>^<^^<<vv>^<^>^vvv>^^><^><^v>v^>v<v><<<><>v^vv^v<<<<>v^<^^v>v>v^^>^v>^<<>v<^<><^<vv<^<>>^<>>^<v^^vv<<<v<<^>^><^^vv^<<<^vvv^^^>^v^^v^<><^^>^^<^<><>>><^v^>vv^>>><v^v^>v^<<>v<v^<vv>^<^^^<<>^<v^vv>>^^<v^<>>>>^<>v<v<^^><<>v^^<<<^>>^v^^<>>v><v>^v^v^>>^^>^<<<>><<>^^>>>^^<>><>><<<<^<>^>^v^^vv>><v^^<v^><<v>>><v<<<^><>^<<>>v<^v<v><>><^>>^>^<<<^v>^>v^>vvv>>v^^><>>v^v<>v<<v^^>vv><<<^<v^>vv<>^v^^^>^>^<>^>^<v^<>^vvv<<<>^>><><^^^v^<^^>v^<v^<^^v^>^<^^<>v<<>>v>^>^<<>vv^^^<>^v>v^<^v<<v^><v>>^^<<vv<<>>v<<><v>>^v\n",
    "<^>^vvv>>^vv<><>v<v><^>>vv^v^v^<^<<<^<vv<>v>><<v<^>><vv<<v>vv<><>v^v>^><^>>^v<^<<<^v><><><<v^<<<^^<vvv<v>vv<^<v<^v<<><<^v^^v<^<><^<<><<^v<<<><<^v<<^<^<v>^>>v>>>^^>>^vv>>^>v<^v^>^<^<v<^<<<v^v^^><v^^><^<>^v^^><v<>v^><^<<vv^v>v<>v<>^<v^vvv^^v<^^>v^><>><^^>vv><>>v<>>vv^>v^^vvv<v<v>>^v<v>>v>v><vvv<>^>><^vv^<<^>^>^vv^vv<>v^<vv^^><>vv^<<^><^v>>^^^>v^v<><>><v>^^vv<><<^<^v^<>v^v>^<><<<>vv>^<^^>v<>>v>v<^<<>^v<>>>^<v>^>^^<v>>^<<^><v>>v^v<vv>>>^<^v^<^>^<v>><vv^^><^>v>^>^^>><><v<^<<v<v<^^v^><^<<^v<>v>^^v^>v><<<<^>^v<v<v^^^>v>>v^vv>v^^>^><<>^<^<>vv<<v<^^^>><^v^v<v^^<^v^<^^v<^v<><^^v^<^<^^>>^>vvv^<<<^v<<<<<^v^^<>^<>v<<v<^>>^>^>vv^v<vv<^v>vv^v^v<>>^>v^v<v^^v>^v^v^^v^^<<><<^>><>^<>v^<<<><<<^vv>v<vv^>v<vvv<<><<^<<vv^^^v<vvv<^<vvvv>v>^>^v<>>><><^<vv<<v<^<v>^v><<><<v>^<^<<vv<^>v>^>>vv^^>>v<>^vvv>>v><^<<v^v^^^>^>v<><>><>v><<<>v^^vv<^>v<>>^vv>v<^^>v>^>v<<^<^<><v^^<^><v<<<>^^vv^>><v<v<>>^>^^^v^<>^v>>>v^v<>^<<^>>><<v>^>vv<>v>v>^vv^vv^v<v<^^<>><>^v^>^>v><^^^>>^vv^>v>v>v<vvv^v^><^>v^^^>vv>^^>><^^^^<^v<v<><v>^>^\n",
    ">vv^^vv<^vv>^>^v>^^<^^^<>^^<<^<v><vv<>v><vv^v^<>>vv><<^^<<>^>v^<<v^v<>v^v>v>v<^^v<<vv<>^^<><v^<>^>^<^>><>v^^^>^vv>v<<><v<<<v>><^v<^v^^<>>v^<^vv^<^v^v^^v^^^>^v^^><^><^>^><v>^v>^<>v^v>v^^^^>>v<v<><^^v>><<v^<>>>>^v^v>vvv^v><v>vv<^^v>v<^<vv^<<v>>vv^>v<^^<<^<^v>v^v>>>v^v^v<v>v^v^>><v^>vvvv^>v><^^vvv<vv<<<><>^^<^<>><vv^vv<^>>^v<v^<>^^v<v>>>><v<>v><^v^^<<v^>><^<^v^^>vv<<<v><v^>v>v<vv><v<<v^<^>>v^^<<>v><<<v><>>>>vv<<^v<v^v^v<>>vvv^v^v<^>>v^>^<v><><>><>^<<>v^vv><<><>^^vv^v^^v^><v<<^^>>v^v>v^>>^<v>^<>v^vv^^v^v>v<>^v^<^<>v>v<^v^><vvv^><v<><<^v<>><^v^>>^v<<v^^<<<><v<vv^><><^>vv<<v>^>^<v<^v^>^vv^><v<^>>v<^v^vv<vvv<<^^<<<v><<^^v^^<^<>^v^><><<^^><><<<v^>><>v<>>v>><^^v<v>>vvv>vv>>>><>vv><v<<vv><vv<<^v>^^^>vvvvv>^^<<<v>^vv^^><^<^>^vv^><>>v<>v<^>v>>v^^><^v>>v<>vv^^v<v^v<v>^><>^^<>^^<^>^<>><<v<v>>><>v>vv^<^<<>>^>^vvv>v^><^<<<>><v^v<v^<<<>^>><v<^<v>v^<^>^><v>^><v^vv^>>v<^^^v<<<v<v<v>v<<^<vv^vv^v>>^<>>>v^^vv^<<^><^v<>><^<^<<<^<^v<>><^v^<^v^<<<vv<v^<^<^^v<>v<>vvvvvv>>><>><v>^^<>^>><v^vv^v^>vvv>^>v<v><v^>^vv\n",
    "<<vv><>v>>v>>vvv^>v><<<v>^>^<>^<<^v><^v^v<<v>^<>v>^>vvv<><^^>vvv^v^>><<><<>^<<<><v^^>vvvv>vv>^vv<^>v<>v<^v>v<^^>v<^vvv^^<<<vv<v<<v<v>vv>v><v>><v^v^<<>>>v>^^v^>v^^^>^><<v^vv^v<^v<><v<^<^><vvv>>vv>v^<vv^><><>v>><^v><>vv^^<vv<^v<>>v>^<<^>>>^>vv^<><v<^>v>vv<v><v^<<v<^><^>>><v<^<>>^<v^<<^>^>^v^<<v^v<^^v><>v<<^<v^vv<^>^^^^<>^vvv<<^>>><^><^<v^^^v<>^>^vvv<>^<<>>v<<^^<v^<vv>>^>><^v^<<^^vv><vv<<^v^>><v^^<<v<<vv<<^vv<<vv^v>>^^>v>>v^v^^<v>^><<>^^^>>^v^<v<^^^<v<>v^^v>^>^<<^>>v^v^^^><>>>v^>>^<^><<>^v><<v>^<^>v>><<>>>>v<v>^><^^>>^^>vv>^>^<^v>v^v<<><^v^<^vv>^<<v><<<<v>^v<vv^v>vv<<<><>>><^v^>^><^>>>v<>>^v>>^v^v^>>>v<<^><>v<v<^>>^>^<^><^<v<<^^v^^><vv^>^<><vvv<v<v^^^<v<^><vv^v>>v<<>^<>vv^<<><<<^<>^vv>v^>^v^v^<^<>^><^>>v^^<<<v>>^><<>><<v>><^<<<>^><>vv><^v><<>v^^^^^^>^vvv^^>v>v<^vv^^<<vv>>v^v^>^<<v<v<v>vv><^v<>><^^>>^^<v^<^v>v>>v^v<v>>>v^<>v><^^^<>^>^vv<^v>><^v^><v>>>v<v<<<><<>v^v<<v>^^v^v^<<>^><>v^^><v<vv<^<^^<^v<<>^<^<<^v<><v>^>^<>>v>>v^v<<^^^^<v<>><>>v>><^><v^>>^^>^^<vv^^<<^^>^>^<vvv><<>>vv<<>>><^vvv>><\n",
    "<<^vv><v><>v><>v^<>>v^v<v<>v^^>vv><>v>>>^v^^>v<^>^^<><^<^<v^^<<>>>^^v><>^<vv^vvv^^vvvv><><^^vv>>^^<^<v<><^^^v>^v^>>^<v^>^^^><<v>><^^>vv<^<^vv^>^>^>^><^v^>^^><v>^<<vv<>v^<^^<vv<<v^^v<^>>^>vvvv<^^<><><vv<>v<^v><v^<<vv>>v<^v><v>^v^^v<^<>>^>v>^<v<<>>>^v>^><<<v<^<vv><v^v^v>^<<><^v<<>^>^vv<<^v><>vvv>vv<v^v>>^<<<v>>v>>>^<^<v>>^>^>^><^<>^>>v><^<v^^<v><>^^<^<^^<^v^^<><^<>>v<^>v<^<v><^v>^>v^>>v>v<<><><<>^<<>vv>v<<^v^^^><v^><><v^><^<<vvv>^<^^vv<><<vv><v>v>^v><v^<<<<>v>v>v<v<v>^>^><vv><<^>vv<>vv^^>>vvv^><><v<^>>^<>v><>vv>>><<>>^>^<<<v^<<^>>>^^^><>>v>>>>>v<>vv<><<^vv>^<^<vv<>>v^vv>>^<^v>v^v^<>>^>>^^<<><^<<>v<<>>>^<<<>v^^>><<vv<>v^v^>><v^^>>^<v^v<vv>>><<v<>vv^v^<v<^vv<<vv>v>^^v><><>v><<>^^<^^^>^v^^>vvv<><><>^><vv^<^v><><<>>v>>>^v^<^v<<<<v>v<><<<>>^<<>^^<<><><>v><<vv^>v^<v<v^vv<v>v>v^^v^v^^v>vv<v>^^>v<>v^<>v>^v^>^>^<v<^^<^v<vv^^>v^^^vv>>>^v>vv>v^^vv^^v^^v^>>^>><^v^>^v<^^>^>>^>^>>>>>vv<>v>^><^^^vvv><v^<^v^<v<>>^vvv<v<>v<<>v^v^<^v<<>>^^v<><^^<vvv>^v<v^^>^v^>><v><^<<>v^<v<>vv>>>><v<>v^v<^<><v^v^vvvv<^<>\n",
    "^>><>^v^vv<^v^v<^>>vv<<^^^^<><^>>><v<v>^v^^>^<>>vv>vv<><^>>v<<<><^<><^<>^<<><v^<v><v^<^>>>v<^^>^<>^>^<^^>><^>^vvvv^^v^v^>^<>vvvv<>^<v<^v>^^>^<<^><<v^<><vv<^v<v^>^>^<<v^v^v>vv^><<^<v<<v>v<<^>^<>>vv>v<>>>^>v^v>><>>>>v>>^<vv^>^>>vv<vv>v<<^><v>>vvv<<><^^<>^>v^<vv><vv><<^<>^<>vvv><vv^>^vv^vvv^^>^v>>^><vv>v<v^^<^vvv^<<><^>>v^<^<v<<^<vvv<>^><<^><>v<<v^^^v^>v>^vv>v^v^^^>><^>^<<<>^<>v>^^v>v>v<>^vv<<v^><v><><^v^v>^<v>^<^<^v<^vv^>v^^v^>v>^<v<<v<>^<><<v<<<>><v^^^<>^>><>>><v>v<^vv<^v^>>>^^^^v^<><vv>vv>^^v^<v>vv^^^<v>^v>v>^^v<v<v^vv<>><<^^<<^<v^v^^^^>vv^><vv<^>>^><v<vv>^^<^<^^>^^<<<v>>v<vv>v<>>>>v<v>^^^>>vv<^v<><v<<^<>^v>^>v>>^<<^>v<vv><<v<v^>>^v^>>><v>>vv<<<v>>^v<<><vvvv<vv<^<<vv>^<><^<^v<<>v>v^v><vv<^>^>>vvv^^>>v^<vv^<^^<<^>>^>><^>v<<^<>^vv<><^v<^>vv>vvvv^v>^<vv<>vvvv>>>>>v>v>^<>vv<<v>>^v^v<v>>>^vvvv<v><^>vv><>>v>^<^<<^^<>vv>v<^v<^<^><v^vv<>><>^vv<v^<^>^^<v^^>^vvv^>^v^v>v^v><<<<<vv<^^vv^^<>>>>vvv^<^>v^<^>>vv^>v<>^v^<v>vvv>><<>^<v<^>v<v^>^^<v>><vv><v^^v^v<<<<<<<<>>>>>v<^^^v<<^^v^<>v<<<>v>^<>>^^^>><\n",
    "><<>v<^<<^v>v^^>vvv^>vvv^>^v><^<v<^<^^<v^v<v>>^><>>vv^<>^>><>^v^><<><vvv<^^^vv<vv^<><><<v^<^v>^^v^<<^<>vvvvv<v>v^><^>v<<^<^^<^>^>v^vv<>vv<>><<>vvv<>vv>^^^v<><v<<<>vv<<>>v^^<^<v>^v>v<<vv^^vv<^<<<<>>><^>>vv<<>^v<<v>^<<v^vv><v>^<^<>v<^vvv>>v>vvv><vvv^<^v><>v<v^<v<v^^^><^>>><vv<^v>^v<^>v^v^v><^>^><<>v^<vv>vvvvv^<v<<vvv<^<>>v>^<<v^<<^^>><v>>vvv<<<>^^<^>^^^<<<v^><^>^>>v>v<^v<^>vvv>vvv^v^v>v>v<^^v<^v>^>><<^><<<><<>>^<<<<^<v^vv><<>vv>^v>>vv>^^>>^<>>^<<<<>v>^^^<^<^<<^^>^v^v^^vv^<>><^vv^>>v>^>>>>vv>^><<v<v^><^v<>^<>>v<v^v<^<v<^><<<v><^<<v>^>><^<><vv<^<^>v<^>v^^v^v<<^>^><vvv>>><<v<<><vv^vv<><^v^>>>vvvv<vv<^v^>v^^v<<<^^<<<v>>^<>^v<<>^^>^^v^<vv^<<>><^<^><>><^^<vv>v<<v>vv<><^^v><<<^v^^>vv<^<<^v^v^^>^><vv><>^vvvvv>>>>^v>><^<><<<>^>v^^^><><^v<^vv^^v<^>>>^><^^<>>v<v^^<<<<<>^v^^><^<<<>^<>^v<>>><>v><<<^vvv<^v^<<v^v^^<v<vvv^<^<^^<v<v^<v^vv^<^vv>v><v^vv<v^<^vv>v^><^>vv>vv<^<v<v^<^^>^<><><<^>^^>v^<^>^^v^v^^<<v^v^v>>v<>v>>^v>>^><v<^v<v><<<><<<v>^v><><^<^v<><<><<>v^<<>v<>vvvv<><^^^<<^^>^>>^>><v<>vv^<<^vv^>>^<\n",
    "<^vv><v^>v>^v><>^<<^>v<>v><^<<><<^v><<v>^>^^<<v^<^><>>v><v>^<><^<v<v^>v<^v>>^^>v><>^>^v^vv>>><<^vv>^<>^<^v^>vv><v>vvvv>^v>>>>v^v^v^v^>><^v^>v<^<v<<^<<vv<^^v>>^>>>^>^^^v<vv>v^<^^>^>^v^^v>v<^<vv^^^>^<^v^v>^vvv<>>vv^v<<v^>^v>>v>^<^^>>>v><<^<<^<^v<v<v>vv^^>>^<^^><<<^^^>^^<>>^<<v<v><^vv>>^v<vvv<>v><><^<v>v<><v<<^v^^>vvv<>^^^><<<<v>^^>>>vv<^v^^>^>^v>>><v^<v<^<<v>^><>^^<<^v^<^>>v<^v^^^>^><><vv<v<v<^^>^v^^<vv<><<^v^><<>>^^^>^^><<<v>v^>^<vv<><<>v><>>v^<^<><><>^^^^>>^v^<v<>^^^<^^>v^^v<vvv<>><v<>v>^<>^vv<^<^^>>vv<<>^^>vvvv><v^v>vv<v>><^v^>^^vv><>v><>v^^><v>^>^^>^<v^^vvv^v>v<^>^<^v<v<vv^>^><>^v<><vv>^<<v<<<>>v>v>v^<v<>^>v<>v^<<^v>^vvvv^v>^vvv<<v>vv>><^v>^<<v<^vv^>vv<v<>^^v<v<<v<^^v^vvv<<vv>v<<<^>vv>v^^v^^^<<><^<v<^^<v^^^>v<^^v<><>^>>><><>^^^v^<>><vv<v><<>v<>>^>^v>^>vv^<<^v^^^<<^vv>>>>^^^^^^<<<<<^vv^v<<<^v<<<<><^^><^<<>>v><<<v^^<>^>>><^^v<^v>>><>v<>>v<^>><^>vv<^><<v>v<<>^^^<<<v^>>>v<v>^<^>>^v<>>^^<^v>v^vv>>^vv>^>>v<<><>^><<>vv<^v><v^<vvvv<^^v<v><^>><^<^<^<<<v<v<>>^vv>^<<^<v^v>>>vv<v<^<v^>v^v>^^^<v<\n",
    "<^>v^^<v^<v^>^>vv<<^<^vv>v>^><^<<vv><^^vvv^>^><v<^v<<^>>v<vvv<v>^>^v>vv^^>^^><v<>>>vv<<^<^v^^^^>^^vv<<<>><^v<<>^^>v^<<v>>vv<v>vvv^v<v>>>vvv>vv^>^^^^^>^v^<<><v<^v><v<v^v>^><v>>v><<<>v^v<>>v>v>^>^<^v>v^v<v>^><>vv^^^>><v<v<<>><>^v^v^^<vv^<^<<vv<^^>>v>v<>^>^^v<v<vv>^>vvv>v^v^><>>^<v>>v^^^v^>>^^v<<<<v>^^>^<>v^v^><v<>v<><<vv>^^^^<v<v<v>v>^^<<<>^v^>v<<<^v^>>^<>^v<^^v^<^><<v^<v^^^v<v^^^^^>^^^v<>>>>^>>v^><v^<<^^^^<^<>v<<<^^>>v^<><v>>v^<>^>><><><<^>^<^>>^v^vv>^<^<>><v<>^<^^^^>^^>^^><v<>v>>><>^^<v^^^^vv<vv^^>^<>v><><^>^^<><><<^<vv><>><^^>>^<v<v<v^<^<<<^v>>v>v>^v^v^^^<^vv<<v<vv^<^<v>>^<v^v>v^>>v<^>^<<><<^<><v^^v><>^v>vv>>>vv><^<v^<^^^^>v^v<<v>>v<>v<<^<><v<<^^vv><><^>^<vv^<<>>>>vv>^>>^^>vv^>^<<v<<^v^><^<>^^^><>v<<>><<>v><^><^v<>^><>v><^<><^v^^vv>>v>^^<^>^^<<^^<<<>^>^>^<><<^>^vv<<^>^v^v<v<>>v^<<<<^>v><>^><v<v>^>v<>^v>>>v^<><<>>v<<<v<<><^>v<vv<v<^>v<^^v^><<>^<^^v^^>>><>v<<<v<^<vv><v<<^<>vv>v>v>v^<>>^<^^<^>vv^<^>^<>^>^vv<vv<>>^><^v^v^>>vvvvv<^<v<<^<^><v<><v>^^vvv<v<^^<>>v^^v<<vv<^^v^<^v><^<<><^><^>^>v\n",
    "<^vv^>^^v^<^v>vv<><<v<^>><v<><<<>>>vv^>^>vv<v<<^^>^^v>v^>^^<<v^v>^<v<<^^<v<><<v^v>^>v^v^vv>>vv<v^>v^><^<^>>>^<<vv><vv^^v^<<<^vvv><v>v>><vv^^>^<^v>v^^>>>><v^<v^<>^vvv<v<v><<>^v<^<<>v>^v<vv<>>v<<^^<v^^v<v<<<>>v><>^v><<v^v>>^v<><<<^v^^^<v>^v^<^vvv<><>>><^^^^<^^^v^v<^>vvvv>vv^>>v<>vvv<v<><>v>v<^vv>v^<<^^<><>v<><<>>>^<vvv<>>^<<>>^vvv>^v>>>>v^>^^<^>>v>>^v^v><^^<>vv^>v^<>v<^>v><<^>^^<>^^v><<<<^v>^v^^^^^v^><v^<^><^^>>>^<^v<^v<>v<vvv<v>^>>v<v<^v>>^>>^^>>v^<>v<>^>v^vv>v^^vv^><>v>^><^v<>>^>>^><>v^^>^^><^v><><<<<><vv^^v^>^<<>^^v^>>><vvv^>^v^v^><^<>vv^vv>^<vv<>v^v>^^<>>vvvv^v^^<^><v><>vvv<<><vv^>><<<^^<<^<>>^>^<>>^<<^^>>>>vv>><v^v^<v^>^<^vv<>v^><>>><vvv<v>vv>vv<v<v^^<>v><>vvv<^^^>vv><vv>>v<^>^<>^<<<^<<^^>v>^vv^>v<<^^^><^>^v><^v>vv^^^v>><v^<^><<^<>><^>v<>^<v>v^<<v><^>>^<<^<vv^><<^^vv^v<vvv><vv^^^<^^^^<vv><<v<v><^v<v^<^vv^>^^<><<>^^^v^<^<<^^v<^><^<<<><><<vv>>^>>>v<<^v^<v><^vv<>><>>^^v<<v><<>>^<>>>^<>^vv<<>v<>vvv>v<^^^v<>>v><^v^^<^^>v<><<^<<^>^^vv>v<v^v><>^^^vv^^>>^vvv>>^>>^v^^>v<>><^><vvvv<><v><^v^>>\n",
    "<v^<^v^^>><^>v><^^<><>v>^>v^<>v<<vvvv>v^^>>^<<vv^vvv>^v^><^>^>>><v^^<>^>>^<v^<^v^^<v^v^>v<>v^<vv^><><v<^<v^v^^><v<^>v^<<<><^v^^>v><>v^<vv<>><^>>^^vv>^^>>vv^<<<^v^vv^>>^<<v>>v>^><vv^^v<^>>v^<^><^<^^^>^^>^v<<>v^<^v>v><<v<<v^>^v^>^^<v<><<^>^v^^vv>vv^^^v>^v>>vv^v^^^>^v^^^^<<<>^^vv^^^><<^vvv^v<vvv><>^<v^v^<v^^<^vvvv<^^<vv<^<>><<v^^>^v^^<^v>^^<v^>^^>>>^<>v^^vv^v^v<v>>><^<>^^><>v<>^<<>>>v<^^<<>>^>>^^^><<><><v^^v<>v^<><>v<>v^<>v^^<^v^^^<>^^v><<^v<v^v>><<>v>v^^v^<<>>^^<>><^^<<<>^v^><^<<^^^^>><^<^^<<v^^><><v><<v^>v^>>^v^>>vvv^^v<^^v^>>v^v><^>^>>^>vv<^><<^^^><>^<v^^v<<<<^^vv^^vv>>^<<<>^>>vv<<v<>>v^v>^^^<^<v^>>^<^>^v^>>^^>>^vv^><^v>>^><<>>^>>v^v<>^^v<<<<^<>v^>><>>v^v^^^^^^vv>vv<^v^><^<>vv>^v<><>vv><v>>^>v^vv^><<><v<vv><<<<v>>^^v<v>>^v>^^><v<v^vv^v^^v<<^<^^v^<<^><<>><vv<^><^>>v^<^^><>^^<>v<^<v<<>>^v^v>>>><vv>v><>>><><^<>^<><v<v>v^>v<>vv<^<<vvv<><v>v<v^v^v>^>vv>^>^^<>v^v>>^><>><<v><<v>>>>v^>>v<v<>v<<<>v><^^^>>^vv^>^v><^^>^^<v^^>^^v><<>v<^<^>^v^<>^><^>><>^>^>>^>^^v>^v<^>^>^><<><>^>>^<v<^>v^<^><v><>^>\n",
    "v>>v^<v^>v^<>>><vv>v^<<>v<<v>>v><>^<>vv<^^^v<<v^v<^><>>>>>^^v^^<<<><>>^v^v^^v>>>><vv<<>>v^<vv><^^^>v^<v^>><<v>v<<<<>v<>>><<<vv<<>^^>v>^v<v><v>>><^<^><^<>vv>v<>vv<><v>^>^v^^v<<>vv<v>v<<<^v>^><<<>^>v><<><^<>^^^^v^>^><>><v^>>^<v<><>^^<^><>>v<v>vv>^<v^^>^<^^><^^<v>v^<^>>vvv<vvv>v>>><<<><<><>vv^^<v^>^^<>>><>>v>^>^<>>v><v^^vv^vv^<><^<vv>>v<^<<^^<<^>>v>><<v<^v<<<>^>>>^v^<v^<vv>>^v<^vv<v^vv^<v<v<<<v<v<^^<v^<><<^<v<<>>v>^vv^><^v<<v>^v>>v^v^><^<^^>^>vv>>^^<><v>v^^<v^^>>>v^>><>>^<>>>>>v>v<<vv^>v^^^^<v>><><^<^^<v>^^>^>^<<<><v^<>>v><<<>^v^^<v>>^>^><>^v>><vvv>v>^><^^<v<><vv^>v^<<<^v^^^v<>v><^^<vv^^v><^v><^^^>^<>vv^^v<vv>^^<<^^><><><<^>^v>><v^>^>>^^v>>^>>>v^<^<^<v<>v<<<<vv^^><<>^>v^^>^>vvv>>^v>^^^><><^<vv<><<<>v>v>v^<<^^<^vv^<vv^>>^v<<^<>^>>^>^<^^v<v<>>v>>^<^>^<^>^^<^>>>><<<vv>vv^^^<^<v><<^^<v^^<>><<v>^v^v^^^^vv^><<v<^<><>^v<^v<^>v^<><^^^>^v<>><^<^v<^v<^^>^<v^v^^^>v^><v>vv<>^><v>>v>v>^<vvvv<^>v<v<>v^<<<v<>v^^^^><<v^^^<^^<v>v>^>v>^v<^<^><<v^v<<^^v>>>><^<>v^><<v<^^^<v<<^vv>^^<^<>v^vv><<<^<<>v^<>^v><^<<\n",
    "^<^^><v<vv<<<>vvv<v^>>^^><^vv><<^^<<>>>v^v<><v^><v>>>>>^<v^<>^><>vvv^^^<vv>><^<v^><v^^>vv^<>^^v^^v<v^v<>vv>^v^<<<<v>>v<>>><v>^<<>^>>v><^^^>v><<vv<>v<^<<<vv^^^<^>>^<v<>>^>v<><<<><><<vv<^><><><<vv<>>^<<v^>>v>>^<v<v>>><<><v><<><^<>^v^<>^vvv^v<^<<^v^<<^v<^v^^^^v<^>^^<vv>v^><^^^>v>v^>^<>v>vvv^<>v^v<^>>^^>^>^<>>^^<<^>v<<>>^>^<<<><^vv><>><><<^><v^vv<^>v>>^v>^^vv^^<v>^<<v<^<<<^<><v^>v>vv<^><^v^v>vv^>>>v>^>^>vv^>v<v>>vvv^<^v^^<<>><vvv<<v>>^<><<>^<^>^vv^>^vvvv<><<<<^^>v><^^v>^<>>vv^<^v>><^>>^>><^v<^^^>v><<^<<>^^v>vv><^>v^v<>><vv^v>^^<^><^>^>v<<><^<v>^<v^<v<<^^vv<>v^>^^vv>^<vvv<^v>^v><v^v>^<><<><<v>v<^>>v<>^>><v^<<><<><vv<^<>>^v<v<<>>><v^><<<vv<>>v^>vv^^^^<v^^^^vv<^v<<^vv><<v^<<><>^>vv>>^>^>^<>vv><<^^><v^vv<<^><vv^^<^<>^v>^<v<vv^^><^v>^^^<>^vv<v>v>vv>^^><v^^^<^^v<v<<vvv<>v><>>^>>vv^^v^><<<^^<v<v<v>>><v>^^^>^vvv^v<<^<>vv^<<>>><<^<>><>><v><^<v><^vv<^^<v^^v<vvv<<vvv><vvv^vvvv^^<^<^^^<^<^v><^^^<v>v^<<^^>^vvvv^<<vv<^^v^>v>vv<vv<>v^v^^v<^vvv^>>v^<v<^<><v<><v<^v<vv<v<v><^>>^><^v>^vvvv><v<>^^^vv>v^<><^vv\n",
    "^><<^<<>v^>>v><vvv^v<^>vvvv<>^>>vv<^>>v<v^<<>^^<^<^^^^^^<<^<v^>v^>^^vv^^>v<^><^^><v^<v><<^v>v>>>^^<v>><^^>><<^^>^^^<v^>vv<><vv>>>vv^v^<>v<><^>>v^<v>v>^><<v^v>>^v^^^<<<>v^><v^<^vv<>>>>^>>>>^v^v>><<^>^>>^><^v^>^<v<v><<^>>^>^v<<v^<>^v^v<^>vv>vv^v^<vv<v>^^^v^^>vv>^^^>>v^<<v<>^^<<v>v^v^<v^v><<<v<vv<^v^^vv<vv^vv<<v>><^>v<v<<v>><v^^^<^<v^<>v^vv^>><^>v>>^><<v<^<^v^<<><>v>^<>>v><<^^vv<<v<>^<v^^v^vv>>^v><<>v>v<^<vv^^>v>^<^^<v^^<<v<^<^^>^<^v>>^<<v<>><v<v>v^^^>vv^>^<>v^>v^<<>^<><^>v<v<<v><^<<vvv>^v<><v^><><>>>^<<^<<>v<v<><<^<v<>v>vv>v<><<^v>>><v<^^v^<v>vv>>^<<v^<^>^><<<v^>>^<v>v<<>^>v>>>v<v^vv>^^v<v<<^<^^>^<>>vvvv^v>^^vv^<^><v><<^^><>>><<>^<v^^vv>><<^v><><v<vv><v<<><><vvv^<^^<^><<^<<^<><><>vv<>>^>^^vvv<v^v<<v<><<>^^^^vv<><>^<><v>^<>>>v^v<>^><<<<^<^>^<>vv<>^<v^v<>>><vv>v^<^<><<^>vv^v>v>^>>>^vv<><^>>>>>^^<>^>^^>^^>>vv>v>vv^^v<><v^<^><^<<>v>^<><^v<<><^v><><>^^<^^v^>^^>v^<><><^>v><^><<^vv<<<>^v^<<^^<^<><^<>^<><v<v<^<^<vvv>>><<<v^v^>vv<^>v><<><<^<^v>vv^<>^^v>v^>^<<>v><^<><<v<v><>>^>>v>v>^>v<>^<<v^vvvv>\n",
    "^^^<><vv<><<<vv<^v>v>>v><><v>><<<v^^vv<><^v><>vv^<^><<<^v>>vv>v<>v<><>>>^^v>>vv<^^<<<v>^^^>v<<>^v^^<<^>^v^<<<<^^>>vv><>>^<v^^v^<<><>>>v>^<v><vv><<v<>^>^<<^v^<>^>vvvv>>>>^><^vv>>^<<^>v^<^^>vv^^>v<<>^<>>v<<^<vvv<^^^><>v>>>^><^^<^><^^<>^>v<>>><<<v^v^vvvvvv^<<^v>><<^><>>v<^<v^<^<>>><v<>vv^><v><^^>v<^vv><><<^<<vv^v>v^><v>^^v<^<v<v^vv>>^^<<<<vvvvvv^>v<>><v>>>^<<^^<v>>^<<v^><><>vv<v^^^<^><>^v^<v^vv^vv>><<^><><v^>^v>^v<v<>^v^v>v>^^v><<>v<<<<>v>v>^<><<><><>v<v^^>^vv>vv><<><<><v<v>^^^^^vv><vvv<><><>><<<>>^>^v>^^<^v^^^>v^><v><><<^<v>^><>vv>vv<^^v<^><^><^<v^<>^<>v^vv<v^v>^>v^^>^^>><>^>>>vv<^^^<<<>v^><<^v><>v><<vv^^><vv^<^><<>>>^^><v<v><<<vv^v><>v><<^<^<v<v^<^<vv<>>><><v^>vv<<v^<vv><v^<><>^v^><><<<v<^^^>v<<vv<<^>>>^^v><>>>vv>><vvv^vv^><<<^v^^^vv<<<^^^<>><v^<v>v>>^><>^^vv<^^vv<^^^vv^>v^>^^<v<v>>>vv^v<<<v^vvv><v<^><v^>^^<v<^>v<^<^v>v^<^v^<^<>>v>>>>v^v>^^<v><^v^v<v<v<>><v^v<>v<^>v<>^<vv>^^<<vvvv<^v^<<<>v^v<^v<><^>><^^^v<<^^<v^v^>>vv^<vvv>>>v>^^>>>^>>^v^>>><>>>>^v^vv<^>><^<v>v>^v><>^^><>v<<v<>>>^<<>><^\n",
    ">v^^v<<>>^>^<v<<<^^vv<<><^^^v>^>^>v^<>^^<^v><<v>v^><v^>^>>>vv^vv<<<v^<v>^vv^v><^v<<^vv>>^><v>v><>v^v<<>v<<v^v>v><><v>^v<v<v>v^^v>^^>^><^<^v<^>v<vv><v<^^>v<>>^^^v<^vvv<>^<<><>^<^>^v>>^>v<^^>v><<>v<^^>>><^<^>vv<>^<v^<^^<>^^vv>^v><^<^v^^v^><<<^<v>vv<<^^v^^^<^^^^vv>^v>^v^<<v>v^<v>>v<^v>^v^<^><<vv>>v>^>^^<vv<>^^vvvv>^>vvv>><v>vv<v>^><v<^^>>^^vvv>v<<vvv<^^><>v<v<<<<><v^v<<<^^>v<v>>>^>vv^<><v^<v>v<<<>^^v<>^v^v>v>>^<<>>^v>^<v>^<^>^<><>^v^^>>v^<<v><v^>vvv^>><^^>>v^<>^^^>>>><^>^<<^>^<><^<^v>^>^<<v<v<>^^v^^>v><<<<v>>>v^<<^>v^v<><^<>^^vv^vv<^<^v<^^><<v<><^><^<>v^v<^^<^<<^^>><<>^>^>^><<^^v^<>^^^<^>^<>>><v><^^<^^>v^v>^^>^<^vv^>v^<v>^>v><>v^v<<v^v>>>^v<vv<v>>^^^<^^<v<<vv^>^>^<>>^>v^^v<v>^<<>>>^v^>^<^^<^v>^<vvv<^^v^>^<v<^vv<>><<<^v^v><^v^<v^<<>^>^>^<^^^>><><v<v<<vv>^^><>><^v><v^v<><<^^v>>^v<v>>v<>v>^>vvv>>v>^<^^v>vv^^<^>^<><>>>>v^^^v^<<>>v>v^>^<<v^>^><<^v<>>v>^^<<<>^>vv<^^v<>>^<><<<v^v<v>><>^<>>v<^v^<<<<>>>><v>^>vv<v>>^^>v^v><^v<v^><>^<<>v^<^<^<v<><>v<>^v>v>v>^v^^<<<><v^v><<>>v><>v<>^vv<v<vvv^^<<>^<^v\"\"\"\n",
    "result = solve_warehouse_puzzle(actual_input)\n",
    "print(f\"Result: {result}\")"
   ]
  },
  {
   "cell_type": "code",
   "execution_count": 3,
   "metadata": {},
   "outputs": [
    {
     "data": {
      "text/html": [
       "<pre style=\"white-space:pre;overflow-x:auto;line-height:normal;font-family:Menlo,'DejaVu Sans Mono',consolas,'Courier New',monospace\"><span style=\"color: #008080; text-decoration-color: #008080; font-weight: bold\">1441031</span>\n",
       "</pre>\n"
      ],
      "text/plain": [
       "\u001b[1;36m1441031\u001b[0m\n"
      ]
     },
     "metadata": {},
     "output_type": "display_data"
    }
   ],
   "source": [
    "\n",
    "import sys\n",
    "import re\n",
    "from collections import *\n",
    "from itertools import *\n",
    "from heapq import *\n",
    "import math\n",
    "from rich import print\n",
    "\n",
    "def count(it):\n",
    "    return sum(1 for _ in it)\n",
    "\n",
    "# Read the input from input.txt file\n",
    "with open('puzzle_input.txt', 'r') as file:\n",
    "    inp = file.read()\n",
    "\n",
    "parts = inp.split(\"\\n\\n\")\n",
    "lines = parts[0].split(\"\\n\")\n",
    "m = len(lines)\n",
    "n = len(lines[0])\n",
    "\n",
    "# Build the grid from the input\n",
    "grid = defaultdict(lambda: defaultdict(lambda: \"!\"), \n",
    "                  {i: defaultdict(lambda: \"!\", {j: line[j] for j in range(len(line))}) \n",
    "                   for i, line in enumerate(lines)})\n",
    "\n",
    "dirs = [(0, 1), (0, -1), (-1, 0), (1, 0)]\n",
    "chardirs = {\"<\": 1, \">\": 0, \"^\": 2, \"v\": 3}\n",
    "\n",
    "result = 0\n",
    "\n",
    "def move(d, i, j):\n",
    "    if grid[i][j] == \"#\":\n",
    "        return False\n",
    "    elif grid[i][j] == \".\":\n",
    "        return True\n",
    "    else:\n",
    "        can_move = move(d, i + d[0], j + d[1])\n",
    "        if can_move:\n",
    "            grid[i + d[0]][j + d[1]] = grid[i][j]\n",
    "            grid[i][j] = \".\"\n",
    "            return True\n",
    "        return False\n",
    "\n",
    "robot_pos = (0, 0)\n",
    "# Find the robot's initial position\n",
    "for i in range(m):\n",
    "    for j in range(n):\n",
    "        if grid[i][j] == \"@\":\n",
    "            robot_pos = (i, j)\n",
    "\n",
    "# Process the directions from the second part of the input\n",
    "for dirchar in parts[1]:\n",
    "    if dirchar == \"\\n\":\n",
    "        continue\n",
    "    d = dirs[chardirs[dirchar]]\n",
    "    if move(d, robot_pos[0], robot_pos[1]):\n",
    "        robot_pos = (robot_pos[0] + d[0], robot_pos[1] + d[1])\n",
    "\n",
    "# Calculate the result based on the grid\n",
    "for i in range(m):\n",
    "    for j in range(n):\n",
    "        if grid[i][j] == \"O\":\n",
    "            result += 100 * i + j\n",
    "\n",
    "# Print the final result\n",
    "print(result)"
   ]
  },
  {
   "cell_type": "code",
   "execution_count": 5,
   "metadata": {},
   "outputs": [
    {
     "data": {
      "text/html": [
       "<pre style=\"white-space:pre;overflow-x:auto;line-height:normal;font-family:Menlo,'DejaVu Sans Mono',consolas,'Courier New',monospace\">####################################################################################################\n",
       "####..##<span style=\"color: #808000; text-decoration-color: #808000\">......</span><span style=\"font-weight: bold\">[][]</span>##<span style=\"font-weight: bold\">[]</span><span style=\"color: #808000; text-decoration-color: #808000\">......</span><span style=\"font-weight: bold\">[]</span>..<span style=\"font-weight: bold\">[]</span><span style=\"color: #808000; text-decoration-color: #808000\">...</span>.##..##<span style=\"font-weight: bold\">[]</span><span style=\"color: #808000; text-decoration-color: #808000\">........................</span>..<span style=\"font-weight: bold\">[]</span><span style=\"color: #808000; text-decoration-color: #808000\">......</span><span style=\"font-weight: bold\">[]</span>..<span style=\"font-weight: bold\">[]</span>..<span style=\"font-weight: bold\">[]</span>..<span style=\"font-weight: bold\">[][]</span>..##\n",
       "##<span style=\"font-weight: bold\">[]</span>##<span style=\"font-weight: bold\">[]</span><span style=\"color: #808000; text-decoration-color: #808000\">.........</span>.<span style=\"font-weight: bold\">[]</span><span style=\"color: #808000; text-decoration-color: #808000\">......</span><span style=\"font-weight: bold\">[]</span><span style=\"color: #808000; text-decoration-color: #808000\">...</span>.<span style=\"font-weight: bold\">[]</span>##<span style=\"font-weight: bold\">[][]</span><span style=\"color: #808000; text-decoration-color: #808000\">...</span>.<span style=\"font-weight: bold\">[]</span><span style=\"color: #808000; text-decoration-color: #808000\">...</span>.<span style=\"font-weight: bold\">[][]</span><span style=\"color: #808000; text-decoration-color: #808000\">......</span>..<span style=\"font-weight: bold\">[][]</span><span style=\"color: #808000; text-decoration-color: #808000\">...............</span>.##<span style=\"color: #808000; text-decoration-color: #808000\">...</span>.##<span style=\"color: #808000; text-decoration-color: #808000\">......</span>..##\n",
       "##<span style=\"color: #808000; text-decoration-color: #808000\">...</span>.<span style=\"font-weight: bold\">[]</span>..<span style=\"font-weight: bold\">[]</span>..<span style=\"font-weight: bold\">[]</span><span style=\"color: #808000; text-decoration-color: #808000\">......</span><span style=\"font-weight: bold\">[][][]</span><span style=\"color: #808000; text-decoration-color: #808000\">...</span>.<span style=\"font-weight: bold\">[]</span><span style=\"color: #808000; text-decoration-color: #808000\">...</span>.##..##<span style=\"color: #808000; text-decoration-color: #808000\">...</span>.<span style=\"font-weight: bold\">[]</span>..<span style=\"font-weight: bold\">[][][]</span><span style=\"color: #808000; text-decoration-color: #808000\">......</span>..<span style=\"font-weight: bold\">[]</span><span style=\"color: #808000; text-decoration-color: #808000\">.........</span>.<span style=\"font-weight: bold\">[][]</span>##..<span style=\"font-weight: bold\">[]</span>##..##..<span style=\"font-weight: bold\">[]</span>##\n",
       "##<span style=\"color: #808000; text-decoration-color: #808000\">.........</span>.##<span style=\"color: #808000; text-decoration-color: #808000\">......</span>..<span style=\"font-weight: bold\">[]</span>..<span style=\"font-weight: bold\">[]</span><span style=\"color: #808000; text-decoration-color: #808000\">...</span>.##..##..<span style=\"font-weight: bold\">[]</span><span style=\"color: #808000; text-decoration-color: #808000\">......</span><span style=\"font-weight: bold\">[][][]</span><span style=\"color: #808000; text-decoration-color: #808000\">...</span>.##<span style=\"color: #808000; text-decoration-color: #808000\">......</span><span style=\"font-weight: bold\">[]</span><span style=\"color: #808000; text-decoration-color: #808000\">......</span><span style=\"font-weight: bold\">[]</span><span style=\"color: #808000; text-decoration-color: #808000\">......</span>..<span style=\"font-weight: bold\">[][]</span><span style=\"color: #808000; text-decoration-color: #808000\">.........</span>.##\n",
       "##<span style=\"font-weight: bold\">[]</span>..<span style=\"font-weight: bold\">[]</span>##<span style=\"color: #808000; text-decoration-color: #808000\">.........</span>.<span style=\"font-weight: bold\">[]</span><span style=\"color: #808000; text-decoration-color: #808000\">......</span>..<span style=\"font-weight: bold\">[]</span>##..<span style=\"font-weight: bold\">[]</span><span style=\"color: #808000; text-decoration-color: #808000\">...</span>.<span style=\"font-weight: bold\">[][]</span>..<span style=\"font-weight: bold\">[]</span><span style=\"color: #808000; text-decoration-color: #808000\">......</span>##<span style=\"font-weight: bold\">[]</span><span style=\"color: #808000; text-decoration-color: #808000\">..................</span><span style=\"font-weight: bold\">[]</span><span style=\"color: #808000; text-decoration-color: #808000\">......</span><span style=\"font-weight: bold\">[]</span>..<span style=\"font-weight: bold\">[]</span>..<span style=\"font-weight: bold\">[][]</span>##\n",
       "##<span style=\"color: #808000; text-decoration-color: #808000\">...</span>.<span style=\"font-weight: bold\">[]</span><span style=\"color: #808000; text-decoration-color: #808000\">...</span>.##<span style=\"font-weight: bold\">[][]</span><span style=\"color: #808000; text-decoration-color: #808000\">..................</span><span style=\"font-weight: bold\">[]</span>..##<span style=\"color: #808000; text-decoration-color: #808000\">......</span><span style=\"font-weight: bold\">[]</span><span style=\"color: #808000; text-decoration-color: #808000\">......</span>..<span style=\"font-weight: bold\">[]</span><span style=\"color: #808000; text-decoration-color: #808000\">...</span>.<span style=\"font-weight: bold\">[][][][][]</span>..<span style=\"font-weight: bold\">[]</span><span style=\"color: #808000; text-decoration-color: #808000\">......</span>..<span style=\"font-weight: bold\">[]</span><span style=\"color: #808000; text-decoration-color: #808000\">...</span>.<span style=\"font-weight: bold\">[]</span>..####\n",
       "####<span style=\"font-weight: bold\">[]</span>##<span style=\"color: #808000; text-decoration-color: #808000\">......</span>..<span style=\"font-weight: bold\">[][][]</span><span style=\"color: #808000; text-decoration-color: #808000\">............</span>##<span style=\"font-weight: bold\">[]</span>##..##..####<span style=\"font-weight: bold\">[]</span><span style=\"color: #808000; text-decoration-color: #808000\">...</span>.<span style=\"font-weight: bold\">[]</span><span style=\"color: #808000; text-decoration-color: #808000\">......</span><span style=\"font-weight: bold\">[]</span>..<span style=\"font-weight: bold\">[]</span>..<span style=\"font-weight: bold\">[][][]</span>##<span style=\"color: #808000; text-decoration-color: #808000\">..................</span>##\n",
       "##<span style=\"font-weight: bold\">[]</span><span style=\"color: #808000; text-decoration-color: #808000\">......</span>..<span style=\"font-weight: bold\">[]</span><span style=\"color: #808000; text-decoration-color: #808000\">......</span><span style=\"font-weight: bold\">[]</span><span style=\"color: #808000; text-decoration-color: #808000\">......</span><span style=\"font-weight: bold\">[]</span>##<span style=\"font-weight: bold\">[][]</span><span style=\"color: #808000; text-decoration-color: #808000\">..................</span><span style=\"font-weight: bold\">[]</span><span style=\"color: #808000; text-decoration-color: #808000\">..................</span><span style=\"font-weight: bold\">[]</span>..<span style=\"font-weight: bold\">[]</span><span style=\"color: #808000; text-decoration-color: #808000\">............</span>..<span style=\"font-weight: bold\">[]</span>####\n",
       "##<span style=\"color: #808000; text-decoration-color: #808000\">............</span><span style=\"font-weight: bold\">[][][]</span><span style=\"color: #808000; text-decoration-color: #808000\">......</span><span style=\"font-weight: bold\">[][][]</span>..<span style=\"font-weight: bold\">[]</span><span style=\"color: #808000; text-decoration-color: #808000\">...............</span>.<span style=\"font-weight: bold\">[][][][]</span><span style=\"color: #808000; text-decoration-color: #808000\">.........</span>.<span style=\"font-weight: bold\">[]</span><span style=\"color: #808000; text-decoration-color: #808000\">...</span>.<span style=\"font-weight: bold\">[]</span>..<span style=\"font-weight: bold\">[]</span><span style=\"color: #808000; text-decoration-color: #808000\">............</span><span style=\"font-weight: bold\">[]</span>..##\n",
       "##..<span style=\"font-weight: bold\">[]</span><span style=\"color: #808000; text-decoration-color: #808000\">......</span>..<span style=\"font-weight: bold\">[]</span>##<span style=\"color: #808000; text-decoration-color: #808000\">......</span>##<span style=\"font-weight: bold\">[]</span>..<span style=\"font-weight: bold\">[]</span>..<span style=\"font-weight: bold\">[][][]</span><span style=\"color: #808000; text-decoration-color: #808000\">......</span><span style=\"font-weight: bold\">[]</span><span style=\"color: #808000; text-decoration-color: #808000\">......</span><span style=\"font-weight: bold\">[]</span><span style=\"color: #808000; text-decoration-color: #808000\">...</span>.<span style=\"font-weight: bold\">[]</span><span style=\"color: #808000; text-decoration-color: #808000\">......</span>##<span style=\"font-weight: bold\">[][]</span><span style=\"color: #808000; text-decoration-color: #808000\">..................</span><span style=\"font-weight: bold\">[]</span><span style=\"color: #808000; text-decoration-color: #808000\">...</span>.##\n",
       "##<span style=\"color: #808000; text-decoration-color: #808000\">......</span>..##<span style=\"font-weight: bold\">[]</span><span style=\"color: #808000; text-decoration-color: #808000\">...</span>.<span style=\"font-weight: bold\">[]</span>..<span style=\"font-weight: bold\">[]</span>##<span style=\"color: #808000; text-decoration-color: #808000\">........................</span>..<span style=\"font-weight: bold\">[]</span><span style=\"color: #808000; text-decoration-color: #808000\">......</span><span style=\"font-weight: bold\">[]</span>##..<span style=\"font-weight: bold\">[]</span>..##..<span style=\"font-weight: bold\">[]</span><span style=\"color: #808000; text-decoration-color: #808000\">......</span>..##<span style=\"color: #808000; text-decoration-color: #808000\">............</span>##\n",
       "####<span style=\"color: #808000; text-decoration-color: #808000\">...</span>.<span style=\"font-weight: bold\">[]</span><span style=\"color: #808000; text-decoration-color: #808000\">...</span>.<span style=\"font-weight: bold\">[]</span>..<span style=\"font-weight: bold\">[][][]</span>..<span style=\"font-weight: bold\">[]</span><span style=\"color: #808000; text-decoration-color: #808000\">....................................</span>..<span style=\"font-weight: bold\">[]</span>##<span style=\"color: #808000; text-decoration-color: #808000\">......</span><span style=\"font-weight: bold\">[]</span><span style=\"color: #808000; text-decoration-color: #808000\">.........</span>.##<span style=\"color: #808000; text-decoration-color: #808000\">......</span><span style=\"font-weight: bold\">[]</span>##\n",
       "##<span style=\"color: #808000; text-decoration-color: #808000\">......</span>..<span style=\"font-weight: bold\">[]</span>..<span style=\"font-weight: bold\">[]</span><span style=\"color: #808000; text-decoration-color: #808000\">...............</span>.<span style=\"font-weight: bold\">[]</span>..<span style=\"font-weight: bold\">[]</span>..##<span style=\"font-weight: bold\">[]</span>..<span style=\"font-weight: bold\">[][]</span><span style=\"color: #808000; text-decoration-color: #808000\">......</span><span style=\"font-weight: bold\">[]</span><span style=\"color: #808000; text-decoration-color: #808000\">......</span>..<span style=\"font-weight: bold\">[]</span><span style=\"color: #808000; text-decoration-color: #808000\">.........</span>.<span style=\"font-weight: bold\">[][]</span><span style=\"color: #808000; text-decoration-color: #808000\">......</span>..<span style=\"font-weight: bold\">[]</span><span style=\"color: #808000; text-decoration-color: #808000\">......</span>##\n",
       "##<span style=\"font-weight: bold\">[]</span><span style=\"color: #808000; text-decoration-color: #808000\">......</span><span style=\"font-weight: bold\">[]</span>..<span style=\"font-weight: bold\">[]</span><span style=\"color: #808000; text-decoration-color: #808000\">......</span>..<span style=\"font-weight: bold\">[][][][]</span>..<span style=\"font-weight: bold\">[]</span><span style=\"color: #808000; text-decoration-color: #808000\">...</span>.##<span style=\"color: #808000; text-decoration-color: #808000\">...</span>.<span style=\"font-weight: bold\">[]</span><span style=\"color: #808000; text-decoration-color: #808000\">...</span>.<span style=\"font-weight: bold\">[]</span>..##<span style=\"color: #808000; text-decoration-color: #808000\">......</span>..<span style=\"font-weight: bold\">[][][][]</span>##<span style=\"color: #808000; text-decoration-color: #808000\">.........</span>.<span style=\"font-weight: bold\">[][][]</span>..##..##\n",
       "##<span style=\"color: #808000; text-decoration-color: #808000\">......</span>##<span style=\"font-weight: bold\">[]</span><span style=\"color: #808000; text-decoration-color: #808000\">..................</span><span style=\"font-weight: bold\">[]</span><span style=\"color: #808000; text-decoration-color: #808000\">............</span><span style=\"font-weight: bold\">[][]</span><span style=\"color: #808000; text-decoration-color: #808000\">...</span>.<span style=\"font-weight: bold\">[]</span>..<span style=\"font-weight: bold\">[]</span><span style=\"color: #808000; text-decoration-color: #808000\">...</span>.##<span style=\"color: #808000; text-decoration-color: #808000\">......</span><span style=\"font-weight: bold\">[][]</span>##..####..##<span style=\"color: #808000; text-decoration-color: #808000\">......</span><span style=\"font-weight: bold\">[][]</span>####\n",
       "##<span style=\"color: #808000; text-decoration-color: #808000\">......</span><span style=\"font-weight: bold\">[]</span><span style=\"color: #808000; text-decoration-color: #808000\">......</span><span style=\"font-weight: bold\">[][]</span>..##<span style=\"color: #808000; text-decoration-color: #808000\">......</span><span style=\"font-weight: bold\">[]</span><span style=\"color: #808000; text-decoration-color: #808000\">......</span>..##<span style=\"color: #808000; text-decoration-color: #808000\">...</span>.<span style=\"font-weight: bold\">[]</span><span style=\"color: #808000; text-decoration-color: #808000\">.....................</span>.##<span style=\"color: #808000; text-decoration-color: #808000\">............</span>..<span style=\"font-weight: bold\">[]</span>##..<span style=\"font-weight: bold\">[]</span><span style=\"color: #808000; text-decoration-color: #808000\">...</span>.##\n",
       "##<span style=\"color: #808000; text-decoration-color: #808000\">......</span>..<span style=\"font-weight: bold\">[][]</span><span style=\"color: #808000; text-decoration-color: #808000\">............</span>..<span style=\"font-weight: bold\">[]</span><span style=\"color: #808000; text-decoration-color: #808000\">......</span>####..##<span style=\"color: #808000; text-decoration-color: #808000\">......</span><span style=\"font-weight: bold\">[]</span><span style=\"color: #808000; text-decoration-color: #808000\">...</span>.<span style=\"font-weight: bold\">[]</span>..<span style=\"font-weight: bold\">[]</span><span style=\"color: #808000; text-decoration-color: #808000\">...</span>.##<span style=\"color: #808000; text-decoration-color: #808000\">...</span>.<span style=\"font-weight: bold\">[]</span><span style=\"color: #808000; text-decoration-color: #808000\">.........</span>.<span style=\"font-weight: bold\">[]</span>..<span style=\"font-weight: bold\">[]</span>..<span style=\"font-weight: bold\">[]</span><span style=\"color: #808000; text-decoration-color: #808000\">...</span>.##\n",
       "##<span style=\"color: #808000; text-decoration-color: #808000\">...</span>.<span style=\"font-weight: bold\">[]</span>..<span style=\"font-weight: bold\">[]</span><span style=\"color: #808000; text-decoration-color: #808000\">......</span><span style=\"font-weight: bold\">[]</span><span style=\"color: #808000; text-decoration-color: #808000\">......</span>..<span style=\"font-weight: bold\">[]</span><span style=\"color: #808000; text-decoration-color: #808000\">...</span>.<span style=\"font-weight: bold\">[]</span><span style=\"color: #808000; text-decoration-color: #808000\">......</span>..<span style=\"font-weight: bold\">[]</span>..<span style=\"font-weight: bold\">[]</span><span style=\"color: #808000; text-decoration-color: #808000\">...</span>.<span style=\"font-weight: bold\">[]</span>..<span style=\"font-weight: bold\">[]</span>..<span style=\"font-weight: bold\">[]</span><span style=\"color: #808000; text-decoration-color: #808000\">............</span>..<span style=\"font-weight: bold\">[][]</span><span style=\"color: #808000; text-decoration-color: #808000\">.........</span>.<span style=\"font-weight: bold\">[]</span>..####\n",
       "##<span style=\"font-weight: bold\">[]</span><span style=\"color: #808000; text-decoration-color: #808000\">...</span>.<span style=\"font-weight: bold\">[]</span><span style=\"color: #808000; text-decoration-color: #808000\">..................</span><span style=\"font-weight: bold\">[]</span><span style=\"color: #808000; text-decoration-color: #808000\">............</span>..<span style=\"font-weight: bold\">[]</span>..<span style=\"font-weight: bold\">[]</span>..<span style=\"font-weight: bold\">[]</span><span style=\"color: #808000; text-decoration-color: #808000\">...</span>.<span style=\"font-weight: bold\">[]</span>##..<span style=\"font-weight: bold\">[][]</span>..<span style=\"font-weight: bold\">[]</span>..<span style=\"font-weight: bold\">[]</span>..<span style=\"font-weight: bold\">[][]</span><span style=\"color: #808000; text-decoration-color: #808000\">............</span>##..##\n",
       "##<span style=\"font-weight: bold\">[][]</span>..<span style=\"font-weight: bold\">[]</span><span style=\"color: #808000; text-decoration-color: #808000\">...</span>.<span style=\"font-weight: bold\">[][][]</span><span style=\"color: #808000; text-decoration-color: #808000\">.........</span>.<span style=\"font-weight: bold\">[][]</span>..##<span style=\"color: #808000; text-decoration-color: #808000\">...</span>.##<span style=\"color: #808000; text-decoration-color: #808000\">......</span>..<span style=\"font-weight: bold\">[][]</span><span style=\"color: #808000; text-decoration-color: #808000\">...</span>.<span style=\"font-weight: bold\">[]</span>..##..##..<span style=\"font-weight: bold\">[]</span><span style=\"color: #808000; text-decoration-color: #808000\">...</span>.<span style=\"font-weight: bold\">[]</span>..<span style=\"font-weight: bold\">[]</span>..<span style=\"font-weight: bold\">[]</span>..<span style=\"font-weight: bold\">[]</span>..##..##\n",
       "##<span style=\"color: #808000; text-decoration-color: #808000\">...</span>.<span style=\"font-weight: bold\">[]</span><span style=\"color: #808000; text-decoration-color: #808000\">......</span><span style=\"font-weight: bold\">[]</span><span style=\"color: #808000; text-decoration-color: #808000\">.........</span>.<span style=\"font-weight: bold\">[][]</span><span style=\"color: #808000; text-decoration-color: #808000\">...</span>.##<span style=\"color: #808000; text-decoration-color: #808000\">...</span>.<span style=\"font-weight: bold\">[]</span><span style=\"color: #808000; text-decoration-color: #808000\">......</span>##<span style=\"color: #808000; text-decoration-color: #808000\">......</span>..<span style=\"font-weight: bold\">[]</span><span style=\"color: #808000; text-decoration-color: #808000\">...</span>.<span style=\"font-weight: bold\">[][]</span>..##<span style=\"font-weight: bold\">[]</span>..<span style=\"font-weight: bold\">[]</span><span style=\"color: #808000; text-decoration-color: #808000\">......</span><span style=\"font-weight: bold\">[]</span>..<span style=\"font-weight: bold\">[]</span><span style=\"color: #808000; text-decoration-color: #808000\">...</span>.<span style=\"font-weight: bold\">[][]</span>##\n",
       "##<span style=\"color: #808000; text-decoration-color: #808000\">.........</span>.##<span style=\"font-weight: bold\">[][]</span>..<span style=\"font-weight: bold\">[]</span><span style=\"color: #808000; text-decoration-color: #808000\">......</span><span style=\"font-weight: bold\">[]</span><span style=\"color: #808000; text-decoration-color: #808000\">......</span>##<span style=\"font-weight: bold\">[]</span><span style=\"color: #808000; text-decoration-color: #808000\">...</span>.##<span style=\"color: #808000; text-decoration-color: #808000\">...</span>.<span style=\"font-weight: bold\">[][]</span><span style=\"color: #808000; text-decoration-color: #808000\">......</span><span style=\"font-weight: bold\">[]</span><span style=\"color: #808000; text-decoration-color: #808000\">...</span>.##<span style=\"font-weight: bold\">[][]</span><span style=\"color: #808000; text-decoration-color: #808000\">.....................</span>.<span style=\"font-weight: bold\">[][]</span>##\n",
       "##<span style=\"color: #808000; text-decoration-color: #808000\">...</span>.##<span style=\"font-weight: bold\">[]</span><span style=\"color: #808000; text-decoration-color: #808000\">......</span><span style=\"font-weight: bold\">[]</span><span style=\"color: #808000; text-decoration-color: #808000\">...</span>.##..<span style=\"font-weight: bold\">[]</span><span style=\"color: #808000; text-decoration-color: #808000\">......</span><span style=\"font-weight: bold\">[]</span>##<span style=\"color: #808000; text-decoration-color: #808000\">.........</span>.##<span style=\"font-weight: bold\">[]</span>..<span style=\"font-weight: bold\">[][][][][][]</span><span style=\"color: #808000; text-decoration-color: #808000\">......</span>##..<span style=\"font-weight: bold\">[]</span>..<span style=\"font-weight: bold\">[]</span>..<span style=\"font-weight: bold\">[]</span>..<span style=\"font-weight: bold\">[]</span><span style=\"color: #808000; text-decoration-color: #808000\">...</span>.<span style=\"font-weight: bold\">[]</span>..##\n",
       "##<span style=\"font-weight: bold\">[]</span><span style=\"color: #808000; text-decoration-color: #808000\">............</span>####..<span style=\"font-weight: bold\">[]</span><span style=\"color: #808000; text-decoration-color: #808000\">...</span>.<span style=\"font-weight: bold\">[]</span><span style=\"color: #808000; text-decoration-color: #808000\">...............</span>.##@<span style=\"color: #808000; text-decoration-color: #808000\">.........</span>..<span style=\"font-weight: bold\">[]</span><span style=\"color: #808000; text-decoration-color: #808000\">...</span>.<span style=\"font-weight: bold\">[]</span>##<span style=\"color: #808000; text-decoration-color: #808000\">............</span><span style=\"font-weight: bold\">[]</span><span style=\"color: #808000; text-decoration-color: #808000\">...</span>.<span style=\"font-weight: bold\">[][]</span><span style=\"color: #808000; text-decoration-color: #808000\">......</span>##\n",
       "##<span style=\"color: #808000; text-decoration-color: #808000\">............</span><span style=\"font-weight: bold\">[][][]</span><span style=\"color: #808000; text-decoration-color: #808000\">...</span>.<span style=\"font-weight: bold\">[]</span><span style=\"color: #808000; text-decoration-color: #808000\">............</span>..##<span style=\"color: #808000; text-decoration-color: #808000\">.........</span>.<span style=\"font-weight: bold\">[][]</span>####<span style=\"color: #808000; text-decoration-color: #808000\">......</span><span style=\"font-weight: bold\">[]</span>..##<span style=\"font-weight: bold\">[]</span><span style=\"color: #808000; text-decoration-color: #808000\">......</span>##..<span style=\"font-weight: bold\">[]</span><span style=\"color: #808000; text-decoration-color: #808000\">...</span>.<span style=\"font-weight: bold\">[]</span><span style=\"color: #808000; text-decoration-color: #808000\">......</span>##\n",
       "##<span style=\"color: #808000; text-decoration-color: #808000\">......</span><span style=\"font-weight: bold\">[]</span><span style=\"color: #808000; text-decoration-color: #808000\">...</span>.<span style=\"font-weight: bold\">[]</span><span style=\"color: #808000; text-decoration-color: #808000\">.........</span>.<span style=\"font-weight: bold\">[][]</span>..<span style=\"font-weight: bold\">[]</span>..##<span style=\"font-weight: bold\">[]</span>..##<span style=\"color: #808000; text-decoration-color: #808000\">...</span>.<span style=\"font-weight: bold\">[]</span><span style=\"color: #808000; text-decoration-color: #808000\">.........</span>.<span style=\"font-weight: bold\">[]</span>..<span style=\"font-weight: bold\">[]</span><span style=\"color: #808000; text-decoration-color: #808000\">......</span>##<span style=\"color: #808000; text-decoration-color: #808000\">......</span>..<span style=\"font-weight: bold\">[]</span><span style=\"color: #808000; text-decoration-color: #808000\">...</span>.<span style=\"font-weight: bold\">[]</span><span style=\"color: #808000; text-decoration-color: #808000\">......</span>..##\n",
       "##<span style=\"font-weight: bold\">[]</span><span style=\"color: #808000; text-decoration-color: #808000\">......</span>..<span style=\"font-weight: bold\">[]</span>..<span style=\"font-weight: bold\">[]</span><span style=\"color: #808000; text-decoration-color: #808000\">...</span>.<span style=\"font-weight: bold\">[]</span><span style=\"color: #808000; text-decoration-color: #808000\">...</span>.<span style=\"font-weight: bold\">[]</span><span style=\"color: #808000; text-decoration-color: #808000\">...</span>.<span style=\"font-weight: bold\">[]</span><span style=\"color: #808000; text-decoration-color: #808000\">...</span>.<span style=\"font-weight: bold\">[]</span><span style=\"color: #808000; text-decoration-color: #808000\">...</span>.<span style=\"font-weight: bold\">[]</span><span style=\"color: #808000; text-decoration-color: #808000\">...</span>.##<span style=\"color: #808000; text-decoration-color: #808000\">......</span><span style=\"font-weight: bold\">[]</span>..<span style=\"font-weight: bold\">[]</span><span style=\"color: #808000; text-decoration-color: #808000\">.........</span>.<span style=\"font-weight: bold\">[]</span>##..<span style=\"font-weight: bold\">[]</span>..##..##<span style=\"font-weight: bold\">[][]</span>####\n",
       "##..<span style=\"font-weight: bold\">[]</span><span style=\"color: #808000; text-decoration-color: #808000\">.........</span>.<span style=\"font-weight: bold\">[][]</span><span style=\"color: #808000; text-decoration-color: #808000\">......</span><span style=\"font-weight: bold\">[][]</span>##<span style=\"color: #808000; text-decoration-color: #808000\">...............</span>.<span style=\"font-weight: bold\">[][]</span><span style=\"color: #808000; text-decoration-color: #808000\">......</span>..<span style=\"font-weight: bold\">[]</span><span style=\"color: #808000; text-decoration-color: #808000\">......</span><span style=\"font-weight: bold\">[]</span><span style=\"color: #808000; text-decoration-color: #808000\">......</span>..##<span style=\"color: #808000; text-decoration-color: #808000\">...............</span>.<span style=\"font-weight: bold\">[]</span>##\n",
       "##..##<span style=\"color: #808000; text-decoration-color: #808000\">.........</span>.<span style=\"font-weight: bold\">[][]</span><span style=\"color: #808000; text-decoration-color: #808000\">...</span>.<span style=\"font-weight: bold\">[]</span>..<span style=\"font-weight: bold\">[]</span>..##<span style=\"font-weight: bold\">[]</span>##..####..<span style=\"font-weight: bold\">[]</span><span style=\"color: #808000; text-decoration-color: #808000\">...</span>.##<span style=\"font-weight: bold\">[]</span>##<span style=\"color: #808000; text-decoration-color: #808000\">..............................</span>..<span style=\"font-weight: bold\">[][]</span>..####\n",
       "##<span style=\"color: #808000; text-decoration-color: #808000\">..................</span><span style=\"font-weight: bold\">[]</span>##<span style=\"font-weight: bold\">[][]</span>..<span style=\"font-weight: bold\">[]</span><span style=\"color: #808000; text-decoration-color: #808000\">.........</span>.##<span style=\"color: #808000; text-decoration-color: #808000\">...</span>.##<span style=\"color: #808000; text-decoration-color: #808000\">......</span><span style=\"font-weight: bold\">[]</span>##<span style=\"font-weight: bold\">[]</span><span style=\"color: #808000; text-decoration-color: #808000\">......</span>..<span style=\"font-weight: bold\">[]</span>..<span style=\"font-weight: bold\">[]</span><span style=\"color: #808000; text-decoration-color: #808000\">...</span>.<span style=\"font-weight: bold\">[]</span><span style=\"color: #808000; text-decoration-color: #808000\">...</span>.<span style=\"font-weight: bold\">[]</span><span style=\"color: #808000; text-decoration-color: #808000\">.........</span>.##\n",
       "##<span style=\"font-weight: bold\">[][]</span><span style=\"color: #808000; text-decoration-color: #808000\">......</span>..<span style=\"font-weight: bold\">[][][]</span><span style=\"color: #808000; text-decoration-color: #808000\">.........</span>.<span style=\"font-weight: bold\">[]</span><span style=\"color: #808000; text-decoration-color: #808000\">........................</span>..##<span style=\"font-weight: bold\">[][]</span>##<span style=\"color: #808000; text-decoration-color: #808000\">......</span>##<span style=\"color: #808000; text-decoration-color: #808000\">......</span>..##..<span style=\"font-weight: bold\">[]</span><span style=\"color: #808000; text-decoration-color: #808000\">.........</span>.##\n",
       "##..<span style=\"font-weight: bold\">[]</span>##<span style=\"color: #808000; text-decoration-color: #808000\">.........</span>.<span style=\"font-weight: bold\">[]</span>##<span style=\"color: #808000; text-decoration-color: #808000\">......</span>##..<span style=\"font-weight: bold\">[]</span><span style=\"color: #808000; text-decoration-color: #808000\">...</span>.<span style=\"font-weight: bold\">[]</span><span style=\"color: #808000; text-decoration-color: #808000\">......</span><span style=\"font-weight: bold\">[]</span><span style=\"color: #808000; text-decoration-color: #808000\">......</span>##..<span style=\"font-weight: bold\">[][]</span><span style=\"color: #808000; text-decoration-color: #808000\">...</span>.<span style=\"font-weight: bold\">[]</span><span style=\"color: #808000; text-decoration-color: #808000\">......</span><span style=\"font-weight: bold\">[][][]</span>##<span style=\"color: #808000; text-decoration-color: #808000\">...</span>.##<span style=\"color: #808000; text-decoration-color: #808000\">......</span>..<span style=\"font-weight: bold\">[]</span>##\n",
       "##..##..<span style=\"font-weight: bold\">[]</span>..<span style=\"font-weight: bold\">[]</span><span style=\"color: #808000; text-decoration-color: #808000\">...</span>.<span style=\"font-weight: bold\">[]</span><span style=\"color: #808000; text-decoration-color: #808000\">............</span>##<span style=\"color: #808000; text-decoration-color: #808000\">......</span><span style=\"font-weight: bold\">[][][]</span><span style=\"color: #808000; text-decoration-color: #808000\">............</span>..####..<span style=\"font-weight: bold\">[]</span><span style=\"color: #808000; text-decoration-color: #808000\">...</span>.<span style=\"font-weight: bold\">[][][]</span>##..<span style=\"font-weight: bold\">[]</span>..<span style=\"font-weight: bold\">[]</span><span style=\"color: #808000; text-decoration-color: #808000\">.........</span>.##\n",
       "##<span style=\"color: #808000; text-decoration-color: #808000\">..................</span>##<span style=\"color: #808000; text-decoration-color: #808000\">............</span>..##<span style=\"color: #808000; text-decoration-color: #808000\">...</span>.<span style=\"font-weight: bold\">[]</span>..<span style=\"font-weight: bold\">[][]</span>..##..<span style=\"font-weight: bold\">[][]</span><span style=\"color: #808000; text-decoration-color: #808000\">...</span>.<span style=\"font-weight: bold\">[]</span><span style=\"color: #808000; text-decoration-color: #808000\">...</span>.<span style=\"font-weight: bold\">[]</span><span style=\"color: #808000; text-decoration-color: #808000\">.........</span>.<span style=\"font-weight: bold\">[][][]</span><span style=\"color: #808000; text-decoration-color: #808000\">...</span>.<span style=\"font-weight: bold\">[]</span><span style=\"color: #808000; text-decoration-color: #808000\">...</span>.##\n",
       "##<span style=\"color: #808000; text-decoration-color: #808000\">...</span>.##<span style=\"color: #808000; text-decoration-color: #808000\">......</span><span style=\"font-weight: bold\">[]</span>##<span style=\"font-weight: bold\">[]</span><span style=\"color: #808000; text-decoration-color: #808000\">..............................</span><span style=\"font-weight: bold\">[][]</span>..<span style=\"font-weight: bold\">[]</span>..<span style=\"font-weight: bold\">[]</span>..<span style=\"font-weight: bold\">[]</span><span style=\"color: #808000; text-decoration-color: #808000\">...</span>.<span style=\"font-weight: bold\">[]</span><span style=\"color: #808000; text-decoration-color: #808000\">...</span>.<span style=\"font-weight: bold\">[][]</span><span style=\"color: #808000; text-decoration-color: #808000\">.........</span>.##..##..##\n",
       "##<span style=\"font-weight: bold\">[]</span>##..<span style=\"font-weight: bold\">[]</span>..<span style=\"font-weight: bold\">[]</span>..##..<span style=\"font-weight: bold\">[]</span><span style=\"color: #808000; text-decoration-color: #808000\">...</span>.<span style=\"font-weight: bold\">[]</span>##<span style=\"color: #808000; text-decoration-color: #808000\">......</span><span style=\"font-weight: bold\">[]</span><span style=\"color: #808000; text-decoration-color: #808000\">...</span>.<span style=\"font-weight: bold\">[]</span><span style=\"color: #808000; text-decoration-color: #808000\">......</span>..<span style=\"font-weight: bold\">[]</span><span style=\"color: #808000; text-decoration-color: #808000\">......</span>..<span style=\"font-weight: bold\">[][]</span>##<span style=\"font-weight: bold\">[]</span>..<span style=\"font-weight: bold\">[]</span>..<span style=\"font-weight: bold\">[][][]</span>..##<span style=\"color: #808000; text-decoration-color: #808000\">...</span>.<span style=\"font-weight: bold\">[]</span><span style=\"color: #808000; text-decoration-color: #808000\">......</span>##\n",
       "##<span style=\"color: #808000; text-decoration-color: #808000\">......</span>##..####<span style=\"color: #808000; text-decoration-color: #808000\">...............</span>.<span style=\"font-weight: bold\">[][]</span>..<span style=\"font-weight: bold\">[]</span>..<span style=\"font-weight: bold\">[]</span><span style=\"color: #808000; text-decoration-color: #808000\">...</span>.<span style=\"font-weight: bold\">[]</span><span style=\"color: #808000; text-decoration-color: #808000\">.........</span>.<span style=\"font-weight: bold\">[]</span>..<span style=\"font-weight: bold\">[]</span>##<span style=\"font-weight: bold\">[][]</span><span style=\"color: #808000; text-decoration-color: #808000\">...</span>.<span style=\"font-weight: bold\">[]</span>..<span style=\"font-weight: bold\">[]</span>..<span style=\"font-weight: bold\">[]</span>..####<span style=\"font-weight: bold\">[]</span><span style=\"color: #808000; text-decoration-color: #808000\">...</span>.##\n",
       "##<span style=\"font-weight: bold\">[]</span>##<span style=\"color: #808000; text-decoration-color: #808000\">......</span>####..##<span style=\"color: #808000; text-decoration-color: #808000\">......</span><span style=\"font-weight: bold\">[][]</span>..<span style=\"font-weight: bold\">[][]</span>..##<span style=\"font-weight: bold\">[]</span><span style=\"color: #808000; text-decoration-color: #808000\">...</span>.<span style=\"font-weight: bold\">[]</span><span style=\"color: #808000; text-decoration-color: #808000\">...</span>.##<span style=\"font-weight: bold\">[][]</span><span style=\"color: #808000; text-decoration-color: #808000\">...</span>.<span style=\"font-weight: bold\">[]</span>..<span style=\"font-weight: bold\">[]</span><span style=\"color: #808000; text-decoration-color: #808000\">............</span><span style=\"font-weight: bold\">[]</span>..<span style=\"font-weight: bold\">[]</span><span style=\"color: #808000; text-decoration-color: #808000\">............</span>##\n",
       "##..<span style=\"font-weight: bold\">[][]</span><span style=\"color: #808000; text-decoration-color: #808000\">......</span>..##..<span style=\"font-weight: bold\">[]</span><span style=\"color: #808000; text-decoration-color: #808000\">......</span><span style=\"font-weight: bold\">[]</span><span style=\"color: #808000; text-decoration-color: #808000\">...............</span>.<span style=\"font-weight: bold\">[][]</span><span style=\"color: #808000; text-decoration-color: #808000\">...</span>.<span style=\"font-weight: bold\">[]</span><span style=\"color: #808000; text-decoration-color: #808000\">............</span>..<span style=\"font-weight: bold\">[]</span>..<span style=\"font-weight: bold\">[]</span>##<span style=\"color: #808000; text-decoration-color: #808000\">...</span>.<span style=\"font-weight: bold\">[]</span><span style=\"color: #808000; text-decoration-color: #808000\">............</span>..##\n",
       "##<span style=\"font-weight: bold\">[]</span><span style=\"color: #808000; text-decoration-color: #808000\">...</span>.<span style=\"font-weight: bold\">[]</span><span style=\"color: #808000; text-decoration-color: #808000\">...</span>.<span style=\"font-weight: bold\">[]</span><span style=\"color: #808000; text-decoration-color: #808000\">......</span><span style=\"font-weight: bold\">[]</span><span style=\"color: #808000; text-decoration-color: #808000\">......</span><span style=\"font-weight: bold\">[]</span><span style=\"color: #808000; text-decoration-color: #808000\">............</span><span style=\"font-weight: bold\">[][]</span><span style=\"color: #808000; text-decoration-color: #808000\">...</span>.<span style=\"font-weight: bold\">[]</span><span style=\"color: #808000; text-decoration-color: #808000\">...</span>.<span style=\"font-weight: bold\">[]</span>..<span style=\"font-weight: bold\">[][][]</span>..##<span style=\"color: #808000; text-decoration-color: #808000\">......</span><span style=\"font-weight: bold\">[]</span><span style=\"color: #808000; text-decoration-color: #808000\">......</span>..##<span style=\"font-weight: bold\">[]</span><span style=\"color: #808000; text-decoration-color: #808000\">......</span>##\n",
       "##<span style=\"color: #808000; text-decoration-color: #808000\">.........</span>.##<span style=\"color: #808000; text-decoration-color: #808000\">......</span>##<span style=\"color: #808000; text-decoration-color: #808000\">......</span><span style=\"font-weight: bold\">[][]</span>..<span style=\"font-weight: bold\">[]</span><span style=\"color: #808000; text-decoration-color: #808000\">......</span><span style=\"font-weight: bold\">[]</span>..##<span style=\"color: #808000; text-decoration-color: #808000\">...</span>.##<span style=\"color: #808000; text-decoration-color: #808000\">...</span>.##<span style=\"font-weight: bold\">[][]</span><span style=\"color: #808000; text-decoration-color: #808000\">..................</span>..<span style=\"font-weight: bold\">[]</span>..<span style=\"font-weight: bold\">[]</span>..##<span style=\"font-weight: bold\">[]</span>..##\n",
       "##<span style=\"color: #808000; text-decoration-color: #808000\">......</span>..<span style=\"font-weight: bold\">[]</span><span style=\"color: #808000; text-decoration-color: #808000\">............</span><span style=\"font-weight: bold\">[]</span>##..<span style=\"font-weight: bold\">[]</span>..<span style=\"font-weight: bold\">[]</span><span style=\"color: #808000; text-decoration-color: #808000\">......</span>##<span style=\"color: #808000; text-decoration-color: #808000\">......</span><span style=\"font-weight: bold\">[]</span><span style=\"color: #808000; text-decoration-color: #808000\">...</span>.<span style=\"font-weight: bold\">[]</span>..<span style=\"font-weight: bold\">[]</span><span style=\"color: #808000; text-decoration-color: #808000\">.........</span>.<span style=\"font-weight: bold\">[]</span>..<span style=\"font-weight: bold\">[]</span><span style=\"color: #808000; text-decoration-color: #808000\">...</span>.<span style=\"font-weight: bold\">[]</span><span style=\"color: #808000; text-decoration-color: #808000\">.........</span>.<span style=\"font-weight: bold\">[][]</span>##\n",
       "##<span style=\"color: #808000; text-decoration-color: #808000\">...</span>.<span style=\"font-weight: bold\">[]</span><span style=\"color: #808000; text-decoration-color: #808000\">......</span>##..<span style=\"font-weight: bold\">[]</span><span style=\"color: #808000; text-decoration-color: #808000\">...</span>.<span style=\"font-weight: bold\">[]</span>..<span style=\"font-weight: bold\">[]</span><span style=\"color: #808000; text-decoration-color: #808000\">......</span><span style=\"font-weight: bold\">[]</span><span style=\"color: #808000; text-decoration-color: #808000\">............</span>##..##<span style=\"font-weight: bold\">[][][]</span><span style=\"color: #808000; text-decoration-color: #808000\">....................................</span>##\n",
       "##..<span style=\"font-weight: bold\">[]</span><span style=\"color: #808000; text-decoration-color: #808000\">.........</span>.<span style=\"font-weight: bold\">[][]</span>..<span style=\"font-weight: bold\">[]</span><span style=\"color: #808000; text-decoration-color: #808000\">......</span><span style=\"font-weight: bold\">[][]</span><span style=\"color: #808000; text-decoration-color: #808000\">............</span>..<span style=\"font-weight: bold\">[]</span>..##<span style=\"color: #808000; text-decoration-color: #808000\">......</span>##<span style=\"color: #808000; text-decoration-color: #808000\">......</span><span style=\"font-weight: bold\">[]</span><span style=\"color: #808000; text-decoration-color: #808000\">......</span>..<span style=\"font-weight: bold\">[]</span><span style=\"color: #808000; text-decoration-color: #808000\">.........</span>.<span style=\"font-weight: bold\">[]</span><span style=\"color: #808000; text-decoration-color: #808000\">......</span>##\n",
       "##<span style=\"font-weight: bold\">[]</span>####<span style=\"font-weight: bold\">[]</span>..##<span style=\"color: #808000; text-decoration-color: #808000\">...</span>.<span style=\"font-weight: bold\">[][][]</span><span style=\"color: #808000; text-decoration-color: #808000\">......</span>##<span style=\"color: #808000; text-decoration-color: #808000\">............</span><span style=\"font-weight: bold\">[]</span><span style=\"color: #808000; text-decoration-color: #808000\">...</span>.<span style=\"font-weight: bold\">[]</span><span style=\"color: #808000; text-decoration-color: #808000\">...</span>.##<span style=\"font-weight: bold\">[][]</span><span style=\"color: #808000; text-decoration-color: #808000\">..................</span><span style=\"font-weight: bold\">[]</span><span style=\"color: #808000; text-decoration-color: #808000\">...</span>.<span style=\"font-weight: bold\">[]</span><span style=\"color: #808000; text-decoration-color: #808000\">......</span><span style=\"font-weight: bold\">[][]</span>##\n",
       "##<span style=\"color: #808000; text-decoration-color: #808000\">...</span>.<span style=\"font-weight: bold\">[]</span>..<span style=\"font-weight: bold\">[]</span><span style=\"color: #808000; text-decoration-color: #808000\">......</span><span style=\"font-weight: bold\">[]</span><span style=\"color: #808000; text-decoration-color: #808000\">......</span>..<span style=\"font-weight: bold\">[]</span><span style=\"color: #808000; text-decoration-color: #808000\">...</span>.<span style=\"font-weight: bold\">[]</span><span style=\"color: #808000; text-decoration-color: #808000\">......</span>..##<span style=\"font-weight: bold\">[]</span><span style=\"color: #808000; text-decoration-color: #808000\">............</span>..<span style=\"font-weight: bold\">[]</span><span style=\"color: #808000; text-decoration-color: #808000\">............</span><span style=\"font-weight: bold\">[]</span><span style=\"color: #808000; text-decoration-color: #808000\">...</span>.<span style=\"font-weight: bold\">[][][][]</span>####..<span style=\"font-weight: bold\">[]</span>##\n",
       "##<span style=\"color: #808000; text-decoration-color: #808000\">...</span>.<span style=\"font-weight: bold\">[]</span>..##<span style=\"font-weight: bold\">[]</span><span style=\"color: #808000; text-decoration-color: #808000\">...</span>.<span style=\"font-weight: bold\">[]</span>..<span style=\"font-weight: bold\">[][][]</span><span style=\"color: #808000; text-decoration-color: #808000\">...</span>.##<span style=\"font-weight: bold\">[]</span><span style=\"color: #808000; text-decoration-color: #808000\">............</span>..<span style=\"font-weight: bold\">[]</span>..##..##<span style=\"font-weight: bold\">[][]</span>..<span style=\"font-weight: bold\">[]</span>..<span style=\"font-weight: bold\">[]</span>..<span style=\"font-weight: bold\">[]</span>..<span style=\"font-weight: bold\">[]</span><span style=\"color: #808000; text-decoration-color: #808000\">...</span>.<span style=\"font-weight: bold\">[]</span>..##<span style=\"color: #808000; text-decoration-color: #808000\">...</span>.##..##\n",
       "##<span style=\"color: #808000; text-decoration-color: #808000\">.........</span>.<span style=\"font-weight: bold\">[]</span>..<span style=\"font-weight: bold\">[][][]</span><span style=\"color: #808000; text-decoration-color: #808000\">......</span>##..<span style=\"font-weight: bold\">[]</span>..<span style=\"font-weight: bold\">[]</span><span style=\"color: #808000; text-decoration-color: #808000\">...</span>.<span style=\"font-weight: bold\">[]</span><span style=\"color: #808000; text-decoration-color: #808000\">......</span><span style=\"font-weight: bold\">[]</span>..<span style=\"font-weight: bold\">[][]</span><span style=\"color: #808000; text-decoration-color: #808000\">......</span><span style=\"font-weight: bold\">[][][]</span><span style=\"color: #808000; text-decoration-color: #808000\">...</span>.##..<span style=\"font-weight: bold\">[]</span>..<span style=\"font-weight: bold\">[]</span>..<span style=\"font-weight: bold\">[][]</span>..<span style=\"font-weight: bold\">[][][]</span>##\n",
       "####################################################################################################\n",
       "</pre>\n"
      ],
      "text/plain": [
       "####################################################################################################\n",
       "####..##\u001b[33m...\u001b[0m\u001b[33m...\u001b[0m\u001b[1m[\u001b[0m\u001b[1m]\u001b[0m\u001b[1m[\u001b[0m\u001b[1m]\u001b[0m##\u001b[1m[\u001b[0m\u001b[1m]\u001b[0m\u001b[33m...\u001b[0m\u001b[33m...\u001b[0m\u001b[1m[\u001b[0m\u001b[1m]\u001b[0m..\u001b[1m[\u001b[0m\u001b[1m]\u001b[0m\u001b[33m...\u001b[0m.##..##\u001b[1m[\u001b[0m\u001b[1m]\u001b[0m\u001b[33m...\u001b[0m\u001b[33m...\u001b[0m\u001b[33m...\u001b[0m\u001b[33m...\u001b[0m\u001b[33m...\u001b[0m\u001b[33m...\u001b[0m\u001b[33m...\u001b[0m\u001b[33m...\u001b[0m..\u001b[1m[\u001b[0m\u001b[1m]\u001b[0m\u001b[33m...\u001b[0m\u001b[33m...\u001b[0m\u001b[1m[\u001b[0m\u001b[1m]\u001b[0m..\u001b[1m[\u001b[0m\u001b[1m]\u001b[0m..\u001b[1m[\u001b[0m\u001b[1m]\u001b[0m..\u001b[1m[\u001b[0m\u001b[1m]\u001b[0m\u001b[1m[\u001b[0m\u001b[1m]\u001b[0m..##\n",
       "##\u001b[1m[\u001b[0m\u001b[1m]\u001b[0m##\u001b[1m[\u001b[0m\u001b[1m]\u001b[0m\u001b[33m...\u001b[0m\u001b[33m...\u001b[0m\u001b[33m...\u001b[0m.\u001b[1m[\u001b[0m\u001b[1m]\u001b[0m\u001b[33m...\u001b[0m\u001b[33m...\u001b[0m\u001b[1m[\u001b[0m\u001b[1m]\u001b[0m\u001b[33m...\u001b[0m.\u001b[1m[\u001b[0m\u001b[1m]\u001b[0m##\u001b[1m[\u001b[0m\u001b[1m]\u001b[0m\u001b[1m[\u001b[0m\u001b[1m]\u001b[0m\u001b[33m...\u001b[0m.\u001b[1m[\u001b[0m\u001b[1m]\u001b[0m\u001b[33m...\u001b[0m.\u001b[1m[\u001b[0m\u001b[1m]\u001b[0m\u001b[1m[\u001b[0m\u001b[1m]\u001b[0m\u001b[33m...\u001b[0m\u001b[33m...\u001b[0m..\u001b[1m[\u001b[0m\u001b[1m]\u001b[0m\u001b[1m[\u001b[0m\u001b[1m]\u001b[0m\u001b[33m...\u001b[0m\u001b[33m...\u001b[0m\u001b[33m...\u001b[0m\u001b[33m...\u001b[0m\u001b[33m...\u001b[0m.##\u001b[33m...\u001b[0m.##\u001b[33m...\u001b[0m\u001b[33m...\u001b[0m..##\n",
       "##\u001b[33m...\u001b[0m.\u001b[1m[\u001b[0m\u001b[1m]\u001b[0m..\u001b[1m[\u001b[0m\u001b[1m]\u001b[0m..\u001b[1m[\u001b[0m\u001b[1m]\u001b[0m\u001b[33m...\u001b[0m\u001b[33m...\u001b[0m\u001b[1m[\u001b[0m\u001b[1m]\u001b[0m\u001b[1m[\u001b[0m\u001b[1m]\u001b[0m\u001b[1m[\u001b[0m\u001b[1m]\u001b[0m\u001b[33m...\u001b[0m.\u001b[1m[\u001b[0m\u001b[1m]\u001b[0m\u001b[33m...\u001b[0m.##..##\u001b[33m...\u001b[0m.\u001b[1m[\u001b[0m\u001b[1m]\u001b[0m..\u001b[1m[\u001b[0m\u001b[1m]\u001b[0m\u001b[1m[\u001b[0m\u001b[1m]\u001b[0m\u001b[1m[\u001b[0m\u001b[1m]\u001b[0m\u001b[33m...\u001b[0m\u001b[33m...\u001b[0m..\u001b[1m[\u001b[0m\u001b[1m]\u001b[0m\u001b[33m...\u001b[0m\u001b[33m...\u001b[0m\u001b[33m...\u001b[0m.\u001b[1m[\u001b[0m\u001b[1m]\u001b[0m\u001b[1m[\u001b[0m\u001b[1m]\u001b[0m##..\u001b[1m[\u001b[0m\u001b[1m]\u001b[0m##..##..\u001b[1m[\u001b[0m\u001b[1m]\u001b[0m##\n",
       "##\u001b[33m...\u001b[0m\u001b[33m...\u001b[0m\u001b[33m...\u001b[0m.##\u001b[33m...\u001b[0m\u001b[33m...\u001b[0m..\u001b[1m[\u001b[0m\u001b[1m]\u001b[0m..\u001b[1m[\u001b[0m\u001b[1m]\u001b[0m\u001b[33m...\u001b[0m.##..##..\u001b[1m[\u001b[0m\u001b[1m]\u001b[0m\u001b[33m...\u001b[0m\u001b[33m...\u001b[0m\u001b[1m[\u001b[0m\u001b[1m]\u001b[0m\u001b[1m[\u001b[0m\u001b[1m]\u001b[0m\u001b[1m[\u001b[0m\u001b[1m]\u001b[0m\u001b[33m...\u001b[0m.##\u001b[33m...\u001b[0m\u001b[33m...\u001b[0m\u001b[1m[\u001b[0m\u001b[1m]\u001b[0m\u001b[33m...\u001b[0m\u001b[33m...\u001b[0m\u001b[1m[\u001b[0m\u001b[1m]\u001b[0m\u001b[33m...\u001b[0m\u001b[33m...\u001b[0m..\u001b[1m[\u001b[0m\u001b[1m]\u001b[0m\u001b[1m[\u001b[0m\u001b[1m]\u001b[0m\u001b[33m...\u001b[0m\u001b[33m...\u001b[0m\u001b[33m...\u001b[0m.##\n",
       "##\u001b[1m[\u001b[0m\u001b[1m]\u001b[0m..\u001b[1m[\u001b[0m\u001b[1m]\u001b[0m##\u001b[33m...\u001b[0m\u001b[33m...\u001b[0m\u001b[33m...\u001b[0m.\u001b[1m[\u001b[0m\u001b[1m]\u001b[0m\u001b[33m...\u001b[0m\u001b[33m...\u001b[0m..\u001b[1m[\u001b[0m\u001b[1m]\u001b[0m##..\u001b[1m[\u001b[0m\u001b[1m]\u001b[0m\u001b[33m...\u001b[0m.\u001b[1m[\u001b[0m\u001b[1m]\u001b[0m\u001b[1m[\u001b[0m\u001b[1m]\u001b[0m..\u001b[1m[\u001b[0m\u001b[1m]\u001b[0m\u001b[33m...\u001b[0m\u001b[33m...\u001b[0m##\u001b[1m[\u001b[0m\u001b[1m]\u001b[0m\u001b[33m...\u001b[0m\u001b[33m...\u001b[0m\u001b[33m...\u001b[0m\u001b[33m...\u001b[0m\u001b[33m...\u001b[0m\u001b[33m...\u001b[0m\u001b[1m[\u001b[0m\u001b[1m]\u001b[0m\u001b[33m...\u001b[0m\u001b[33m...\u001b[0m\u001b[1m[\u001b[0m\u001b[1m]\u001b[0m..\u001b[1m[\u001b[0m\u001b[1m]\u001b[0m..\u001b[1m[\u001b[0m\u001b[1m]\u001b[0m\u001b[1m[\u001b[0m\u001b[1m]\u001b[0m##\n",
       "##\u001b[33m...\u001b[0m.\u001b[1m[\u001b[0m\u001b[1m]\u001b[0m\u001b[33m...\u001b[0m.##\u001b[1m[\u001b[0m\u001b[1m]\u001b[0m\u001b[1m[\u001b[0m\u001b[1m]\u001b[0m\u001b[33m...\u001b[0m\u001b[33m...\u001b[0m\u001b[33m...\u001b[0m\u001b[33m...\u001b[0m\u001b[33m...\u001b[0m\u001b[33m...\u001b[0m\u001b[1m[\u001b[0m\u001b[1m]\u001b[0m..##\u001b[33m...\u001b[0m\u001b[33m...\u001b[0m\u001b[1m[\u001b[0m\u001b[1m]\u001b[0m\u001b[33m...\u001b[0m\u001b[33m...\u001b[0m..\u001b[1m[\u001b[0m\u001b[1m]\u001b[0m\u001b[33m...\u001b[0m.\u001b[1m[\u001b[0m\u001b[1m]\u001b[0m\u001b[1m[\u001b[0m\u001b[1m]\u001b[0m\u001b[1m[\u001b[0m\u001b[1m]\u001b[0m\u001b[1m[\u001b[0m\u001b[1m]\u001b[0m\u001b[1m[\u001b[0m\u001b[1m]\u001b[0m..\u001b[1m[\u001b[0m\u001b[1m]\u001b[0m\u001b[33m...\u001b[0m\u001b[33m...\u001b[0m..\u001b[1m[\u001b[0m\u001b[1m]\u001b[0m\u001b[33m...\u001b[0m.\u001b[1m[\u001b[0m\u001b[1m]\u001b[0m..####\n",
       "####\u001b[1m[\u001b[0m\u001b[1m]\u001b[0m##\u001b[33m...\u001b[0m\u001b[33m...\u001b[0m..\u001b[1m[\u001b[0m\u001b[1m]\u001b[0m\u001b[1m[\u001b[0m\u001b[1m]\u001b[0m\u001b[1m[\u001b[0m\u001b[1m]\u001b[0m\u001b[33m...\u001b[0m\u001b[33m...\u001b[0m\u001b[33m...\u001b[0m\u001b[33m...\u001b[0m##\u001b[1m[\u001b[0m\u001b[1m]\u001b[0m##..##..####\u001b[1m[\u001b[0m\u001b[1m]\u001b[0m\u001b[33m...\u001b[0m.\u001b[1m[\u001b[0m\u001b[1m]\u001b[0m\u001b[33m...\u001b[0m\u001b[33m...\u001b[0m\u001b[1m[\u001b[0m\u001b[1m]\u001b[0m..\u001b[1m[\u001b[0m\u001b[1m]\u001b[0m..\u001b[1m[\u001b[0m\u001b[1m]\u001b[0m\u001b[1m[\u001b[0m\u001b[1m]\u001b[0m\u001b[1m[\u001b[0m\u001b[1m]\u001b[0m##\u001b[33m...\u001b[0m\u001b[33m...\u001b[0m\u001b[33m...\u001b[0m\u001b[33m...\u001b[0m\u001b[33m...\u001b[0m\u001b[33m...\u001b[0m##\n",
       "##\u001b[1m[\u001b[0m\u001b[1m]\u001b[0m\u001b[33m...\u001b[0m\u001b[33m...\u001b[0m..\u001b[1m[\u001b[0m\u001b[1m]\u001b[0m\u001b[33m...\u001b[0m\u001b[33m...\u001b[0m\u001b[1m[\u001b[0m\u001b[1m]\u001b[0m\u001b[33m...\u001b[0m\u001b[33m...\u001b[0m\u001b[1m[\u001b[0m\u001b[1m]\u001b[0m##\u001b[1m[\u001b[0m\u001b[1m]\u001b[0m\u001b[1m[\u001b[0m\u001b[1m]\u001b[0m\u001b[33m...\u001b[0m\u001b[33m...\u001b[0m\u001b[33m...\u001b[0m\u001b[33m...\u001b[0m\u001b[33m...\u001b[0m\u001b[33m...\u001b[0m\u001b[1m[\u001b[0m\u001b[1m]\u001b[0m\u001b[33m...\u001b[0m\u001b[33m...\u001b[0m\u001b[33m...\u001b[0m\u001b[33m...\u001b[0m\u001b[33m...\u001b[0m\u001b[33m...\u001b[0m\u001b[1m[\u001b[0m\u001b[1m]\u001b[0m..\u001b[1m[\u001b[0m\u001b[1m]\u001b[0m\u001b[33m...\u001b[0m\u001b[33m...\u001b[0m\u001b[33m...\u001b[0m\u001b[33m...\u001b[0m..\u001b[1m[\u001b[0m\u001b[1m]\u001b[0m####\n",
       "##\u001b[33m...\u001b[0m\u001b[33m...\u001b[0m\u001b[33m...\u001b[0m\u001b[33m...\u001b[0m\u001b[1m[\u001b[0m\u001b[1m]\u001b[0m\u001b[1m[\u001b[0m\u001b[1m]\u001b[0m\u001b[1m[\u001b[0m\u001b[1m]\u001b[0m\u001b[33m...\u001b[0m\u001b[33m...\u001b[0m\u001b[1m[\u001b[0m\u001b[1m]\u001b[0m\u001b[1m[\u001b[0m\u001b[1m]\u001b[0m\u001b[1m[\u001b[0m\u001b[1m]\u001b[0m..\u001b[1m[\u001b[0m\u001b[1m]\u001b[0m\u001b[33m...\u001b[0m\u001b[33m...\u001b[0m\u001b[33m...\u001b[0m\u001b[33m...\u001b[0m\u001b[33m...\u001b[0m.\u001b[1m[\u001b[0m\u001b[1m]\u001b[0m\u001b[1m[\u001b[0m\u001b[1m]\u001b[0m\u001b[1m[\u001b[0m\u001b[1m]\u001b[0m\u001b[1m[\u001b[0m\u001b[1m]\u001b[0m\u001b[33m...\u001b[0m\u001b[33m...\u001b[0m\u001b[33m...\u001b[0m.\u001b[1m[\u001b[0m\u001b[1m]\u001b[0m\u001b[33m...\u001b[0m.\u001b[1m[\u001b[0m\u001b[1m]\u001b[0m..\u001b[1m[\u001b[0m\u001b[1m]\u001b[0m\u001b[33m...\u001b[0m\u001b[33m...\u001b[0m\u001b[33m...\u001b[0m\u001b[33m...\u001b[0m\u001b[1m[\u001b[0m\u001b[1m]\u001b[0m..##\n",
       "##..\u001b[1m[\u001b[0m\u001b[1m]\u001b[0m\u001b[33m...\u001b[0m\u001b[33m...\u001b[0m..\u001b[1m[\u001b[0m\u001b[1m]\u001b[0m##\u001b[33m...\u001b[0m\u001b[33m...\u001b[0m##\u001b[1m[\u001b[0m\u001b[1m]\u001b[0m..\u001b[1m[\u001b[0m\u001b[1m]\u001b[0m..\u001b[1m[\u001b[0m\u001b[1m]\u001b[0m\u001b[1m[\u001b[0m\u001b[1m]\u001b[0m\u001b[1m[\u001b[0m\u001b[1m]\u001b[0m\u001b[33m...\u001b[0m\u001b[33m...\u001b[0m\u001b[1m[\u001b[0m\u001b[1m]\u001b[0m\u001b[33m...\u001b[0m\u001b[33m...\u001b[0m\u001b[1m[\u001b[0m\u001b[1m]\u001b[0m\u001b[33m...\u001b[0m.\u001b[1m[\u001b[0m\u001b[1m]\u001b[0m\u001b[33m...\u001b[0m\u001b[33m...\u001b[0m##\u001b[1m[\u001b[0m\u001b[1m]\u001b[0m\u001b[1m[\u001b[0m\u001b[1m]\u001b[0m\u001b[33m...\u001b[0m\u001b[33m...\u001b[0m\u001b[33m...\u001b[0m\u001b[33m...\u001b[0m\u001b[33m...\u001b[0m\u001b[33m...\u001b[0m\u001b[1m[\u001b[0m\u001b[1m]\u001b[0m\u001b[33m...\u001b[0m.##\n",
       "##\u001b[33m...\u001b[0m\u001b[33m...\u001b[0m..##\u001b[1m[\u001b[0m\u001b[1m]\u001b[0m\u001b[33m...\u001b[0m.\u001b[1m[\u001b[0m\u001b[1m]\u001b[0m..\u001b[1m[\u001b[0m\u001b[1m]\u001b[0m##\u001b[33m...\u001b[0m\u001b[33m...\u001b[0m\u001b[33m...\u001b[0m\u001b[33m...\u001b[0m\u001b[33m...\u001b[0m\u001b[33m...\u001b[0m\u001b[33m...\u001b[0m\u001b[33m...\u001b[0m..\u001b[1m[\u001b[0m\u001b[1m]\u001b[0m\u001b[33m...\u001b[0m\u001b[33m...\u001b[0m\u001b[1m[\u001b[0m\u001b[1m]\u001b[0m##..\u001b[1m[\u001b[0m\u001b[1m]\u001b[0m..##..\u001b[1m[\u001b[0m\u001b[1m]\u001b[0m\u001b[33m...\u001b[0m\u001b[33m...\u001b[0m..##\u001b[33m...\u001b[0m\u001b[33m...\u001b[0m\u001b[33m...\u001b[0m\u001b[33m...\u001b[0m##\n",
       "####\u001b[33m...\u001b[0m.\u001b[1m[\u001b[0m\u001b[1m]\u001b[0m\u001b[33m...\u001b[0m.\u001b[1m[\u001b[0m\u001b[1m]\u001b[0m..\u001b[1m[\u001b[0m\u001b[1m]\u001b[0m\u001b[1m[\u001b[0m\u001b[1m]\u001b[0m\u001b[1m[\u001b[0m\u001b[1m]\u001b[0m..\u001b[1m[\u001b[0m\u001b[1m]\u001b[0m\u001b[33m...\u001b[0m\u001b[33m...\u001b[0m\u001b[33m...\u001b[0m\u001b[33m...\u001b[0m\u001b[33m...\u001b[0m\u001b[33m...\u001b[0m\u001b[33m...\u001b[0m\u001b[33m...\u001b[0m\u001b[33m...\u001b[0m\u001b[33m...\u001b[0m\u001b[33m...\u001b[0m\u001b[33m...\u001b[0m..\u001b[1m[\u001b[0m\u001b[1m]\u001b[0m##\u001b[33m...\u001b[0m\u001b[33m...\u001b[0m\u001b[1m[\u001b[0m\u001b[1m]\u001b[0m\u001b[33m...\u001b[0m\u001b[33m...\u001b[0m\u001b[33m...\u001b[0m.##\u001b[33m...\u001b[0m\u001b[33m...\u001b[0m\u001b[1m[\u001b[0m\u001b[1m]\u001b[0m##\n",
       "##\u001b[33m...\u001b[0m\u001b[33m...\u001b[0m..\u001b[1m[\u001b[0m\u001b[1m]\u001b[0m..\u001b[1m[\u001b[0m\u001b[1m]\u001b[0m\u001b[33m...\u001b[0m\u001b[33m...\u001b[0m\u001b[33m...\u001b[0m\u001b[33m...\u001b[0m\u001b[33m...\u001b[0m.\u001b[1m[\u001b[0m\u001b[1m]\u001b[0m..\u001b[1m[\u001b[0m\u001b[1m]\u001b[0m..##\u001b[1m[\u001b[0m\u001b[1m]\u001b[0m..\u001b[1m[\u001b[0m\u001b[1m]\u001b[0m\u001b[1m[\u001b[0m\u001b[1m]\u001b[0m\u001b[33m...\u001b[0m\u001b[33m...\u001b[0m\u001b[1m[\u001b[0m\u001b[1m]\u001b[0m\u001b[33m...\u001b[0m\u001b[33m...\u001b[0m..\u001b[1m[\u001b[0m\u001b[1m]\u001b[0m\u001b[33m...\u001b[0m\u001b[33m...\u001b[0m\u001b[33m...\u001b[0m.\u001b[1m[\u001b[0m\u001b[1m]\u001b[0m\u001b[1m[\u001b[0m\u001b[1m]\u001b[0m\u001b[33m...\u001b[0m\u001b[33m...\u001b[0m..\u001b[1m[\u001b[0m\u001b[1m]\u001b[0m\u001b[33m...\u001b[0m\u001b[33m...\u001b[0m##\n",
       "##\u001b[1m[\u001b[0m\u001b[1m]\u001b[0m\u001b[33m...\u001b[0m\u001b[33m...\u001b[0m\u001b[1m[\u001b[0m\u001b[1m]\u001b[0m..\u001b[1m[\u001b[0m\u001b[1m]\u001b[0m\u001b[33m...\u001b[0m\u001b[33m...\u001b[0m..\u001b[1m[\u001b[0m\u001b[1m]\u001b[0m\u001b[1m[\u001b[0m\u001b[1m]\u001b[0m\u001b[1m[\u001b[0m\u001b[1m]\u001b[0m\u001b[1m[\u001b[0m\u001b[1m]\u001b[0m..\u001b[1m[\u001b[0m\u001b[1m]\u001b[0m\u001b[33m...\u001b[0m.##\u001b[33m...\u001b[0m.\u001b[1m[\u001b[0m\u001b[1m]\u001b[0m\u001b[33m...\u001b[0m.\u001b[1m[\u001b[0m\u001b[1m]\u001b[0m..##\u001b[33m...\u001b[0m\u001b[33m...\u001b[0m..\u001b[1m[\u001b[0m\u001b[1m]\u001b[0m\u001b[1m[\u001b[0m\u001b[1m]\u001b[0m\u001b[1m[\u001b[0m\u001b[1m]\u001b[0m\u001b[1m[\u001b[0m\u001b[1m]\u001b[0m##\u001b[33m...\u001b[0m\u001b[33m...\u001b[0m\u001b[33m...\u001b[0m.\u001b[1m[\u001b[0m\u001b[1m]\u001b[0m\u001b[1m[\u001b[0m\u001b[1m]\u001b[0m\u001b[1m[\u001b[0m\u001b[1m]\u001b[0m..##..##\n",
       "##\u001b[33m...\u001b[0m\u001b[33m...\u001b[0m##\u001b[1m[\u001b[0m\u001b[1m]\u001b[0m\u001b[33m...\u001b[0m\u001b[33m...\u001b[0m\u001b[33m...\u001b[0m\u001b[33m...\u001b[0m\u001b[33m...\u001b[0m\u001b[33m...\u001b[0m\u001b[1m[\u001b[0m\u001b[1m]\u001b[0m\u001b[33m...\u001b[0m\u001b[33m...\u001b[0m\u001b[33m...\u001b[0m\u001b[33m...\u001b[0m\u001b[1m[\u001b[0m\u001b[1m]\u001b[0m\u001b[1m[\u001b[0m\u001b[1m]\u001b[0m\u001b[33m...\u001b[0m.\u001b[1m[\u001b[0m\u001b[1m]\u001b[0m..\u001b[1m[\u001b[0m\u001b[1m]\u001b[0m\u001b[33m...\u001b[0m.##\u001b[33m...\u001b[0m\u001b[33m...\u001b[0m\u001b[1m[\u001b[0m\u001b[1m]\u001b[0m\u001b[1m[\u001b[0m\u001b[1m]\u001b[0m##..####..##\u001b[33m...\u001b[0m\u001b[33m...\u001b[0m\u001b[1m[\u001b[0m\u001b[1m]\u001b[0m\u001b[1m[\u001b[0m\u001b[1m]\u001b[0m####\n",
       "##\u001b[33m...\u001b[0m\u001b[33m...\u001b[0m\u001b[1m[\u001b[0m\u001b[1m]\u001b[0m\u001b[33m...\u001b[0m\u001b[33m...\u001b[0m\u001b[1m[\u001b[0m\u001b[1m]\u001b[0m\u001b[1m[\u001b[0m\u001b[1m]\u001b[0m..##\u001b[33m...\u001b[0m\u001b[33m...\u001b[0m\u001b[1m[\u001b[0m\u001b[1m]\u001b[0m\u001b[33m...\u001b[0m\u001b[33m...\u001b[0m..##\u001b[33m...\u001b[0m.\u001b[1m[\u001b[0m\u001b[1m]\u001b[0m\u001b[33m...\u001b[0m\u001b[33m...\u001b[0m\u001b[33m...\u001b[0m\u001b[33m...\u001b[0m\u001b[33m...\u001b[0m\u001b[33m...\u001b[0m\u001b[33m...\u001b[0m.##\u001b[33m...\u001b[0m\u001b[33m...\u001b[0m\u001b[33m...\u001b[0m\u001b[33m...\u001b[0m..\u001b[1m[\u001b[0m\u001b[1m]\u001b[0m##..\u001b[1m[\u001b[0m\u001b[1m]\u001b[0m\u001b[33m...\u001b[0m.##\n",
       "##\u001b[33m...\u001b[0m\u001b[33m...\u001b[0m..\u001b[1m[\u001b[0m\u001b[1m]\u001b[0m\u001b[1m[\u001b[0m\u001b[1m]\u001b[0m\u001b[33m...\u001b[0m\u001b[33m...\u001b[0m\u001b[33m...\u001b[0m\u001b[33m...\u001b[0m..\u001b[1m[\u001b[0m\u001b[1m]\u001b[0m\u001b[33m...\u001b[0m\u001b[33m...\u001b[0m####..##\u001b[33m...\u001b[0m\u001b[33m...\u001b[0m\u001b[1m[\u001b[0m\u001b[1m]\u001b[0m\u001b[33m...\u001b[0m.\u001b[1m[\u001b[0m\u001b[1m]\u001b[0m..\u001b[1m[\u001b[0m\u001b[1m]\u001b[0m\u001b[33m...\u001b[0m.##\u001b[33m...\u001b[0m.\u001b[1m[\u001b[0m\u001b[1m]\u001b[0m\u001b[33m...\u001b[0m\u001b[33m...\u001b[0m\u001b[33m...\u001b[0m.\u001b[1m[\u001b[0m\u001b[1m]\u001b[0m..\u001b[1m[\u001b[0m\u001b[1m]\u001b[0m..\u001b[1m[\u001b[0m\u001b[1m]\u001b[0m\u001b[33m...\u001b[0m.##\n",
       "##\u001b[33m...\u001b[0m.\u001b[1m[\u001b[0m\u001b[1m]\u001b[0m..\u001b[1m[\u001b[0m\u001b[1m]\u001b[0m\u001b[33m...\u001b[0m\u001b[33m...\u001b[0m\u001b[1m[\u001b[0m\u001b[1m]\u001b[0m\u001b[33m...\u001b[0m\u001b[33m...\u001b[0m..\u001b[1m[\u001b[0m\u001b[1m]\u001b[0m\u001b[33m...\u001b[0m.\u001b[1m[\u001b[0m\u001b[1m]\u001b[0m\u001b[33m...\u001b[0m\u001b[33m...\u001b[0m..\u001b[1m[\u001b[0m\u001b[1m]\u001b[0m..\u001b[1m[\u001b[0m\u001b[1m]\u001b[0m\u001b[33m...\u001b[0m.\u001b[1m[\u001b[0m\u001b[1m]\u001b[0m..\u001b[1m[\u001b[0m\u001b[1m]\u001b[0m..\u001b[1m[\u001b[0m\u001b[1m]\u001b[0m\u001b[33m...\u001b[0m\u001b[33m...\u001b[0m\u001b[33m...\u001b[0m\u001b[33m...\u001b[0m..\u001b[1m[\u001b[0m\u001b[1m]\u001b[0m\u001b[1m[\u001b[0m\u001b[1m]\u001b[0m\u001b[33m...\u001b[0m\u001b[33m...\u001b[0m\u001b[33m...\u001b[0m.\u001b[1m[\u001b[0m\u001b[1m]\u001b[0m..####\n",
       "##\u001b[1m[\u001b[0m\u001b[1m]\u001b[0m\u001b[33m...\u001b[0m.\u001b[1m[\u001b[0m\u001b[1m]\u001b[0m\u001b[33m...\u001b[0m\u001b[33m...\u001b[0m\u001b[33m...\u001b[0m\u001b[33m...\u001b[0m\u001b[33m...\u001b[0m\u001b[33m...\u001b[0m\u001b[1m[\u001b[0m\u001b[1m]\u001b[0m\u001b[33m...\u001b[0m\u001b[33m...\u001b[0m\u001b[33m...\u001b[0m\u001b[33m...\u001b[0m..\u001b[1m[\u001b[0m\u001b[1m]\u001b[0m..\u001b[1m[\u001b[0m\u001b[1m]\u001b[0m..\u001b[1m[\u001b[0m\u001b[1m]\u001b[0m\u001b[33m...\u001b[0m.\u001b[1m[\u001b[0m\u001b[1m]\u001b[0m##..\u001b[1m[\u001b[0m\u001b[1m]\u001b[0m\u001b[1m[\u001b[0m\u001b[1m]\u001b[0m..\u001b[1m[\u001b[0m\u001b[1m]\u001b[0m..\u001b[1m[\u001b[0m\u001b[1m]\u001b[0m..\u001b[1m[\u001b[0m\u001b[1m]\u001b[0m\u001b[1m[\u001b[0m\u001b[1m]\u001b[0m\u001b[33m...\u001b[0m\u001b[33m...\u001b[0m\u001b[33m...\u001b[0m\u001b[33m...\u001b[0m##..##\n",
       "##\u001b[1m[\u001b[0m\u001b[1m]\u001b[0m\u001b[1m[\u001b[0m\u001b[1m]\u001b[0m..\u001b[1m[\u001b[0m\u001b[1m]\u001b[0m\u001b[33m...\u001b[0m.\u001b[1m[\u001b[0m\u001b[1m]\u001b[0m\u001b[1m[\u001b[0m\u001b[1m]\u001b[0m\u001b[1m[\u001b[0m\u001b[1m]\u001b[0m\u001b[33m...\u001b[0m\u001b[33m...\u001b[0m\u001b[33m...\u001b[0m.\u001b[1m[\u001b[0m\u001b[1m]\u001b[0m\u001b[1m[\u001b[0m\u001b[1m]\u001b[0m..##\u001b[33m...\u001b[0m.##\u001b[33m...\u001b[0m\u001b[33m...\u001b[0m..\u001b[1m[\u001b[0m\u001b[1m]\u001b[0m\u001b[1m[\u001b[0m\u001b[1m]\u001b[0m\u001b[33m...\u001b[0m.\u001b[1m[\u001b[0m\u001b[1m]\u001b[0m..##..##..\u001b[1m[\u001b[0m\u001b[1m]\u001b[0m\u001b[33m...\u001b[0m.\u001b[1m[\u001b[0m\u001b[1m]\u001b[0m..\u001b[1m[\u001b[0m\u001b[1m]\u001b[0m..\u001b[1m[\u001b[0m\u001b[1m]\u001b[0m..\u001b[1m[\u001b[0m\u001b[1m]\u001b[0m..##..##\n",
       "##\u001b[33m...\u001b[0m.\u001b[1m[\u001b[0m\u001b[1m]\u001b[0m\u001b[33m...\u001b[0m\u001b[33m...\u001b[0m\u001b[1m[\u001b[0m\u001b[1m]\u001b[0m\u001b[33m...\u001b[0m\u001b[33m...\u001b[0m\u001b[33m...\u001b[0m.\u001b[1m[\u001b[0m\u001b[1m]\u001b[0m\u001b[1m[\u001b[0m\u001b[1m]\u001b[0m\u001b[33m...\u001b[0m.##\u001b[33m...\u001b[0m.\u001b[1m[\u001b[0m\u001b[1m]\u001b[0m\u001b[33m...\u001b[0m\u001b[33m...\u001b[0m##\u001b[33m...\u001b[0m\u001b[33m...\u001b[0m..\u001b[1m[\u001b[0m\u001b[1m]\u001b[0m\u001b[33m...\u001b[0m.\u001b[1m[\u001b[0m\u001b[1m]\u001b[0m\u001b[1m[\u001b[0m\u001b[1m]\u001b[0m..##\u001b[1m[\u001b[0m\u001b[1m]\u001b[0m..\u001b[1m[\u001b[0m\u001b[1m]\u001b[0m\u001b[33m...\u001b[0m\u001b[33m...\u001b[0m\u001b[1m[\u001b[0m\u001b[1m]\u001b[0m..\u001b[1m[\u001b[0m\u001b[1m]\u001b[0m\u001b[33m...\u001b[0m.\u001b[1m[\u001b[0m\u001b[1m]\u001b[0m\u001b[1m[\u001b[0m\u001b[1m]\u001b[0m##\n",
       "##\u001b[33m...\u001b[0m\u001b[33m...\u001b[0m\u001b[33m...\u001b[0m.##\u001b[1m[\u001b[0m\u001b[1m]\u001b[0m\u001b[1m[\u001b[0m\u001b[1m]\u001b[0m..\u001b[1m[\u001b[0m\u001b[1m]\u001b[0m\u001b[33m...\u001b[0m\u001b[33m...\u001b[0m\u001b[1m[\u001b[0m\u001b[1m]\u001b[0m\u001b[33m...\u001b[0m\u001b[33m...\u001b[0m##\u001b[1m[\u001b[0m\u001b[1m]\u001b[0m\u001b[33m...\u001b[0m.##\u001b[33m...\u001b[0m.\u001b[1m[\u001b[0m\u001b[1m]\u001b[0m\u001b[1m[\u001b[0m\u001b[1m]\u001b[0m\u001b[33m...\u001b[0m\u001b[33m...\u001b[0m\u001b[1m[\u001b[0m\u001b[1m]\u001b[0m\u001b[33m...\u001b[0m.##\u001b[1m[\u001b[0m\u001b[1m]\u001b[0m\u001b[1m[\u001b[0m\u001b[1m]\u001b[0m\u001b[33m...\u001b[0m\u001b[33m...\u001b[0m\u001b[33m...\u001b[0m\u001b[33m...\u001b[0m\u001b[33m...\u001b[0m\u001b[33m...\u001b[0m\u001b[33m...\u001b[0m.\u001b[1m[\u001b[0m\u001b[1m]\u001b[0m\u001b[1m[\u001b[0m\u001b[1m]\u001b[0m##\n",
       "##\u001b[33m...\u001b[0m.##\u001b[1m[\u001b[0m\u001b[1m]\u001b[0m\u001b[33m...\u001b[0m\u001b[33m...\u001b[0m\u001b[1m[\u001b[0m\u001b[1m]\u001b[0m\u001b[33m...\u001b[0m.##..\u001b[1m[\u001b[0m\u001b[1m]\u001b[0m\u001b[33m...\u001b[0m\u001b[33m...\u001b[0m\u001b[1m[\u001b[0m\u001b[1m]\u001b[0m##\u001b[33m...\u001b[0m\u001b[33m...\u001b[0m\u001b[33m...\u001b[0m.##\u001b[1m[\u001b[0m\u001b[1m]\u001b[0m..\u001b[1m[\u001b[0m\u001b[1m]\u001b[0m\u001b[1m[\u001b[0m\u001b[1m]\u001b[0m\u001b[1m[\u001b[0m\u001b[1m]\u001b[0m\u001b[1m[\u001b[0m\u001b[1m]\u001b[0m\u001b[1m[\u001b[0m\u001b[1m]\u001b[0m\u001b[1m[\u001b[0m\u001b[1m]\u001b[0m\u001b[33m...\u001b[0m\u001b[33m...\u001b[0m##..\u001b[1m[\u001b[0m\u001b[1m]\u001b[0m..\u001b[1m[\u001b[0m\u001b[1m]\u001b[0m..\u001b[1m[\u001b[0m\u001b[1m]\u001b[0m..\u001b[1m[\u001b[0m\u001b[1m]\u001b[0m\u001b[33m...\u001b[0m.\u001b[1m[\u001b[0m\u001b[1m]\u001b[0m..##\n",
       "##\u001b[1m[\u001b[0m\u001b[1m]\u001b[0m\u001b[33m...\u001b[0m\u001b[33m...\u001b[0m\u001b[33m...\u001b[0m\u001b[33m...\u001b[0m####..\u001b[1m[\u001b[0m\u001b[1m]\u001b[0m\u001b[33m...\u001b[0m.\u001b[1m[\u001b[0m\u001b[1m]\u001b[0m\u001b[33m...\u001b[0m\u001b[33m...\u001b[0m\u001b[33m...\u001b[0m\u001b[33m...\u001b[0m\u001b[33m...\u001b[0m.##@\u001b[33m...\u001b[0m\u001b[33m...\u001b[0m\u001b[33m...\u001b[0m..\u001b[1m[\u001b[0m\u001b[1m]\u001b[0m\u001b[33m...\u001b[0m.\u001b[1m[\u001b[0m\u001b[1m]\u001b[0m##\u001b[33m...\u001b[0m\u001b[33m...\u001b[0m\u001b[33m...\u001b[0m\u001b[33m...\u001b[0m\u001b[1m[\u001b[0m\u001b[1m]\u001b[0m\u001b[33m...\u001b[0m.\u001b[1m[\u001b[0m\u001b[1m]\u001b[0m\u001b[1m[\u001b[0m\u001b[1m]\u001b[0m\u001b[33m...\u001b[0m\u001b[33m...\u001b[0m##\n",
       "##\u001b[33m...\u001b[0m\u001b[33m...\u001b[0m\u001b[33m...\u001b[0m\u001b[33m...\u001b[0m\u001b[1m[\u001b[0m\u001b[1m]\u001b[0m\u001b[1m[\u001b[0m\u001b[1m]\u001b[0m\u001b[1m[\u001b[0m\u001b[1m]\u001b[0m\u001b[33m...\u001b[0m.\u001b[1m[\u001b[0m\u001b[1m]\u001b[0m\u001b[33m...\u001b[0m\u001b[33m...\u001b[0m\u001b[33m...\u001b[0m\u001b[33m...\u001b[0m..##\u001b[33m...\u001b[0m\u001b[33m...\u001b[0m\u001b[33m...\u001b[0m.\u001b[1m[\u001b[0m\u001b[1m]\u001b[0m\u001b[1m[\u001b[0m\u001b[1m]\u001b[0m####\u001b[33m...\u001b[0m\u001b[33m...\u001b[0m\u001b[1m[\u001b[0m\u001b[1m]\u001b[0m..##\u001b[1m[\u001b[0m\u001b[1m]\u001b[0m\u001b[33m...\u001b[0m\u001b[33m...\u001b[0m##..\u001b[1m[\u001b[0m\u001b[1m]\u001b[0m\u001b[33m...\u001b[0m.\u001b[1m[\u001b[0m\u001b[1m]\u001b[0m\u001b[33m...\u001b[0m\u001b[33m...\u001b[0m##\n",
       "##\u001b[33m...\u001b[0m\u001b[33m...\u001b[0m\u001b[1m[\u001b[0m\u001b[1m]\u001b[0m\u001b[33m...\u001b[0m.\u001b[1m[\u001b[0m\u001b[1m]\u001b[0m\u001b[33m...\u001b[0m\u001b[33m...\u001b[0m\u001b[33m...\u001b[0m.\u001b[1m[\u001b[0m\u001b[1m]\u001b[0m\u001b[1m[\u001b[0m\u001b[1m]\u001b[0m..\u001b[1m[\u001b[0m\u001b[1m]\u001b[0m..##\u001b[1m[\u001b[0m\u001b[1m]\u001b[0m..##\u001b[33m...\u001b[0m.\u001b[1m[\u001b[0m\u001b[1m]\u001b[0m\u001b[33m...\u001b[0m\u001b[33m...\u001b[0m\u001b[33m...\u001b[0m.\u001b[1m[\u001b[0m\u001b[1m]\u001b[0m..\u001b[1m[\u001b[0m\u001b[1m]\u001b[0m\u001b[33m...\u001b[0m\u001b[33m...\u001b[0m##\u001b[33m...\u001b[0m\u001b[33m...\u001b[0m..\u001b[1m[\u001b[0m\u001b[1m]\u001b[0m\u001b[33m...\u001b[0m.\u001b[1m[\u001b[0m\u001b[1m]\u001b[0m\u001b[33m...\u001b[0m\u001b[33m...\u001b[0m..##\n",
       "##\u001b[1m[\u001b[0m\u001b[1m]\u001b[0m\u001b[33m...\u001b[0m\u001b[33m...\u001b[0m..\u001b[1m[\u001b[0m\u001b[1m]\u001b[0m..\u001b[1m[\u001b[0m\u001b[1m]\u001b[0m\u001b[33m...\u001b[0m.\u001b[1m[\u001b[0m\u001b[1m]\u001b[0m\u001b[33m...\u001b[0m.\u001b[1m[\u001b[0m\u001b[1m]\u001b[0m\u001b[33m...\u001b[0m.\u001b[1m[\u001b[0m\u001b[1m]\u001b[0m\u001b[33m...\u001b[0m.\u001b[1m[\u001b[0m\u001b[1m]\u001b[0m\u001b[33m...\u001b[0m.\u001b[1m[\u001b[0m\u001b[1m]\u001b[0m\u001b[33m...\u001b[0m.##\u001b[33m...\u001b[0m\u001b[33m...\u001b[0m\u001b[1m[\u001b[0m\u001b[1m]\u001b[0m..\u001b[1m[\u001b[0m\u001b[1m]\u001b[0m\u001b[33m...\u001b[0m\u001b[33m...\u001b[0m\u001b[33m...\u001b[0m.\u001b[1m[\u001b[0m\u001b[1m]\u001b[0m##..\u001b[1m[\u001b[0m\u001b[1m]\u001b[0m..##..##\u001b[1m[\u001b[0m\u001b[1m]\u001b[0m\u001b[1m[\u001b[0m\u001b[1m]\u001b[0m####\n",
       "##..\u001b[1m[\u001b[0m\u001b[1m]\u001b[0m\u001b[33m...\u001b[0m\u001b[33m...\u001b[0m\u001b[33m...\u001b[0m.\u001b[1m[\u001b[0m\u001b[1m]\u001b[0m\u001b[1m[\u001b[0m\u001b[1m]\u001b[0m\u001b[33m...\u001b[0m\u001b[33m...\u001b[0m\u001b[1m[\u001b[0m\u001b[1m]\u001b[0m\u001b[1m[\u001b[0m\u001b[1m]\u001b[0m##\u001b[33m...\u001b[0m\u001b[33m...\u001b[0m\u001b[33m...\u001b[0m\u001b[33m...\u001b[0m\u001b[33m...\u001b[0m.\u001b[1m[\u001b[0m\u001b[1m]\u001b[0m\u001b[1m[\u001b[0m\u001b[1m]\u001b[0m\u001b[33m...\u001b[0m\u001b[33m...\u001b[0m..\u001b[1m[\u001b[0m\u001b[1m]\u001b[0m\u001b[33m...\u001b[0m\u001b[33m...\u001b[0m\u001b[1m[\u001b[0m\u001b[1m]\u001b[0m\u001b[33m...\u001b[0m\u001b[33m...\u001b[0m..##\u001b[33m...\u001b[0m\u001b[33m...\u001b[0m\u001b[33m...\u001b[0m\u001b[33m...\u001b[0m\u001b[33m...\u001b[0m.\u001b[1m[\u001b[0m\u001b[1m]\u001b[0m##\n",
       "##..##\u001b[33m...\u001b[0m\u001b[33m...\u001b[0m\u001b[33m...\u001b[0m.\u001b[1m[\u001b[0m\u001b[1m]\u001b[0m\u001b[1m[\u001b[0m\u001b[1m]\u001b[0m\u001b[33m...\u001b[0m.\u001b[1m[\u001b[0m\u001b[1m]\u001b[0m..\u001b[1m[\u001b[0m\u001b[1m]\u001b[0m..##\u001b[1m[\u001b[0m\u001b[1m]\u001b[0m##..####..\u001b[1m[\u001b[0m\u001b[1m]\u001b[0m\u001b[33m...\u001b[0m.##\u001b[1m[\u001b[0m\u001b[1m]\u001b[0m##\u001b[33m...\u001b[0m\u001b[33m...\u001b[0m\u001b[33m...\u001b[0m\u001b[33m...\u001b[0m\u001b[33m...\u001b[0m\u001b[33m...\u001b[0m\u001b[33m...\u001b[0m\u001b[33m...\u001b[0m\u001b[33m...\u001b[0m\u001b[33m...\u001b[0m..\u001b[1m[\u001b[0m\u001b[1m]\u001b[0m\u001b[1m[\u001b[0m\u001b[1m]\u001b[0m..####\n",
       "##\u001b[33m...\u001b[0m\u001b[33m...\u001b[0m\u001b[33m...\u001b[0m\u001b[33m...\u001b[0m\u001b[33m...\u001b[0m\u001b[33m...\u001b[0m\u001b[1m[\u001b[0m\u001b[1m]\u001b[0m##\u001b[1m[\u001b[0m\u001b[1m]\u001b[0m\u001b[1m[\u001b[0m\u001b[1m]\u001b[0m..\u001b[1m[\u001b[0m\u001b[1m]\u001b[0m\u001b[33m...\u001b[0m\u001b[33m...\u001b[0m\u001b[33m...\u001b[0m.##\u001b[33m...\u001b[0m.##\u001b[33m...\u001b[0m\u001b[33m...\u001b[0m\u001b[1m[\u001b[0m\u001b[1m]\u001b[0m##\u001b[1m[\u001b[0m\u001b[1m]\u001b[0m\u001b[33m...\u001b[0m\u001b[33m...\u001b[0m..\u001b[1m[\u001b[0m\u001b[1m]\u001b[0m..\u001b[1m[\u001b[0m\u001b[1m]\u001b[0m\u001b[33m...\u001b[0m.\u001b[1m[\u001b[0m\u001b[1m]\u001b[0m\u001b[33m...\u001b[0m.\u001b[1m[\u001b[0m\u001b[1m]\u001b[0m\u001b[33m...\u001b[0m\u001b[33m...\u001b[0m\u001b[33m...\u001b[0m.##\n",
       "##\u001b[1m[\u001b[0m\u001b[1m]\u001b[0m\u001b[1m[\u001b[0m\u001b[1m]\u001b[0m\u001b[33m...\u001b[0m\u001b[33m...\u001b[0m..\u001b[1m[\u001b[0m\u001b[1m]\u001b[0m\u001b[1m[\u001b[0m\u001b[1m]\u001b[0m\u001b[1m[\u001b[0m\u001b[1m]\u001b[0m\u001b[33m...\u001b[0m\u001b[33m...\u001b[0m\u001b[33m...\u001b[0m.\u001b[1m[\u001b[0m\u001b[1m]\u001b[0m\u001b[33m...\u001b[0m\u001b[33m...\u001b[0m\u001b[33m...\u001b[0m\u001b[33m...\u001b[0m\u001b[33m...\u001b[0m\u001b[33m...\u001b[0m\u001b[33m...\u001b[0m\u001b[33m...\u001b[0m..##\u001b[1m[\u001b[0m\u001b[1m]\u001b[0m\u001b[1m[\u001b[0m\u001b[1m]\u001b[0m##\u001b[33m...\u001b[0m\u001b[33m...\u001b[0m##\u001b[33m...\u001b[0m\u001b[33m...\u001b[0m..##..\u001b[1m[\u001b[0m\u001b[1m]\u001b[0m\u001b[33m...\u001b[0m\u001b[33m...\u001b[0m\u001b[33m...\u001b[0m.##\n",
       "##..\u001b[1m[\u001b[0m\u001b[1m]\u001b[0m##\u001b[33m...\u001b[0m\u001b[33m...\u001b[0m\u001b[33m...\u001b[0m.\u001b[1m[\u001b[0m\u001b[1m]\u001b[0m##\u001b[33m...\u001b[0m\u001b[33m...\u001b[0m##..\u001b[1m[\u001b[0m\u001b[1m]\u001b[0m\u001b[33m...\u001b[0m.\u001b[1m[\u001b[0m\u001b[1m]\u001b[0m\u001b[33m...\u001b[0m\u001b[33m...\u001b[0m\u001b[1m[\u001b[0m\u001b[1m]\u001b[0m\u001b[33m...\u001b[0m\u001b[33m...\u001b[0m##..\u001b[1m[\u001b[0m\u001b[1m]\u001b[0m\u001b[1m[\u001b[0m\u001b[1m]\u001b[0m\u001b[33m...\u001b[0m.\u001b[1m[\u001b[0m\u001b[1m]\u001b[0m\u001b[33m...\u001b[0m\u001b[33m...\u001b[0m\u001b[1m[\u001b[0m\u001b[1m]\u001b[0m\u001b[1m[\u001b[0m\u001b[1m]\u001b[0m\u001b[1m[\u001b[0m\u001b[1m]\u001b[0m##\u001b[33m...\u001b[0m.##\u001b[33m...\u001b[0m\u001b[33m...\u001b[0m..\u001b[1m[\u001b[0m\u001b[1m]\u001b[0m##\n",
       "##..##..\u001b[1m[\u001b[0m\u001b[1m]\u001b[0m..\u001b[1m[\u001b[0m\u001b[1m]\u001b[0m\u001b[33m...\u001b[0m.\u001b[1m[\u001b[0m\u001b[1m]\u001b[0m\u001b[33m...\u001b[0m\u001b[33m...\u001b[0m\u001b[33m...\u001b[0m\u001b[33m...\u001b[0m##\u001b[33m...\u001b[0m\u001b[33m...\u001b[0m\u001b[1m[\u001b[0m\u001b[1m]\u001b[0m\u001b[1m[\u001b[0m\u001b[1m]\u001b[0m\u001b[1m[\u001b[0m\u001b[1m]\u001b[0m\u001b[33m...\u001b[0m\u001b[33m...\u001b[0m\u001b[33m...\u001b[0m\u001b[33m...\u001b[0m..####..\u001b[1m[\u001b[0m\u001b[1m]\u001b[0m\u001b[33m...\u001b[0m.\u001b[1m[\u001b[0m\u001b[1m]\u001b[0m\u001b[1m[\u001b[0m\u001b[1m]\u001b[0m\u001b[1m[\u001b[0m\u001b[1m]\u001b[0m##..\u001b[1m[\u001b[0m\u001b[1m]\u001b[0m..\u001b[1m[\u001b[0m\u001b[1m]\u001b[0m\u001b[33m...\u001b[0m\u001b[33m...\u001b[0m\u001b[33m...\u001b[0m.##\n",
       "##\u001b[33m...\u001b[0m\u001b[33m...\u001b[0m\u001b[33m...\u001b[0m\u001b[33m...\u001b[0m\u001b[33m...\u001b[0m\u001b[33m...\u001b[0m##\u001b[33m...\u001b[0m\u001b[33m...\u001b[0m\u001b[33m...\u001b[0m\u001b[33m...\u001b[0m..##\u001b[33m...\u001b[0m.\u001b[1m[\u001b[0m\u001b[1m]\u001b[0m..\u001b[1m[\u001b[0m\u001b[1m]\u001b[0m\u001b[1m[\u001b[0m\u001b[1m]\u001b[0m..##..\u001b[1m[\u001b[0m\u001b[1m]\u001b[0m\u001b[1m[\u001b[0m\u001b[1m]\u001b[0m\u001b[33m...\u001b[0m.\u001b[1m[\u001b[0m\u001b[1m]\u001b[0m\u001b[33m...\u001b[0m.\u001b[1m[\u001b[0m\u001b[1m]\u001b[0m\u001b[33m...\u001b[0m\u001b[33m...\u001b[0m\u001b[33m...\u001b[0m.\u001b[1m[\u001b[0m\u001b[1m]\u001b[0m\u001b[1m[\u001b[0m\u001b[1m]\u001b[0m\u001b[1m[\u001b[0m\u001b[1m]\u001b[0m\u001b[33m...\u001b[0m.\u001b[1m[\u001b[0m\u001b[1m]\u001b[0m\u001b[33m...\u001b[0m.##\n",
       "##\u001b[33m...\u001b[0m.##\u001b[33m...\u001b[0m\u001b[33m...\u001b[0m\u001b[1m[\u001b[0m\u001b[1m]\u001b[0m##\u001b[1m[\u001b[0m\u001b[1m]\u001b[0m\u001b[33m...\u001b[0m\u001b[33m...\u001b[0m\u001b[33m...\u001b[0m\u001b[33m...\u001b[0m\u001b[33m...\u001b[0m\u001b[33m...\u001b[0m\u001b[33m...\u001b[0m\u001b[33m...\u001b[0m\u001b[33m...\u001b[0m\u001b[33m...\u001b[0m\u001b[1m[\u001b[0m\u001b[1m]\u001b[0m\u001b[1m[\u001b[0m\u001b[1m]\u001b[0m..\u001b[1m[\u001b[0m\u001b[1m]\u001b[0m..\u001b[1m[\u001b[0m\u001b[1m]\u001b[0m..\u001b[1m[\u001b[0m\u001b[1m]\u001b[0m\u001b[33m...\u001b[0m.\u001b[1m[\u001b[0m\u001b[1m]\u001b[0m\u001b[33m...\u001b[0m.\u001b[1m[\u001b[0m\u001b[1m]\u001b[0m\u001b[1m[\u001b[0m\u001b[1m]\u001b[0m\u001b[33m...\u001b[0m\u001b[33m...\u001b[0m\u001b[33m...\u001b[0m.##..##..##\n",
       "##\u001b[1m[\u001b[0m\u001b[1m]\u001b[0m##..\u001b[1m[\u001b[0m\u001b[1m]\u001b[0m..\u001b[1m[\u001b[0m\u001b[1m]\u001b[0m..##..\u001b[1m[\u001b[0m\u001b[1m]\u001b[0m\u001b[33m...\u001b[0m.\u001b[1m[\u001b[0m\u001b[1m]\u001b[0m##\u001b[33m...\u001b[0m\u001b[33m...\u001b[0m\u001b[1m[\u001b[0m\u001b[1m]\u001b[0m\u001b[33m...\u001b[0m.\u001b[1m[\u001b[0m\u001b[1m]\u001b[0m\u001b[33m...\u001b[0m\u001b[33m...\u001b[0m..\u001b[1m[\u001b[0m\u001b[1m]\u001b[0m\u001b[33m...\u001b[0m\u001b[33m...\u001b[0m..\u001b[1m[\u001b[0m\u001b[1m]\u001b[0m\u001b[1m[\u001b[0m\u001b[1m]\u001b[0m##\u001b[1m[\u001b[0m\u001b[1m]\u001b[0m..\u001b[1m[\u001b[0m\u001b[1m]\u001b[0m..\u001b[1m[\u001b[0m\u001b[1m]\u001b[0m\u001b[1m[\u001b[0m\u001b[1m]\u001b[0m\u001b[1m[\u001b[0m\u001b[1m]\u001b[0m..##\u001b[33m...\u001b[0m.\u001b[1m[\u001b[0m\u001b[1m]\u001b[0m\u001b[33m...\u001b[0m\u001b[33m...\u001b[0m##\n",
       "##\u001b[33m...\u001b[0m\u001b[33m...\u001b[0m##..####\u001b[33m...\u001b[0m\u001b[33m...\u001b[0m\u001b[33m...\u001b[0m\u001b[33m...\u001b[0m\u001b[33m...\u001b[0m.\u001b[1m[\u001b[0m\u001b[1m]\u001b[0m\u001b[1m[\u001b[0m\u001b[1m]\u001b[0m..\u001b[1m[\u001b[0m\u001b[1m]\u001b[0m..\u001b[1m[\u001b[0m\u001b[1m]\u001b[0m\u001b[33m...\u001b[0m.\u001b[1m[\u001b[0m\u001b[1m]\u001b[0m\u001b[33m...\u001b[0m\u001b[33m...\u001b[0m\u001b[33m...\u001b[0m.\u001b[1m[\u001b[0m\u001b[1m]\u001b[0m..\u001b[1m[\u001b[0m\u001b[1m]\u001b[0m##\u001b[1m[\u001b[0m\u001b[1m]\u001b[0m\u001b[1m[\u001b[0m\u001b[1m]\u001b[0m\u001b[33m...\u001b[0m.\u001b[1m[\u001b[0m\u001b[1m]\u001b[0m..\u001b[1m[\u001b[0m\u001b[1m]\u001b[0m..\u001b[1m[\u001b[0m\u001b[1m]\u001b[0m..####\u001b[1m[\u001b[0m\u001b[1m]\u001b[0m\u001b[33m...\u001b[0m.##\n",
       "##\u001b[1m[\u001b[0m\u001b[1m]\u001b[0m##\u001b[33m...\u001b[0m\u001b[33m...\u001b[0m####..##\u001b[33m...\u001b[0m\u001b[33m...\u001b[0m\u001b[1m[\u001b[0m\u001b[1m]\u001b[0m\u001b[1m[\u001b[0m\u001b[1m]\u001b[0m..\u001b[1m[\u001b[0m\u001b[1m]\u001b[0m\u001b[1m[\u001b[0m\u001b[1m]\u001b[0m..##\u001b[1m[\u001b[0m\u001b[1m]\u001b[0m\u001b[33m...\u001b[0m.\u001b[1m[\u001b[0m\u001b[1m]\u001b[0m\u001b[33m...\u001b[0m.##\u001b[1m[\u001b[0m\u001b[1m]\u001b[0m\u001b[1m[\u001b[0m\u001b[1m]\u001b[0m\u001b[33m...\u001b[0m.\u001b[1m[\u001b[0m\u001b[1m]\u001b[0m..\u001b[1m[\u001b[0m\u001b[1m]\u001b[0m\u001b[33m...\u001b[0m\u001b[33m...\u001b[0m\u001b[33m...\u001b[0m\u001b[33m...\u001b[0m\u001b[1m[\u001b[0m\u001b[1m]\u001b[0m..\u001b[1m[\u001b[0m\u001b[1m]\u001b[0m\u001b[33m...\u001b[0m\u001b[33m...\u001b[0m\u001b[33m...\u001b[0m\u001b[33m...\u001b[0m##\n",
       "##..\u001b[1m[\u001b[0m\u001b[1m]\u001b[0m\u001b[1m[\u001b[0m\u001b[1m]\u001b[0m\u001b[33m...\u001b[0m\u001b[33m...\u001b[0m..##..\u001b[1m[\u001b[0m\u001b[1m]\u001b[0m\u001b[33m...\u001b[0m\u001b[33m...\u001b[0m\u001b[1m[\u001b[0m\u001b[1m]\u001b[0m\u001b[33m...\u001b[0m\u001b[33m...\u001b[0m\u001b[33m...\u001b[0m\u001b[33m...\u001b[0m\u001b[33m...\u001b[0m.\u001b[1m[\u001b[0m\u001b[1m]\u001b[0m\u001b[1m[\u001b[0m\u001b[1m]\u001b[0m\u001b[33m...\u001b[0m.\u001b[1m[\u001b[0m\u001b[1m]\u001b[0m\u001b[33m...\u001b[0m\u001b[33m...\u001b[0m\u001b[33m...\u001b[0m\u001b[33m...\u001b[0m..\u001b[1m[\u001b[0m\u001b[1m]\u001b[0m..\u001b[1m[\u001b[0m\u001b[1m]\u001b[0m##\u001b[33m...\u001b[0m.\u001b[1m[\u001b[0m\u001b[1m]\u001b[0m\u001b[33m...\u001b[0m\u001b[33m...\u001b[0m\u001b[33m...\u001b[0m\u001b[33m...\u001b[0m..##\n",
       "##\u001b[1m[\u001b[0m\u001b[1m]\u001b[0m\u001b[33m...\u001b[0m.\u001b[1m[\u001b[0m\u001b[1m]\u001b[0m\u001b[33m...\u001b[0m.\u001b[1m[\u001b[0m\u001b[1m]\u001b[0m\u001b[33m...\u001b[0m\u001b[33m...\u001b[0m\u001b[1m[\u001b[0m\u001b[1m]\u001b[0m\u001b[33m...\u001b[0m\u001b[33m...\u001b[0m\u001b[1m[\u001b[0m\u001b[1m]\u001b[0m\u001b[33m...\u001b[0m\u001b[33m...\u001b[0m\u001b[33m...\u001b[0m\u001b[33m...\u001b[0m\u001b[1m[\u001b[0m\u001b[1m]\u001b[0m\u001b[1m[\u001b[0m\u001b[1m]\u001b[0m\u001b[33m...\u001b[0m.\u001b[1m[\u001b[0m\u001b[1m]\u001b[0m\u001b[33m...\u001b[0m.\u001b[1m[\u001b[0m\u001b[1m]\u001b[0m..\u001b[1m[\u001b[0m\u001b[1m]\u001b[0m\u001b[1m[\u001b[0m\u001b[1m]\u001b[0m\u001b[1m[\u001b[0m\u001b[1m]\u001b[0m..##\u001b[33m...\u001b[0m\u001b[33m...\u001b[0m\u001b[1m[\u001b[0m\u001b[1m]\u001b[0m\u001b[33m...\u001b[0m\u001b[33m...\u001b[0m..##\u001b[1m[\u001b[0m\u001b[1m]\u001b[0m\u001b[33m...\u001b[0m\u001b[33m...\u001b[0m##\n",
       "##\u001b[33m...\u001b[0m\u001b[33m...\u001b[0m\u001b[33m...\u001b[0m.##\u001b[33m...\u001b[0m\u001b[33m...\u001b[0m##\u001b[33m...\u001b[0m\u001b[33m...\u001b[0m\u001b[1m[\u001b[0m\u001b[1m]\u001b[0m\u001b[1m[\u001b[0m\u001b[1m]\u001b[0m..\u001b[1m[\u001b[0m\u001b[1m]\u001b[0m\u001b[33m...\u001b[0m\u001b[33m...\u001b[0m\u001b[1m[\u001b[0m\u001b[1m]\u001b[0m..##\u001b[33m...\u001b[0m.##\u001b[33m...\u001b[0m.##\u001b[1m[\u001b[0m\u001b[1m]\u001b[0m\u001b[1m[\u001b[0m\u001b[1m]\u001b[0m\u001b[33m...\u001b[0m\u001b[33m...\u001b[0m\u001b[33m...\u001b[0m\u001b[33m...\u001b[0m\u001b[33m...\u001b[0m\u001b[33m...\u001b[0m..\u001b[1m[\u001b[0m\u001b[1m]\u001b[0m..\u001b[1m[\u001b[0m\u001b[1m]\u001b[0m..##\u001b[1m[\u001b[0m\u001b[1m]\u001b[0m..##\n",
       "##\u001b[33m...\u001b[0m\u001b[33m...\u001b[0m..\u001b[1m[\u001b[0m\u001b[1m]\u001b[0m\u001b[33m...\u001b[0m\u001b[33m...\u001b[0m\u001b[33m...\u001b[0m\u001b[33m...\u001b[0m\u001b[1m[\u001b[0m\u001b[1m]\u001b[0m##..\u001b[1m[\u001b[0m\u001b[1m]\u001b[0m..\u001b[1m[\u001b[0m\u001b[1m]\u001b[0m\u001b[33m...\u001b[0m\u001b[33m...\u001b[0m##\u001b[33m...\u001b[0m\u001b[33m...\u001b[0m\u001b[1m[\u001b[0m\u001b[1m]\u001b[0m\u001b[33m...\u001b[0m.\u001b[1m[\u001b[0m\u001b[1m]\u001b[0m..\u001b[1m[\u001b[0m\u001b[1m]\u001b[0m\u001b[33m...\u001b[0m\u001b[33m...\u001b[0m\u001b[33m...\u001b[0m.\u001b[1m[\u001b[0m\u001b[1m]\u001b[0m..\u001b[1m[\u001b[0m\u001b[1m]\u001b[0m\u001b[33m...\u001b[0m.\u001b[1m[\u001b[0m\u001b[1m]\u001b[0m\u001b[33m...\u001b[0m\u001b[33m...\u001b[0m\u001b[33m...\u001b[0m.\u001b[1m[\u001b[0m\u001b[1m]\u001b[0m\u001b[1m[\u001b[0m\u001b[1m]\u001b[0m##\n",
       "##\u001b[33m...\u001b[0m.\u001b[1m[\u001b[0m\u001b[1m]\u001b[0m\u001b[33m...\u001b[0m\u001b[33m...\u001b[0m##..\u001b[1m[\u001b[0m\u001b[1m]\u001b[0m\u001b[33m...\u001b[0m.\u001b[1m[\u001b[0m\u001b[1m]\u001b[0m..\u001b[1m[\u001b[0m\u001b[1m]\u001b[0m\u001b[33m...\u001b[0m\u001b[33m...\u001b[0m\u001b[1m[\u001b[0m\u001b[1m]\u001b[0m\u001b[33m...\u001b[0m\u001b[33m...\u001b[0m\u001b[33m...\u001b[0m\u001b[33m...\u001b[0m##..##\u001b[1m[\u001b[0m\u001b[1m]\u001b[0m\u001b[1m[\u001b[0m\u001b[1m]\u001b[0m\u001b[1m[\u001b[0m\u001b[1m]\u001b[0m\u001b[33m...\u001b[0m\u001b[33m...\u001b[0m\u001b[33m...\u001b[0m\u001b[33m...\u001b[0m\u001b[33m...\u001b[0m\u001b[33m...\u001b[0m\u001b[33m...\u001b[0m\u001b[33m...\u001b[0m\u001b[33m...\u001b[0m\u001b[33m...\u001b[0m\u001b[33m...\u001b[0m\u001b[33m...\u001b[0m##\n",
       "##..\u001b[1m[\u001b[0m\u001b[1m]\u001b[0m\u001b[33m...\u001b[0m\u001b[33m...\u001b[0m\u001b[33m...\u001b[0m.\u001b[1m[\u001b[0m\u001b[1m]\u001b[0m\u001b[1m[\u001b[0m\u001b[1m]\u001b[0m..\u001b[1m[\u001b[0m\u001b[1m]\u001b[0m\u001b[33m...\u001b[0m\u001b[33m...\u001b[0m\u001b[1m[\u001b[0m\u001b[1m]\u001b[0m\u001b[1m[\u001b[0m\u001b[1m]\u001b[0m\u001b[33m...\u001b[0m\u001b[33m...\u001b[0m\u001b[33m...\u001b[0m\u001b[33m...\u001b[0m..\u001b[1m[\u001b[0m\u001b[1m]\u001b[0m..##\u001b[33m...\u001b[0m\u001b[33m...\u001b[0m##\u001b[33m...\u001b[0m\u001b[33m...\u001b[0m\u001b[1m[\u001b[0m\u001b[1m]\u001b[0m\u001b[33m...\u001b[0m\u001b[33m...\u001b[0m..\u001b[1m[\u001b[0m\u001b[1m]\u001b[0m\u001b[33m...\u001b[0m\u001b[33m...\u001b[0m\u001b[33m...\u001b[0m.\u001b[1m[\u001b[0m\u001b[1m]\u001b[0m\u001b[33m...\u001b[0m\u001b[33m...\u001b[0m##\n",
       "##\u001b[1m[\u001b[0m\u001b[1m]\u001b[0m####\u001b[1m[\u001b[0m\u001b[1m]\u001b[0m..##\u001b[33m...\u001b[0m.\u001b[1m[\u001b[0m\u001b[1m]\u001b[0m\u001b[1m[\u001b[0m\u001b[1m]\u001b[0m\u001b[1m[\u001b[0m\u001b[1m]\u001b[0m\u001b[33m...\u001b[0m\u001b[33m...\u001b[0m##\u001b[33m...\u001b[0m\u001b[33m...\u001b[0m\u001b[33m...\u001b[0m\u001b[33m...\u001b[0m\u001b[1m[\u001b[0m\u001b[1m]\u001b[0m\u001b[33m...\u001b[0m.\u001b[1m[\u001b[0m\u001b[1m]\u001b[0m\u001b[33m...\u001b[0m.##\u001b[1m[\u001b[0m\u001b[1m]\u001b[0m\u001b[1m[\u001b[0m\u001b[1m]\u001b[0m\u001b[33m...\u001b[0m\u001b[33m...\u001b[0m\u001b[33m...\u001b[0m\u001b[33m...\u001b[0m\u001b[33m...\u001b[0m\u001b[33m...\u001b[0m\u001b[1m[\u001b[0m\u001b[1m]\u001b[0m\u001b[33m...\u001b[0m.\u001b[1m[\u001b[0m\u001b[1m]\u001b[0m\u001b[33m...\u001b[0m\u001b[33m...\u001b[0m\u001b[1m[\u001b[0m\u001b[1m]\u001b[0m\u001b[1m[\u001b[0m\u001b[1m]\u001b[0m##\n",
       "##\u001b[33m...\u001b[0m.\u001b[1m[\u001b[0m\u001b[1m]\u001b[0m..\u001b[1m[\u001b[0m\u001b[1m]\u001b[0m\u001b[33m...\u001b[0m\u001b[33m...\u001b[0m\u001b[1m[\u001b[0m\u001b[1m]\u001b[0m\u001b[33m...\u001b[0m\u001b[33m...\u001b[0m..\u001b[1m[\u001b[0m\u001b[1m]\u001b[0m\u001b[33m...\u001b[0m.\u001b[1m[\u001b[0m\u001b[1m]\u001b[0m\u001b[33m...\u001b[0m\u001b[33m...\u001b[0m..##\u001b[1m[\u001b[0m\u001b[1m]\u001b[0m\u001b[33m...\u001b[0m\u001b[33m...\u001b[0m\u001b[33m...\u001b[0m\u001b[33m...\u001b[0m..\u001b[1m[\u001b[0m\u001b[1m]\u001b[0m\u001b[33m...\u001b[0m\u001b[33m...\u001b[0m\u001b[33m...\u001b[0m\u001b[33m...\u001b[0m\u001b[1m[\u001b[0m\u001b[1m]\u001b[0m\u001b[33m...\u001b[0m.\u001b[1m[\u001b[0m\u001b[1m]\u001b[0m\u001b[1m[\u001b[0m\u001b[1m]\u001b[0m\u001b[1m[\u001b[0m\u001b[1m]\u001b[0m\u001b[1m[\u001b[0m\u001b[1m]\u001b[0m####..\u001b[1m[\u001b[0m\u001b[1m]\u001b[0m##\n",
       "##\u001b[33m...\u001b[0m.\u001b[1m[\u001b[0m\u001b[1m]\u001b[0m..##\u001b[1m[\u001b[0m\u001b[1m]\u001b[0m\u001b[33m...\u001b[0m.\u001b[1m[\u001b[0m\u001b[1m]\u001b[0m..\u001b[1m[\u001b[0m\u001b[1m]\u001b[0m\u001b[1m[\u001b[0m\u001b[1m]\u001b[0m\u001b[1m[\u001b[0m\u001b[1m]\u001b[0m\u001b[33m...\u001b[0m.##\u001b[1m[\u001b[0m\u001b[1m]\u001b[0m\u001b[33m...\u001b[0m\u001b[33m...\u001b[0m\u001b[33m...\u001b[0m\u001b[33m...\u001b[0m..\u001b[1m[\u001b[0m\u001b[1m]\u001b[0m..##..##\u001b[1m[\u001b[0m\u001b[1m]\u001b[0m\u001b[1m[\u001b[0m\u001b[1m]\u001b[0m..\u001b[1m[\u001b[0m\u001b[1m]\u001b[0m..\u001b[1m[\u001b[0m\u001b[1m]\u001b[0m..\u001b[1m[\u001b[0m\u001b[1m]\u001b[0m..\u001b[1m[\u001b[0m\u001b[1m]\u001b[0m\u001b[33m...\u001b[0m.\u001b[1m[\u001b[0m\u001b[1m]\u001b[0m..##\u001b[33m...\u001b[0m.##..##\n",
       "##\u001b[33m...\u001b[0m\u001b[33m...\u001b[0m\u001b[33m...\u001b[0m.\u001b[1m[\u001b[0m\u001b[1m]\u001b[0m..\u001b[1m[\u001b[0m\u001b[1m]\u001b[0m\u001b[1m[\u001b[0m\u001b[1m]\u001b[0m\u001b[1m[\u001b[0m\u001b[1m]\u001b[0m\u001b[33m...\u001b[0m\u001b[33m...\u001b[0m##..\u001b[1m[\u001b[0m\u001b[1m]\u001b[0m..\u001b[1m[\u001b[0m\u001b[1m]\u001b[0m\u001b[33m...\u001b[0m.\u001b[1m[\u001b[0m\u001b[1m]\u001b[0m\u001b[33m...\u001b[0m\u001b[33m...\u001b[0m\u001b[1m[\u001b[0m\u001b[1m]\u001b[0m..\u001b[1m[\u001b[0m\u001b[1m]\u001b[0m\u001b[1m[\u001b[0m\u001b[1m]\u001b[0m\u001b[33m...\u001b[0m\u001b[33m...\u001b[0m\u001b[1m[\u001b[0m\u001b[1m]\u001b[0m\u001b[1m[\u001b[0m\u001b[1m]\u001b[0m\u001b[1m[\u001b[0m\u001b[1m]\u001b[0m\u001b[33m...\u001b[0m.##..\u001b[1m[\u001b[0m\u001b[1m]\u001b[0m..\u001b[1m[\u001b[0m\u001b[1m]\u001b[0m..\u001b[1m[\u001b[0m\u001b[1m]\u001b[0m\u001b[1m[\u001b[0m\u001b[1m]\u001b[0m..\u001b[1m[\u001b[0m\u001b[1m]\u001b[0m\u001b[1m[\u001b[0m\u001b[1m]\u001b[0m\u001b[1m[\u001b[0m\u001b[1m]\u001b[0m##\n",
       "####################################################################################################\n"
      ]
     },
     "metadata": {},
     "output_type": "display_data"
    },
    {
     "data": {
      "text/html": [
       "<pre style=\"white-space:pre;overflow-x:auto;line-height:normal;font-family:Menlo,'DejaVu Sans Mono',consolas,'Courier New',monospace\">####################################################################################################\n",
       "</pre>\n"
      ],
      "text/plain": [
       "####################################################################################################\n"
      ]
     },
     "metadata": {},
     "output_type": "display_data"
    },
    {
     "data": {
      "text/html": [
       "<pre style=\"white-space:pre;overflow-x:auto;line-height:normal;font-family:Menlo,'DejaVu Sans Mono',consolas,'Courier New',monospace\">####..##.<span style=\"font-weight: bold\">[]</span>.<span style=\"font-weight: bold\">[][][]</span>##<span style=\"font-weight: bold\">[][][][][]</span>..<span style=\"font-weight: bold\">[]</span><span style=\"color: #808000; text-decoration-color: #808000\">...</span>.##..##<span style=\"font-weight: bold\">[]</span>..<span style=\"font-weight: bold\">[]</span>..<span style=\"font-weight: bold\">[]</span>..<span style=\"font-weight: bold\">[]</span>..<span style=\"font-weight: bold\">[][]</span><span style=\"color: #808000; text-decoration-color: #808000\">...</span>..<span style=\"font-weight: bold\">[][][]</span><span style=\"color: #808000; text-decoration-color: #808000\">...</span>..<span style=\"font-weight: bold\">[]</span>..<span style=\"font-weight: bold\">[]</span>..<span style=\"font-weight: bold\">[]</span>..<span style=\"font-weight: bold\">[][]</span>..##\n",
       "</pre>\n"
      ],
      "text/plain": [
       "####..##.\u001b[1m[\u001b[0m\u001b[1m]\u001b[0m.\u001b[1m[\u001b[0m\u001b[1m]\u001b[0m\u001b[1m[\u001b[0m\u001b[1m]\u001b[0m\u001b[1m[\u001b[0m\u001b[1m]\u001b[0m##\u001b[1m[\u001b[0m\u001b[1m]\u001b[0m\u001b[1m[\u001b[0m\u001b[1m]\u001b[0m\u001b[1m[\u001b[0m\u001b[1m]\u001b[0m\u001b[1m[\u001b[0m\u001b[1m]\u001b[0m\u001b[1m[\u001b[0m\u001b[1m]\u001b[0m..\u001b[1m[\u001b[0m\u001b[1m]\u001b[0m\u001b[33m...\u001b[0m.##..##\u001b[1m[\u001b[0m\u001b[1m]\u001b[0m..\u001b[1m[\u001b[0m\u001b[1m]\u001b[0m..\u001b[1m[\u001b[0m\u001b[1m]\u001b[0m..\u001b[1m[\u001b[0m\u001b[1m]\u001b[0m..\u001b[1m[\u001b[0m\u001b[1m]\u001b[0m\u001b[1m[\u001b[0m\u001b[1m]\u001b[0m\u001b[33m...\u001b[0m..\u001b[1m[\u001b[0m\u001b[1m]\u001b[0m\u001b[1m[\u001b[0m\u001b[1m]\u001b[0m\u001b[1m[\u001b[0m\u001b[1m]\u001b[0m\u001b[33m...\u001b[0m..\u001b[1m[\u001b[0m\u001b[1m]\u001b[0m..\u001b[1m[\u001b[0m\u001b[1m]\u001b[0m..\u001b[1m[\u001b[0m\u001b[1m]\u001b[0m..\u001b[1m[\u001b[0m\u001b[1m]\u001b[0m\u001b[1m[\u001b[0m\u001b[1m]\u001b[0m..##\n"
      ]
     },
     "metadata": {},
     "output_type": "display_data"
    },
    {
     "data": {
      "text/html": [
       "<pre style=\"white-space:pre;overflow-x:auto;line-height:normal;font-family:Menlo,'DejaVu Sans Mono',consolas,'Courier New',monospace\">##<span style=\"font-weight: bold\">[]</span>##<span style=\"font-weight: bold\">[]</span><span style=\"color: #808000; text-decoration-color: #808000\">.........</span>..<span style=\"font-weight: bold\">[][][][][]</span><span style=\"color: #808000; text-decoration-color: #808000\">...</span><span style=\"font-weight: bold\">[]</span>##<span style=\"font-weight: bold\">[][]</span><span style=\"color: #808000; text-decoration-color: #808000\">...</span>.<span style=\"font-weight: bold\">[]</span>..<span style=\"font-weight: bold\">[][][]</span><span style=\"color: #808000; text-decoration-color: #808000\">.........</span><span style=\"font-weight: bold\">[]</span>.<span style=\"font-weight: bold\">[]</span><span style=\"color: #808000; text-decoration-color: #808000\">...</span>.<span style=\"font-weight: bold\">[]</span><span style=\"color: #808000; text-decoration-color: #808000\">......</span>..##<span style=\"color: #808000; text-decoration-color: #808000\">...</span>.##<span style=\"color: #808000; text-decoration-color: #808000\">......</span>..##\n",
       "</pre>\n"
      ],
      "text/plain": [
       "##\u001b[1m[\u001b[0m\u001b[1m]\u001b[0m##\u001b[1m[\u001b[0m\u001b[1m]\u001b[0m\u001b[33m...\u001b[0m\u001b[33m...\u001b[0m\u001b[33m...\u001b[0m..\u001b[1m[\u001b[0m\u001b[1m]\u001b[0m\u001b[1m[\u001b[0m\u001b[1m]\u001b[0m\u001b[1m[\u001b[0m\u001b[1m]\u001b[0m\u001b[1m[\u001b[0m\u001b[1m]\u001b[0m\u001b[1m[\u001b[0m\u001b[1m]\u001b[0m\u001b[33m...\u001b[0m\u001b[1m[\u001b[0m\u001b[1m]\u001b[0m##\u001b[1m[\u001b[0m\u001b[1m]\u001b[0m\u001b[1m[\u001b[0m\u001b[1m]\u001b[0m\u001b[33m...\u001b[0m.\u001b[1m[\u001b[0m\u001b[1m]\u001b[0m..\u001b[1m[\u001b[0m\u001b[1m]\u001b[0m\u001b[1m[\u001b[0m\u001b[1m]\u001b[0m\u001b[1m[\u001b[0m\u001b[1m]\u001b[0m\u001b[33m...\u001b[0m\u001b[33m...\u001b[0m\u001b[33m...\u001b[0m\u001b[1m[\u001b[0m\u001b[1m]\u001b[0m.\u001b[1m[\u001b[0m\u001b[1m]\u001b[0m\u001b[33m...\u001b[0m.\u001b[1m[\u001b[0m\u001b[1m]\u001b[0m\u001b[33m...\u001b[0m\u001b[33m...\u001b[0m..##\u001b[33m...\u001b[0m.##\u001b[33m...\u001b[0m\u001b[33m...\u001b[0m..##\n"
      ]
     },
     "metadata": {},
     "output_type": "display_data"
    },
    {
     "data": {
      "text/html": [
       "<pre style=\"white-space:pre;overflow-x:auto;line-height:normal;font-family:Menlo,'DejaVu Sans Mono',consolas,'Courier New',monospace\">##.<span style=\"font-weight: bold\">[][]</span><span style=\"color: #808000; text-decoration-color: #808000\">.........</span>..<span style=\"font-weight: bold\">[][][][][]</span><span style=\"color: #808000; text-decoration-color: #808000\">...</span>.<span style=\"font-weight: bold\">[]</span><span style=\"color: #808000; text-decoration-color: #808000\">...</span>.##..##<span style=\"font-weight: bold\">[][][][][][]</span><span style=\"color: #808000; text-decoration-color: #808000\">......</span>.<span style=\"font-weight: bold\">[]</span>.<span style=\"font-weight: bold\">[]</span><span style=\"color: #808000; text-decoration-color: #808000\">......</span><span style=\"font-weight: bold\">[][][][]</span>##..<span style=\"font-weight: bold\">[]</span>##..##..<span style=\"font-weight: bold\">[]</span>##\n",
       "</pre>\n"
      ],
      "text/plain": [
       "##.\u001b[1m[\u001b[0m\u001b[1m]\u001b[0m\u001b[1m[\u001b[0m\u001b[1m]\u001b[0m\u001b[33m...\u001b[0m\u001b[33m...\u001b[0m\u001b[33m...\u001b[0m..\u001b[1m[\u001b[0m\u001b[1m]\u001b[0m\u001b[1m[\u001b[0m\u001b[1m]\u001b[0m\u001b[1m[\u001b[0m\u001b[1m]\u001b[0m\u001b[1m[\u001b[0m\u001b[1m]\u001b[0m\u001b[1m[\u001b[0m\u001b[1m]\u001b[0m\u001b[33m...\u001b[0m.\u001b[1m[\u001b[0m\u001b[1m]\u001b[0m\u001b[33m...\u001b[0m.##..##\u001b[1m[\u001b[0m\u001b[1m]\u001b[0m\u001b[1m[\u001b[0m\u001b[1m]\u001b[0m\u001b[1m[\u001b[0m\u001b[1m]\u001b[0m\u001b[1m[\u001b[0m\u001b[1m]\u001b[0m\u001b[1m[\u001b[0m\u001b[1m]\u001b[0m\u001b[1m[\u001b[0m\u001b[1m]\u001b[0m\u001b[33m...\u001b[0m\u001b[33m...\u001b[0m.\u001b[1m[\u001b[0m\u001b[1m]\u001b[0m.\u001b[1m[\u001b[0m\u001b[1m]\u001b[0m\u001b[33m...\u001b[0m\u001b[33m...\u001b[0m\u001b[1m[\u001b[0m\u001b[1m]\u001b[0m\u001b[1m[\u001b[0m\u001b[1m]\u001b[0m\u001b[1m[\u001b[0m\u001b[1m]\u001b[0m\u001b[1m[\u001b[0m\u001b[1m]\u001b[0m##..\u001b[1m[\u001b[0m\u001b[1m]\u001b[0m##..##..\u001b[1m[\u001b[0m\u001b[1m]\u001b[0m##\n"
      ]
     },
     "metadata": {},
     "output_type": "display_data"
    },
    {
     "data": {
      "text/html": [
       "<pre style=\"white-space:pre;overflow-x:auto;line-height:normal;font-family:Menlo,'DejaVu Sans Mono',consolas,'Courier New',monospace\">##<span style=\"color: #808000; text-decoration-color: #808000\">.........</span>.##<span style=\"color: #808000; text-decoration-color: #808000\">...</span>..<span style=\"font-weight: bold\">[][]</span><span style=\"color: #808000; text-decoration-color: #808000\">...</span>.<span style=\"font-weight: bold\">[]</span><span style=\"color: #808000; text-decoration-color: #808000\">...</span>##<span style=\"font-weight: bold\">[]</span>##<span style=\"color: #808000; text-decoration-color: #808000\">...</span>..<span style=\"font-weight: bold\">[]</span><span style=\"color: #808000; text-decoration-color: #808000\">...</span>.<span style=\"font-weight: bold\">[][][]</span>.<span style=\"font-weight: bold\">[]</span>##<span style=\"color: #808000; text-decoration-color: #808000\">......</span>..<span style=\"font-weight: bold\">[][][]</span>..<span style=\"font-weight: bold\">[]</span><span style=\"color: #808000; text-decoration-color: #808000\">......</span><span style=\"font-weight: bold\">[][]</span><span style=\"color: #808000; text-decoration-color: #808000\">.........</span>.##\n",
       "</pre>\n"
      ],
      "text/plain": [
       "##\u001b[33m...\u001b[0m\u001b[33m...\u001b[0m\u001b[33m...\u001b[0m.##\u001b[33m...\u001b[0m..\u001b[1m[\u001b[0m\u001b[1m]\u001b[0m\u001b[1m[\u001b[0m\u001b[1m]\u001b[0m\u001b[33m...\u001b[0m.\u001b[1m[\u001b[0m\u001b[1m]\u001b[0m\u001b[33m...\u001b[0m##\u001b[1m[\u001b[0m\u001b[1m]\u001b[0m##\u001b[33m...\u001b[0m..\u001b[1m[\u001b[0m\u001b[1m]\u001b[0m\u001b[33m...\u001b[0m.\u001b[1m[\u001b[0m\u001b[1m]\u001b[0m\u001b[1m[\u001b[0m\u001b[1m]\u001b[0m\u001b[1m[\u001b[0m\u001b[1m]\u001b[0m.\u001b[1m[\u001b[0m\u001b[1m]\u001b[0m##\u001b[33m...\u001b[0m\u001b[33m...\u001b[0m..\u001b[1m[\u001b[0m\u001b[1m]\u001b[0m\u001b[1m[\u001b[0m\u001b[1m]\u001b[0m\u001b[1m[\u001b[0m\u001b[1m]\u001b[0m..\u001b[1m[\u001b[0m\u001b[1m]\u001b[0m\u001b[33m...\u001b[0m\u001b[33m...\u001b[0m\u001b[1m[\u001b[0m\u001b[1m]\u001b[0m\u001b[1m[\u001b[0m\u001b[1m]\u001b[0m\u001b[33m...\u001b[0m\u001b[33m...\u001b[0m\u001b[33m...\u001b[0m.##\n"
      ]
     },
     "metadata": {},
     "output_type": "display_data"
    },
    {
     "data": {
      "text/html": [
       "<pre style=\"white-space:pre;overflow-x:auto;line-height:normal;font-family:Menlo,'DejaVu Sans Mono',consolas,'Courier New',monospace\">##<span style=\"font-weight: bold\">[]</span>..<span style=\"font-weight: bold\">[]</span>##.<span style=\"font-weight: bold\">[][]</span><span style=\"color: #808000; text-decoration-color: #808000\">...</span><span style=\"font-weight: bold\">[]</span><span style=\"color: #808000; text-decoration-color: #808000\">......</span><span style=\"font-weight: bold\">[][][]</span>##<span style=\"color: #808000; text-decoration-color: #808000\">......</span>.<span style=\"font-weight: bold\">[]</span><span style=\"color: #808000; text-decoration-color: #808000\">......</span>.<span style=\"font-weight: bold\">[]</span>..<span style=\"font-weight: bold\">[]</span>##<span style=\"font-weight: bold\">[]</span><span style=\"color: #808000; text-decoration-color: #808000\">............</span>..<span style=\"font-weight: bold\">[][][]</span><span style=\"color: #808000; text-decoration-color: #808000\">......</span><span style=\"font-weight: bold\">[]</span>..<span style=\"font-weight: bold\">[]</span>..<span style=\"font-weight: bold\">[][]</span>##\n",
       "</pre>\n"
      ],
      "text/plain": [
       "##\u001b[1m[\u001b[0m\u001b[1m]\u001b[0m..\u001b[1m[\u001b[0m\u001b[1m]\u001b[0m##.\u001b[1m[\u001b[0m\u001b[1m]\u001b[0m\u001b[1m[\u001b[0m\u001b[1m]\u001b[0m\u001b[33m...\u001b[0m\u001b[1m[\u001b[0m\u001b[1m]\u001b[0m\u001b[33m...\u001b[0m\u001b[33m...\u001b[0m\u001b[1m[\u001b[0m\u001b[1m]\u001b[0m\u001b[1m[\u001b[0m\u001b[1m]\u001b[0m\u001b[1m[\u001b[0m\u001b[1m]\u001b[0m##\u001b[33m...\u001b[0m\u001b[33m...\u001b[0m.\u001b[1m[\u001b[0m\u001b[1m]\u001b[0m\u001b[33m...\u001b[0m\u001b[33m...\u001b[0m.\u001b[1m[\u001b[0m\u001b[1m]\u001b[0m..\u001b[1m[\u001b[0m\u001b[1m]\u001b[0m##\u001b[1m[\u001b[0m\u001b[1m]\u001b[0m\u001b[33m...\u001b[0m\u001b[33m...\u001b[0m\u001b[33m...\u001b[0m\u001b[33m...\u001b[0m..\u001b[1m[\u001b[0m\u001b[1m]\u001b[0m\u001b[1m[\u001b[0m\u001b[1m]\u001b[0m\u001b[1m[\u001b[0m\u001b[1m]\u001b[0m\u001b[33m...\u001b[0m\u001b[33m...\u001b[0m\u001b[1m[\u001b[0m\u001b[1m]\u001b[0m..\u001b[1m[\u001b[0m\u001b[1m]\u001b[0m..\u001b[1m[\u001b[0m\u001b[1m]\u001b[0m\u001b[1m[\u001b[0m\u001b[1m]\u001b[0m##\n"
      ]
     },
     "metadata": {},
     "output_type": "display_data"
    },
    {
     "data": {
      "text/html": [
       "<pre style=\"white-space:pre;overflow-x:auto;line-height:normal;font-family:Menlo,'DejaVu Sans Mono',consolas,'Courier New',monospace\">##<span style=\"color: #808000; text-decoration-color: #808000\">...</span><span style=\"font-weight: bold\">[]</span><span style=\"color: #808000; text-decoration-color: #808000\">...</span>..##<span style=\"color: #808000; text-decoration-color: #808000\">............</span>..<span style=\"font-weight: bold\">[]</span>..<span style=\"font-weight: bold\">[]</span><span style=\"color: #808000; text-decoration-color: #808000\">......</span>##<span style=\"color: #808000; text-decoration-color: #808000\">...</span><span style=\"font-weight: bold\">[][]</span>.<span style=\"font-weight: bold\">[]</span>.<span style=\"font-weight: bold\">[][]</span><span style=\"color: #808000; text-decoration-color: #808000\">..................</span><span style=\"font-weight: bold\">[]</span><span style=\"color: #808000; text-decoration-color: #808000\">.........</span><span style=\"font-weight: bold\">[]</span><span style=\"color: #808000; text-decoration-color: #808000\">...</span>.<span style=\"font-weight: bold\">[]</span>..####\n",
       "</pre>\n"
      ],
      "text/plain": [
       "##\u001b[33m...\u001b[0m\u001b[1m[\u001b[0m\u001b[1m]\u001b[0m\u001b[33m...\u001b[0m..##\u001b[33m...\u001b[0m\u001b[33m...\u001b[0m\u001b[33m...\u001b[0m\u001b[33m...\u001b[0m..\u001b[1m[\u001b[0m\u001b[1m]\u001b[0m..\u001b[1m[\u001b[0m\u001b[1m]\u001b[0m\u001b[33m...\u001b[0m\u001b[33m...\u001b[0m##\u001b[33m...\u001b[0m\u001b[1m[\u001b[0m\u001b[1m]\u001b[0m\u001b[1m[\u001b[0m\u001b[1m]\u001b[0m.\u001b[1m[\u001b[0m\u001b[1m]\u001b[0m.\u001b[1m[\u001b[0m\u001b[1m]\u001b[0m\u001b[1m[\u001b[0m\u001b[1m]\u001b[0m\u001b[33m...\u001b[0m\u001b[33m...\u001b[0m\u001b[33m...\u001b[0m\u001b[33m...\u001b[0m\u001b[33m...\u001b[0m\u001b[33m...\u001b[0m\u001b[1m[\u001b[0m\u001b[1m]\u001b[0m\u001b[33m...\u001b[0m\u001b[33m...\u001b[0m\u001b[33m...\u001b[0m\u001b[1m[\u001b[0m\u001b[1m]\u001b[0m\u001b[33m...\u001b[0m.\u001b[1m[\u001b[0m\u001b[1m]\u001b[0m..####\n"
      ]
     },
     "metadata": {},
     "output_type": "display_data"
    },
    {
     "data": {
      "text/html": [
       "<pre style=\"white-space:pre;overflow-x:auto;line-height:normal;font-family:Menlo,'DejaVu Sans Mono',consolas,'Courier New',monospace\">####..##<span style=\"color: #808000; text-decoration-color: #808000\">........................</span><span style=\"font-weight: bold\">[]</span>##..##..##<span style=\"font-weight: bold\">[]</span>####..<span style=\"font-weight: bold\">[][]</span><span style=\"color: #808000; text-decoration-color: #808000\">.....................</span>.##<span style=\"color: #808000; text-decoration-color: #808000\">..................</span>##\n",
       "</pre>\n"
      ],
      "text/plain": [
       "####..##\u001b[33m...\u001b[0m\u001b[33m...\u001b[0m\u001b[33m...\u001b[0m\u001b[33m...\u001b[0m\u001b[33m...\u001b[0m\u001b[33m...\u001b[0m\u001b[33m...\u001b[0m\u001b[33m...\u001b[0m\u001b[1m[\u001b[0m\u001b[1m]\u001b[0m##..##..##\u001b[1m[\u001b[0m\u001b[1m]\u001b[0m####..\u001b[1m[\u001b[0m\u001b[1m]\u001b[0m\u001b[1m[\u001b[0m\u001b[1m]\u001b[0m\u001b[33m...\u001b[0m\u001b[33m...\u001b[0m\u001b[33m...\u001b[0m\u001b[33m...\u001b[0m\u001b[33m...\u001b[0m\u001b[33m...\u001b[0m\u001b[33m...\u001b[0m.##\u001b[33m...\u001b[0m\u001b[33m...\u001b[0m\u001b[33m...\u001b[0m\u001b[33m...\u001b[0m\u001b[33m...\u001b[0m\u001b[33m...\u001b[0m##\n"
      ]
     },
     "metadata": {},
     "output_type": "display_data"
    },
    {
     "data": {
      "text/html": [
       "<pre style=\"white-space:pre;overflow-x:auto;line-height:normal;font-family:Menlo,'DejaVu Sans Mono',consolas,'Courier New',monospace\">##<span style=\"font-weight: bold\">[]</span><span style=\"color: #808000; text-decoration-color: #808000\">......</span>..<span style=\"font-weight: bold\">[][]</span><span style=\"color: #808000; text-decoration-color: #808000\">......</span><span style=\"font-weight: bold\">[]</span><span style=\"color: #808000; text-decoration-color: #808000\">...</span><span style=\"font-weight: bold\">[]</span>.##.<span style=\"font-weight: bold\">[]</span>.<span style=\"font-weight: bold\">[]</span><span style=\"color: #808000; text-decoration-color: #808000\">......</span>..<span style=\"font-weight: bold\">[]</span><span style=\"color: #808000; text-decoration-color: #808000\">...</span>.<span style=\"font-weight: bold\">[]</span><span style=\"color: #808000; text-decoration-color: #808000\">...............</span>.<span style=\"font-weight: bold\">[]</span><span style=\"color: #808000; text-decoration-color: #808000\">......</span><span style=\"font-weight: bold\">[]</span><span style=\"color: #808000; text-decoration-color: #808000\">............</span>..<span style=\"font-weight: bold\">[]</span>####\n",
       "</pre>\n"
      ],
      "text/plain": [
       "##\u001b[1m[\u001b[0m\u001b[1m]\u001b[0m\u001b[33m...\u001b[0m\u001b[33m...\u001b[0m..\u001b[1m[\u001b[0m\u001b[1m]\u001b[0m\u001b[1m[\u001b[0m\u001b[1m]\u001b[0m\u001b[33m...\u001b[0m\u001b[33m...\u001b[0m\u001b[1m[\u001b[0m\u001b[1m]\u001b[0m\u001b[33m...\u001b[0m\u001b[1m[\u001b[0m\u001b[1m]\u001b[0m.##.\u001b[1m[\u001b[0m\u001b[1m]\u001b[0m.\u001b[1m[\u001b[0m\u001b[1m]\u001b[0m\u001b[33m...\u001b[0m\u001b[33m...\u001b[0m..\u001b[1m[\u001b[0m\u001b[1m]\u001b[0m\u001b[33m...\u001b[0m.\u001b[1m[\u001b[0m\u001b[1m]\u001b[0m\u001b[33m...\u001b[0m\u001b[33m...\u001b[0m\u001b[33m...\u001b[0m\u001b[33m...\u001b[0m\u001b[33m...\u001b[0m.\u001b[1m[\u001b[0m\u001b[1m]\u001b[0m\u001b[33m...\u001b[0m\u001b[33m...\u001b[0m\u001b[1m[\u001b[0m\u001b[1m]\u001b[0m\u001b[33m...\u001b[0m\u001b[33m...\u001b[0m\u001b[33m...\u001b[0m\u001b[33m...\u001b[0m..\u001b[1m[\u001b[0m\u001b[1m]\u001b[0m####\n"
      ]
     },
     "metadata": {},
     "output_type": "display_data"
    },
    {
     "data": {
      "text/html": [
       "<pre style=\"white-space:pre;overflow-x:auto;line-height:normal;font-family:Menlo,'DejaVu Sans Mono',consolas,'Courier New',monospace\">##<span style=\"color: #808000; text-decoration-color: #808000\">.........</span>.<span style=\"font-weight: bold\">[][]</span><span style=\"color: #808000; text-decoration-color: #808000\">...</span>..@<span style=\"color: #808000; text-decoration-color: #808000\">......</span><span style=\"font-weight: bold\">[]</span>..<span style=\"font-weight: bold\">[][]</span><span style=\"color: #808000; text-decoration-color: #808000\">.........</span><span style=\"font-weight: bold\">[]</span><span style=\"color: #808000; text-decoration-color: #808000\">......</span><span style=\"font-weight: bold\">[]</span><span style=\"color: #808000; text-decoration-color: #808000\">.........</span>.<span style=\"font-weight: bold\">[]</span>..<span style=\"font-weight: bold\">[]</span>.<span style=\"font-weight: bold\">[]</span><span style=\"color: #808000; text-decoration-color: #808000\">......</span><span style=\"font-weight: bold\">[]</span><span style=\"color: #808000; text-decoration-color: #808000\">............</span><span style=\"font-weight: bold\">[]</span>..##\n",
       "</pre>\n"
      ],
      "text/plain": [
       "##\u001b[33m...\u001b[0m\u001b[33m...\u001b[0m\u001b[33m...\u001b[0m.\u001b[1m[\u001b[0m\u001b[1m]\u001b[0m\u001b[1m[\u001b[0m\u001b[1m]\u001b[0m\u001b[33m...\u001b[0m..@\u001b[33m...\u001b[0m\u001b[33m...\u001b[0m\u001b[1m[\u001b[0m\u001b[1m]\u001b[0m..\u001b[1m[\u001b[0m\u001b[1m]\u001b[0m\u001b[1m[\u001b[0m\u001b[1m]\u001b[0m\u001b[33m...\u001b[0m\u001b[33m...\u001b[0m\u001b[33m...\u001b[0m\u001b[1m[\u001b[0m\u001b[1m]\u001b[0m\u001b[33m...\u001b[0m\u001b[33m...\u001b[0m\u001b[1m[\u001b[0m\u001b[1m]\u001b[0m\u001b[33m...\u001b[0m\u001b[33m...\u001b[0m\u001b[33m...\u001b[0m.\u001b[1m[\u001b[0m\u001b[1m]\u001b[0m..\u001b[1m[\u001b[0m\u001b[1m]\u001b[0m.\u001b[1m[\u001b[0m\u001b[1m]\u001b[0m\u001b[33m...\u001b[0m\u001b[33m...\u001b[0m\u001b[1m[\u001b[0m\u001b[1m]\u001b[0m\u001b[33m...\u001b[0m\u001b[33m...\u001b[0m\u001b[33m...\u001b[0m\u001b[33m...\u001b[0m\u001b[1m[\u001b[0m\u001b[1m]\u001b[0m..##\n"
      ]
     },
     "metadata": {},
     "output_type": "display_data"
    },
    {
     "data": {
      "text/html": [
       "<pre style=\"white-space:pre;overflow-x:auto;line-height:normal;font-family:Menlo,'DejaVu Sans Mono',consolas,'Courier New',monospace\">##<span style=\"font-weight: bold\">[]</span><span style=\"color: #808000; text-decoration-color: #808000\">...</span><span style=\"font-weight: bold\">[]</span><span style=\"color: #808000; text-decoration-color: #808000\">...</span><span style=\"font-weight: bold\">[][]</span>##.<span style=\"font-weight: bold\">[]</span><span style=\"color: #808000; text-decoration-color: #808000\">...</span>##<span style=\"color: #808000; text-decoration-color: #808000\">.........</span><span style=\"font-weight: bold\">[]</span><span style=\"color: #808000; text-decoration-color: #808000\">...............</span>..<span style=\"font-weight: bold\">[]</span><span style=\"color: #808000; text-decoration-color: #808000\">......</span>..<span style=\"font-weight: bold\">[]</span>..##<span style=\"font-weight: bold\">[][]</span><span style=\"color: #808000; text-decoration-color: #808000\">......</span><span style=\"font-weight: bold\">[]</span><span style=\"color: #808000; text-decoration-color: #808000\">...</span>.<span style=\"font-weight: bold\">[]</span><span style=\"color: #808000; text-decoration-color: #808000\">...</span>.<span style=\"font-weight: bold\">[]</span><span style=\"color: #808000; text-decoration-color: #808000\">...</span>.##\n",
       "</pre>\n"
      ],
      "text/plain": [
       "##\u001b[1m[\u001b[0m\u001b[1m]\u001b[0m\u001b[33m...\u001b[0m\u001b[1m[\u001b[0m\u001b[1m]\u001b[0m\u001b[33m...\u001b[0m\u001b[1m[\u001b[0m\u001b[1m]\u001b[0m\u001b[1m[\u001b[0m\u001b[1m]\u001b[0m##.\u001b[1m[\u001b[0m\u001b[1m]\u001b[0m\u001b[33m...\u001b[0m##\u001b[33m...\u001b[0m\u001b[33m...\u001b[0m\u001b[33m...\u001b[0m\u001b[1m[\u001b[0m\u001b[1m]\u001b[0m\u001b[33m...\u001b[0m\u001b[33m...\u001b[0m\u001b[33m...\u001b[0m\u001b[33m...\u001b[0m\u001b[33m...\u001b[0m..\u001b[1m[\u001b[0m\u001b[1m]\u001b[0m\u001b[33m...\u001b[0m\u001b[33m...\u001b[0m..\u001b[1m[\u001b[0m\u001b[1m]\u001b[0m..##\u001b[1m[\u001b[0m\u001b[1m]\u001b[0m\u001b[1m[\u001b[0m\u001b[1m]\u001b[0m\u001b[33m...\u001b[0m\u001b[33m...\u001b[0m\u001b[1m[\u001b[0m\u001b[1m]\u001b[0m\u001b[33m...\u001b[0m.\u001b[1m[\u001b[0m\u001b[1m]\u001b[0m\u001b[33m...\u001b[0m.\u001b[1m[\u001b[0m\u001b[1m]\u001b[0m\u001b[33m...\u001b[0m.##\n"
      ]
     },
     "metadata": {},
     "output_type": "display_data"
    },
    {
     "data": {
      "text/html": [
       "<pre style=\"white-space:pre;overflow-x:auto;line-height:normal;font-family:Menlo,'DejaVu Sans Mono',consolas,'Courier New',monospace\">##<span style=\"color: #808000; text-decoration-color: #808000\">...</span>.<span style=\"font-weight: bold\">[]</span>..##<span style=\"font-weight: bold\">[]</span>.<span style=\"font-weight: bold\">[]</span><span style=\"color: #808000; text-decoration-color: #808000\">......</span>.##..<span style=\"font-weight: bold\">[]</span>..<span style=\"font-weight: bold\">[][]</span><span style=\"color: #808000; text-decoration-color: #808000\">.........</span>..<span style=\"font-weight: bold\">[]</span><span style=\"color: #808000; text-decoration-color: #808000\">............</span>.##<span style=\"font-weight: bold\">[]</span><span style=\"color: #808000; text-decoration-color: #808000\">...</span>.##<span style=\"font-weight: bold\">[][]</span><span style=\"color: #808000; text-decoration-color: #808000\">......</span>..##<span style=\"font-weight: bold\">[]</span><span style=\"color: #808000; text-decoration-color: #808000\">.........</span>.##\n",
       "</pre>\n"
      ],
      "text/plain": [
       "##\u001b[33m...\u001b[0m.\u001b[1m[\u001b[0m\u001b[1m]\u001b[0m..##\u001b[1m[\u001b[0m\u001b[1m]\u001b[0m.\u001b[1m[\u001b[0m\u001b[1m]\u001b[0m\u001b[33m...\u001b[0m\u001b[33m...\u001b[0m.##..\u001b[1m[\u001b[0m\u001b[1m]\u001b[0m..\u001b[1m[\u001b[0m\u001b[1m]\u001b[0m\u001b[1m[\u001b[0m\u001b[1m]\u001b[0m\u001b[33m...\u001b[0m\u001b[33m...\u001b[0m\u001b[33m...\u001b[0m..\u001b[1m[\u001b[0m\u001b[1m]\u001b[0m\u001b[33m...\u001b[0m\u001b[33m...\u001b[0m\u001b[33m...\u001b[0m\u001b[33m...\u001b[0m.##\u001b[1m[\u001b[0m\u001b[1m]\u001b[0m\u001b[33m...\u001b[0m.##\u001b[1m[\u001b[0m\u001b[1m]\u001b[0m\u001b[1m[\u001b[0m\u001b[1m]\u001b[0m\u001b[33m...\u001b[0m\u001b[33m...\u001b[0m..##\u001b[1m[\u001b[0m\u001b[1m]\u001b[0m\u001b[33m...\u001b[0m\u001b[33m...\u001b[0m\u001b[33m...\u001b[0m.##\n"
      ]
     },
     "metadata": {},
     "output_type": "display_data"
    },
    {
     "data": {
      "text/html": [
       "<pre style=\"white-space:pre;overflow-x:auto;line-height:normal;font-family:Menlo,'DejaVu Sans Mono',consolas,'Courier New',monospace\">####<span style=\"color: #808000; text-decoration-color: #808000\">............</span><span style=\"font-weight: bold\">[]</span><span style=\"color: #808000; text-decoration-color: #808000\">......</span>..<span style=\"font-weight: bold\">[]</span><span style=\"color: #808000; text-decoration-color: #808000\">.........</span><span style=\"font-weight: bold\">[]</span><span style=\"color: #808000; text-decoration-color: #808000\">...........................</span>..##.<span style=\"font-weight: bold\">[]</span><span style=\"color: #808000; text-decoration-color: #808000\">...............</span>##<span style=\"color: #808000; text-decoration-color: #808000\">......</span><span style=\"font-weight: bold\">[]</span>##\n",
       "</pre>\n"
      ],
      "text/plain": [
       "####\u001b[33m...\u001b[0m\u001b[33m...\u001b[0m\u001b[33m...\u001b[0m\u001b[33m...\u001b[0m\u001b[1m[\u001b[0m\u001b[1m]\u001b[0m\u001b[33m...\u001b[0m\u001b[33m...\u001b[0m..\u001b[1m[\u001b[0m\u001b[1m]\u001b[0m\u001b[33m...\u001b[0m\u001b[33m...\u001b[0m\u001b[33m...\u001b[0m\u001b[1m[\u001b[0m\u001b[1m]\u001b[0m\u001b[33m...\u001b[0m\u001b[33m...\u001b[0m\u001b[33m...\u001b[0m\u001b[33m...\u001b[0m\u001b[33m...\u001b[0m\u001b[33m...\u001b[0m\u001b[33m...\u001b[0m\u001b[33m...\u001b[0m\u001b[33m...\u001b[0m..##.\u001b[1m[\u001b[0m\u001b[1m]\u001b[0m\u001b[33m...\u001b[0m\u001b[33m...\u001b[0m\u001b[33m...\u001b[0m\u001b[33m...\u001b[0m\u001b[33m...\u001b[0m##\u001b[33m...\u001b[0m\u001b[33m...\u001b[0m\u001b[1m[\u001b[0m\u001b[1m]\u001b[0m##\n"
      ]
     },
     "metadata": {},
     "output_type": "display_data"
    },
    {
     "data": {
      "text/html": [
       "<pre style=\"white-space:pre;overflow-x:auto;line-height:normal;font-family:Menlo,'DejaVu Sans Mono',consolas,'Courier New',monospace\">##<span style=\"font-weight: bold\">[]</span><span style=\"color: #808000; text-decoration-color: #808000\">.........</span>.<span style=\"font-weight: bold\">[][]</span><span style=\"color: #808000; text-decoration-color: #808000\">.....................</span>.##<span style=\"color: #808000; text-decoration-color: #808000\">...........................</span><span style=\"font-weight: bold\">[]</span>.<span style=\"font-weight: bold\">[]</span><span style=\"color: #808000; text-decoration-color: #808000\">..................</span><span style=\"font-weight: bold\">[]</span><span style=\"color: #808000; text-decoration-color: #808000\">...</span>.##\n",
       "</pre>\n"
      ],
      "text/plain": [
       "##\u001b[1m[\u001b[0m\u001b[1m]\u001b[0m\u001b[33m...\u001b[0m\u001b[33m...\u001b[0m\u001b[33m...\u001b[0m.\u001b[1m[\u001b[0m\u001b[1m]\u001b[0m\u001b[1m[\u001b[0m\u001b[1m]\u001b[0m\u001b[33m...\u001b[0m\u001b[33m...\u001b[0m\u001b[33m...\u001b[0m\u001b[33m...\u001b[0m\u001b[33m...\u001b[0m\u001b[33m...\u001b[0m\u001b[33m...\u001b[0m.##\u001b[33m...\u001b[0m\u001b[33m...\u001b[0m\u001b[33m...\u001b[0m\u001b[33m...\u001b[0m\u001b[33m...\u001b[0m\u001b[33m...\u001b[0m\u001b[33m...\u001b[0m\u001b[33m...\u001b[0m\u001b[33m...\u001b[0m\u001b[1m[\u001b[0m\u001b[1m]\u001b[0m.\u001b[1m[\u001b[0m\u001b[1m]\u001b[0m\u001b[33m...\u001b[0m\u001b[33m...\u001b[0m\u001b[33m...\u001b[0m\u001b[33m...\u001b[0m\u001b[33m...\u001b[0m\u001b[33m...\u001b[0m\u001b[1m[\u001b[0m\u001b[1m]\u001b[0m\u001b[33m...\u001b[0m.##\n"
      ]
     },
     "metadata": {},
     "output_type": "display_data"
    },
    {
     "data": {
      "text/html": [
       "<pre style=\"white-space:pre;overflow-x:auto;line-height:normal;font-family:Menlo,'DejaVu Sans Mono',consolas,'Courier New',monospace\">##<span style=\"font-weight: bold\">[]</span><span style=\"color: #808000; text-decoration-color: #808000\">......</span><span style=\"font-weight: bold\">[]</span><span style=\"color: #808000; text-decoration-color: #808000\">..................</span><span style=\"font-weight: bold\">[]</span><span style=\"color: #808000; text-decoration-color: #808000\">......</span>..##<span style=\"color: #808000; text-decoration-color: #808000\">............</span>..##<span style=\"color: #808000; text-decoration-color: #808000\">...</span>.<span style=\"font-weight: bold\">[]</span><span style=\"color: #808000; text-decoration-color: #808000\">......</span><span style=\"font-weight: bold\">[][]</span>##<span style=\"color: #808000; text-decoration-color: #808000\">......</span>..<span style=\"font-weight: bold\">[]</span><span style=\"color: #808000; text-decoration-color: #808000\">......</span><span style=\"font-weight: bold\">[]</span>##..##\n",
       "</pre>\n"
      ],
      "text/plain": [
       "##\u001b[1m[\u001b[0m\u001b[1m]\u001b[0m\u001b[33m...\u001b[0m\u001b[33m...\u001b[0m\u001b[1m[\u001b[0m\u001b[1m]\u001b[0m\u001b[33m...\u001b[0m\u001b[33m...\u001b[0m\u001b[33m...\u001b[0m\u001b[33m...\u001b[0m\u001b[33m...\u001b[0m\u001b[33m...\u001b[0m\u001b[1m[\u001b[0m\u001b[1m]\u001b[0m\u001b[33m...\u001b[0m\u001b[33m...\u001b[0m..##\u001b[33m...\u001b[0m\u001b[33m...\u001b[0m\u001b[33m...\u001b[0m\u001b[33m...\u001b[0m..##\u001b[33m...\u001b[0m.\u001b[1m[\u001b[0m\u001b[1m]\u001b[0m\u001b[33m...\u001b[0m\u001b[33m...\u001b[0m\u001b[1m[\u001b[0m\u001b[1m]\u001b[0m\u001b[1m[\u001b[0m\u001b[1m]\u001b[0m##\u001b[33m...\u001b[0m\u001b[33m...\u001b[0m..\u001b[1m[\u001b[0m\u001b[1m]\u001b[0m\u001b[33m...\u001b[0m\u001b[33m...\u001b[0m\u001b[1m[\u001b[0m\u001b[1m]\u001b[0m##..##\n"
      ]
     },
     "metadata": {},
     "output_type": "display_data"
    },
    {
     "data": {
      "text/html": [
       "<pre style=\"white-space:pre;overflow-x:auto;line-height:normal;font-family:Menlo,'DejaVu Sans Mono',consolas,'Courier New',monospace\">##<span style=\"font-weight: bold\">[]</span><span style=\"color: #808000; text-decoration-color: #808000\">...</span>.##.<span style=\"font-weight: bold\">[]</span>.<span style=\"font-weight: bold\">[]</span><span style=\"color: #808000; text-decoration-color: #808000\">......</span><span style=\"font-weight: bold\">[][]</span>.<span style=\"font-weight: bold\">[]</span><span style=\"color: #808000; text-decoration-color: #808000\">......</span>..<span style=\"font-weight: bold\">[]</span><span style=\"color: #808000; text-decoration-color: #808000\">.....................</span>..##<span style=\"color: #808000; text-decoration-color: #808000\">......</span><span style=\"font-weight: bold\">[][]</span>##..####..##..<span style=\"font-weight: bold\">[]</span>..<span style=\"font-weight: bold\">[][]</span>####\n",
       "</pre>\n"
      ],
      "text/plain": [
       "##\u001b[1m[\u001b[0m\u001b[1m]\u001b[0m\u001b[33m...\u001b[0m.##.\u001b[1m[\u001b[0m\u001b[1m]\u001b[0m.\u001b[1m[\u001b[0m\u001b[1m]\u001b[0m\u001b[33m...\u001b[0m\u001b[33m...\u001b[0m\u001b[1m[\u001b[0m\u001b[1m]\u001b[0m\u001b[1m[\u001b[0m\u001b[1m]\u001b[0m.\u001b[1m[\u001b[0m\u001b[1m]\u001b[0m\u001b[33m...\u001b[0m\u001b[33m...\u001b[0m..\u001b[1m[\u001b[0m\u001b[1m]\u001b[0m\u001b[33m...\u001b[0m\u001b[33m...\u001b[0m\u001b[33m...\u001b[0m\u001b[33m...\u001b[0m\u001b[33m...\u001b[0m\u001b[33m...\u001b[0m\u001b[33m...\u001b[0m..##\u001b[33m...\u001b[0m\u001b[33m...\u001b[0m\u001b[1m[\u001b[0m\u001b[1m]\u001b[0m\u001b[1m[\u001b[0m\u001b[1m]\u001b[0m##..####..##..\u001b[1m[\u001b[0m\u001b[1m]\u001b[0m..\u001b[1m[\u001b[0m\u001b[1m]\u001b[0m\u001b[1m[\u001b[0m\u001b[1m]\u001b[0m####\n"
      ]
     },
     "metadata": {},
     "output_type": "display_data"
    },
    {
     "data": {
      "text/html": [
       "<pre style=\"white-space:pre;overflow-x:auto;line-height:normal;font-family:Menlo,'DejaVu Sans Mono',consolas,'Courier New',monospace\">##<span style=\"font-weight: bold\">[]</span><span style=\"color: #808000; text-decoration-color: #808000\">...</span>..<span style=\"font-weight: bold\">[]</span><span style=\"color: #808000; text-decoration-color: #808000\">...</span><span style=\"font-weight: bold\">[]</span><span style=\"color: #808000; text-decoration-color: #808000\">......</span>##<span style=\"color: #808000; text-decoration-color: #808000\">............</span>.<span style=\"font-weight: bold\">[]</span>.##<span style=\"font-weight: bold\">[]</span><span style=\"color: #808000; text-decoration-color: #808000\">...............</span><span style=\"font-weight: bold\">[]</span><span style=\"color: #808000; text-decoration-color: #808000\">.........</span>##<span style=\"color: #808000; text-decoration-color: #808000\">...</span><span style=\"font-weight: bold\">[][]</span><span style=\"color: #808000; text-decoration-color: #808000\">...</span>..<span style=\"font-weight: bold\">[]</span>..##..<span style=\"font-weight: bold\">[]</span><span style=\"color: #808000; text-decoration-color: #808000\">...</span>.##\n",
       "</pre>\n"
      ],
      "text/plain": [
       "##\u001b[1m[\u001b[0m\u001b[1m]\u001b[0m\u001b[33m...\u001b[0m..\u001b[1m[\u001b[0m\u001b[1m]\u001b[0m\u001b[33m...\u001b[0m\u001b[1m[\u001b[0m\u001b[1m]\u001b[0m\u001b[33m...\u001b[0m\u001b[33m...\u001b[0m##\u001b[33m...\u001b[0m\u001b[33m...\u001b[0m\u001b[33m...\u001b[0m\u001b[33m...\u001b[0m.\u001b[1m[\u001b[0m\u001b[1m]\u001b[0m.##\u001b[1m[\u001b[0m\u001b[1m]\u001b[0m\u001b[33m...\u001b[0m\u001b[33m...\u001b[0m\u001b[33m...\u001b[0m\u001b[33m...\u001b[0m\u001b[33m...\u001b[0m\u001b[1m[\u001b[0m\u001b[1m]\u001b[0m\u001b[33m...\u001b[0m\u001b[33m...\u001b[0m\u001b[33m...\u001b[0m##\u001b[33m...\u001b[0m\u001b[1m[\u001b[0m\u001b[1m]\u001b[0m\u001b[1m[\u001b[0m\u001b[1m]\u001b[0m\u001b[33m...\u001b[0m..\u001b[1m[\u001b[0m\u001b[1m]\u001b[0m..##..\u001b[1m[\u001b[0m\u001b[1m]\u001b[0m\u001b[33m...\u001b[0m.##\n"
      ]
     },
     "metadata": {},
     "output_type": "display_data"
    },
    {
     "data": {
      "text/html": [
       "<pre style=\"white-space:pre;overflow-x:auto;line-height:normal;font-family:Menlo,'DejaVu Sans Mono',consolas,'Courier New',monospace\">##<span style=\"color: #808000; text-decoration-color: #808000\">.........</span>.<span style=\"font-weight: bold\">[]</span><span style=\"color: #808000; text-decoration-color: #808000\">.....................</span>.####<span style=\"font-weight: bold\">[]</span>##<span style=\"font-weight: bold\">[]</span><span style=\"color: #808000; text-decoration-color: #808000\">...</span>..<span style=\"font-weight: bold\">[]</span><span style=\"color: #808000; text-decoration-color: #808000\">......</span>.<span style=\"font-weight: bold\">[]</span><span style=\"color: #808000; text-decoration-color: #808000\">...</span>.##<span style=\"color: #808000; text-decoration-color: #808000\">......</span>..<span style=\"font-weight: bold\">[]</span><span style=\"color: #808000; text-decoration-color: #808000\">...</span>..<span style=\"font-weight: bold\">[]</span><span style=\"color: #808000; text-decoration-color: #808000\">...</span><span style=\"font-weight: bold\">[]</span>..<span style=\"font-weight: bold\">[]</span><span style=\"color: #808000; text-decoration-color: #808000\">...</span>.##\n",
       "</pre>\n"
      ],
      "text/plain": [
       "##\u001b[33m...\u001b[0m\u001b[33m...\u001b[0m\u001b[33m...\u001b[0m.\u001b[1m[\u001b[0m\u001b[1m]\u001b[0m\u001b[33m...\u001b[0m\u001b[33m...\u001b[0m\u001b[33m...\u001b[0m\u001b[33m...\u001b[0m\u001b[33m...\u001b[0m\u001b[33m...\u001b[0m\u001b[33m...\u001b[0m.####\u001b[1m[\u001b[0m\u001b[1m]\u001b[0m##\u001b[1m[\u001b[0m\u001b[1m]\u001b[0m\u001b[33m...\u001b[0m..\u001b[1m[\u001b[0m\u001b[1m]\u001b[0m\u001b[33m...\u001b[0m\u001b[33m...\u001b[0m.\u001b[1m[\u001b[0m\u001b[1m]\u001b[0m\u001b[33m...\u001b[0m.##\u001b[33m...\u001b[0m\u001b[33m...\u001b[0m..\u001b[1m[\u001b[0m\u001b[1m]\u001b[0m\u001b[33m...\u001b[0m..\u001b[1m[\u001b[0m\u001b[1m]\u001b[0m\u001b[33m...\u001b[0m\u001b[1m[\u001b[0m\u001b[1m]\u001b[0m..\u001b[1m[\u001b[0m\u001b[1m]\u001b[0m\u001b[33m...\u001b[0m.##\n"
      ]
     },
     "metadata": {},
     "output_type": "display_data"
    },
    {
     "data": {
      "text/html": [
       "<pre style=\"white-space:pre;overflow-x:auto;line-height:normal;font-family:Menlo,'DejaVu Sans Mono',consolas,'Courier New',monospace\">##<span style=\"color: #808000; text-decoration-color: #808000\">......</span>..<span style=\"font-weight: bold\">[]</span><span style=\"color: #808000; text-decoration-color: #808000\">............</span>..<span style=\"font-weight: bold\">[]</span><span style=\"color: #808000; text-decoration-color: #808000\">......</span>.<span style=\"font-weight: bold\">[]</span><span style=\"color: #808000; text-decoration-color: #808000\">......</span>.<span style=\"font-weight: bold\">[]</span><span style=\"color: #808000; text-decoration-color: #808000\">.................................</span>..<span style=\"font-weight: bold\">[]</span><span style=\"color: #808000; text-decoration-color: #808000\">.........</span><span style=\"font-weight: bold\">[]</span>..####\n",
       "</pre>\n"
      ],
      "text/plain": [
       "##\u001b[33m...\u001b[0m\u001b[33m...\u001b[0m..\u001b[1m[\u001b[0m\u001b[1m]\u001b[0m\u001b[33m...\u001b[0m\u001b[33m...\u001b[0m\u001b[33m...\u001b[0m\u001b[33m...\u001b[0m..\u001b[1m[\u001b[0m\u001b[1m]\u001b[0m\u001b[33m...\u001b[0m\u001b[33m...\u001b[0m.\u001b[1m[\u001b[0m\u001b[1m]\u001b[0m\u001b[33m...\u001b[0m\u001b[33m...\u001b[0m.\u001b[1m[\u001b[0m\u001b[1m]\u001b[0m\u001b[33m...\u001b[0m\u001b[33m...\u001b[0m\u001b[33m...\u001b[0m\u001b[33m...\u001b[0m\u001b[33m...\u001b[0m\u001b[33m...\u001b[0m\u001b[33m...\u001b[0m\u001b[33m...\u001b[0m\u001b[33m...\u001b[0m\u001b[33m...\u001b[0m\u001b[33m...\u001b[0m..\u001b[1m[\u001b[0m\u001b[1m]\u001b[0m\u001b[33m...\u001b[0m\u001b[33m...\u001b[0m\u001b[33m...\u001b[0m\u001b[1m[\u001b[0m\u001b[1m]\u001b[0m..####\n"
      ]
     },
     "metadata": {},
     "output_type": "display_data"
    },
    {
     "data": {
      "text/html": [
       "<pre style=\"white-space:pre;overflow-x:auto;line-height:normal;font-family:Menlo,'DejaVu Sans Mono',consolas,'Courier New',monospace\">##<span style=\"color: #808000; text-decoration-color: #808000\">.......................................</span>..<span style=\"font-weight: bold\">[]</span><span style=\"color: #808000; text-decoration-color: #808000\">......</span><span style=\"font-weight: bold\">[]</span>..<span style=\"font-weight: bold\">[]</span><span style=\"color: #808000; text-decoration-color: #808000\">...</span>##.<span style=\"font-weight: bold\">[][]</span>..<span style=\"font-weight: bold\">[]</span><span style=\"color: #808000; text-decoration-color: #808000\">.....................</span><span style=\"font-weight: bold\">[]</span>##..##\n",
       "</pre>\n"
      ],
      "text/plain": [
       "##\u001b[33m...\u001b[0m\u001b[33m...\u001b[0m\u001b[33m...\u001b[0m\u001b[33m...\u001b[0m\u001b[33m...\u001b[0m\u001b[33m...\u001b[0m\u001b[33m...\u001b[0m\u001b[33m...\u001b[0m\u001b[33m...\u001b[0m\u001b[33m...\u001b[0m\u001b[33m...\u001b[0m\u001b[33m...\u001b[0m\u001b[33m...\u001b[0m..\u001b[1m[\u001b[0m\u001b[1m]\u001b[0m\u001b[33m...\u001b[0m\u001b[33m...\u001b[0m\u001b[1m[\u001b[0m\u001b[1m]\u001b[0m..\u001b[1m[\u001b[0m\u001b[1m]\u001b[0m\u001b[33m...\u001b[0m##.\u001b[1m[\u001b[0m\u001b[1m]\u001b[0m\u001b[1m[\u001b[0m\u001b[1m]\u001b[0m..\u001b[1m[\u001b[0m\u001b[1m]\u001b[0m\u001b[33m...\u001b[0m\u001b[33m...\u001b[0m\u001b[33m...\u001b[0m\u001b[33m...\u001b[0m\u001b[33m...\u001b[0m\u001b[33m...\u001b[0m\u001b[33m...\u001b[0m\u001b[1m[\u001b[0m\u001b[1m]\u001b[0m##..##\n"
      ]
     },
     "metadata": {},
     "output_type": "display_data"
    },
    {
     "data": {
      "text/html": [
       "<pre style=\"white-space:pre;overflow-x:auto;line-height:normal;font-family:Menlo,'DejaVu Sans Mono',consolas,'Courier New',monospace\">##<span style=\"color: #808000; text-decoration-color: #808000\">..................</span><span style=\"font-weight: bold\">[]</span><span style=\"color: #808000; text-decoration-color: #808000\">............</span><span style=\"font-weight: bold\">[]</span>##<span style=\"color: #808000; text-decoration-color: #808000\">...</span>.##<span style=\"color: #808000; text-decoration-color: #808000\">...</span><span style=\"font-weight: bold\">[]</span>.<span style=\"font-weight: bold\">[]</span><span style=\"color: #808000; text-decoration-color: #808000\">...</span>..<span style=\"font-weight: bold\">[][]</span>.<span style=\"font-weight: bold\">[]</span>##<span style=\"font-weight: bold\">[]</span>##<span style=\"font-weight: bold\">[]</span><span style=\"color: #808000; text-decoration-color: #808000\">.........</span>.<span style=\"font-weight: bold\">[]</span><span style=\"color: #808000; text-decoration-color: #808000\">.........</span>.##..##\n",
       "</pre>\n"
      ],
      "text/plain": [
       "##\u001b[33m...\u001b[0m\u001b[33m...\u001b[0m\u001b[33m...\u001b[0m\u001b[33m...\u001b[0m\u001b[33m...\u001b[0m\u001b[33m...\u001b[0m\u001b[1m[\u001b[0m\u001b[1m]\u001b[0m\u001b[33m...\u001b[0m\u001b[33m...\u001b[0m\u001b[33m...\u001b[0m\u001b[33m...\u001b[0m\u001b[1m[\u001b[0m\u001b[1m]\u001b[0m##\u001b[33m...\u001b[0m.##\u001b[33m...\u001b[0m\u001b[1m[\u001b[0m\u001b[1m]\u001b[0m.\u001b[1m[\u001b[0m\u001b[1m]\u001b[0m\u001b[33m...\u001b[0m..\u001b[1m[\u001b[0m\u001b[1m]\u001b[0m\u001b[1m[\u001b[0m\u001b[1m]\u001b[0m.\u001b[1m[\u001b[0m\u001b[1m]\u001b[0m##\u001b[1m[\u001b[0m\u001b[1m]\u001b[0m##\u001b[1m[\u001b[0m\u001b[1m]\u001b[0m\u001b[33m...\u001b[0m\u001b[33m...\u001b[0m\u001b[33m...\u001b[0m.\u001b[1m[\u001b[0m\u001b[1m]\u001b[0m\u001b[33m...\u001b[0m\u001b[33m...\u001b[0m\u001b[33m...\u001b[0m.##..##\n"
      ]
     },
     "metadata": {},
     "output_type": "display_data"
    },
    {
     "data": {
      "text/html": [
       "<pre style=\"white-space:pre;overflow-x:auto;line-height:normal;font-family:Menlo,'DejaVu Sans Mono',consolas,'Courier New',monospace\">##<span style=\"color: #808000; text-decoration-color: #808000\">............</span><span style=\"font-weight: bold\">[]</span><span style=\"color: #808000; text-decoration-color: #808000\">..................</span>##<span style=\"color: #808000; text-decoration-color: #808000\">...</span>..<span style=\"font-weight: bold\">[]</span><span style=\"color: #808000; text-decoration-color: #808000\">...</span>..##<span style=\"color: #808000; text-decoration-color: #808000\">.........</span><span style=\"font-weight: bold\">[]</span><span style=\"color: #808000; text-decoration-color: #808000\">...</span>..<span style=\"font-weight: bold\">[][]</span>##<span style=\"font-weight: bold\">[]</span><span style=\"color: #808000; text-decoration-color: #808000\">......</span>.<span style=\"font-weight: bold\">[]</span><span style=\"color: #808000; text-decoration-color: #808000\">.........</span>..<span style=\"font-weight: bold\">[][]</span>##\n",
       "</pre>\n"
      ],
      "text/plain": [
       "##\u001b[33m...\u001b[0m\u001b[33m...\u001b[0m\u001b[33m...\u001b[0m\u001b[33m...\u001b[0m\u001b[1m[\u001b[0m\u001b[1m]\u001b[0m\u001b[33m...\u001b[0m\u001b[33m...\u001b[0m\u001b[33m...\u001b[0m\u001b[33m...\u001b[0m\u001b[33m...\u001b[0m\u001b[33m...\u001b[0m##\u001b[33m...\u001b[0m..\u001b[1m[\u001b[0m\u001b[1m]\u001b[0m\u001b[33m...\u001b[0m..##\u001b[33m...\u001b[0m\u001b[33m...\u001b[0m\u001b[33m...\u001b[0m\u001b[1m[\u001b[0m\u001b[1m]\u001b[0m\u001b[33m...\u001b[0m..\u001b[1m[\u001b[0m\u001b[1m]\u001b[0m\u001b[1m[\u001b[0m\u001b[1m]\u001b[0m##\u001b[1m[\u001b[0m\u001b[1m]\u001b[0m\u001b[33m...\u001b[0m\u001b[33m...\u001b[0m.\u001b[1m[\u001b[0m\u001b[1m]\u001b[0m\u001b[33m...\u001b[0m\u001b[33m...\u001b[0m\u001b[33m...\u001b[0m..\u001b[1m[\u001b[0m\u001b[1m]\u001b[0m\u001b[1m[\u001b[0m\u001b[1m]\u001b[0m##\n"
      ]
     },
     "metadata": {},
     "output_type": "display_data"
    },
    {
     "data": {
      "text/html": [
       "<pre style=\"white-space:pre;overflow-x:auto;line-height:normal;font-family:Menlo,'DejaVu Sans Mono',consolas,'Courier New',monospace\">##<span style=\"color: #808000; text-decoration-color: #808000\">......</span>..<span style=\"font-weight: bold\">[]</span>##<span style=\"color: #808000; text-decoration-color: #808000\">......</span><span style=\"font-weight: bold\">[][]</span><span style=\"color: #808000; text-decoration-color: #808000\">......</span>..<span style=\"font-weight: bold\">[]</span>..##<span style=\"color: #808000; text-decoration-color: #808000\">......</span>##<span style=\"color: #808000; text-decoration-color: #808000\">...</span>..<span style=\"font-weight: bold\">[]</span>..<span style=\"font-weight: bold\">[]</span><span style=\"color: #808000; text-decoration-color: #808000\">.........</span>##<span style=\"font-weight: bold\">[][][]</span><span style=\"color: #808000; text-decoration-color: #808000\">......</span>..<span style=\"font-weight: bold\">[]</span><span style=\"color: #808000; text-decoration-color: #808000\">.........</span>.<span style=\"font-weight: bold\">[][]</span>##\n",
       "</pre>\n"
      ],
      "text/plain": [
       "##\u001b[33m...\u001b[0m\u001b[33m...\u001b[0m..\u001b[1m[\u001b[0m\u001b[1m]\u001b[0m##\u001b[33m...\u001b[0m\u001b[33m...\u001b[0m\u001b[1m[\u001b[0m\u001b[1m]\u001b[0m\u001b[1m[\u001b[0m\u001b[1m]\u001b[0m\u001b[33m...\u001b[0m\u001b[33m...\u001b[0m..\u001b[1m[\u001b[0m\u001b[1m]\u001b[0m..##\u001b[33m...\u001b[0m\u001b[33m...\u001b[0m##\u001b[33m...\u001b[0m..\u001b[1m[\u001b[0m\u001b[1m]\u001b[0m..\u001b[1m[\u001b[0m\u001b[1m]\u001b[0m\u001b[33m...\u001b[0m\u001b[33m...\u001b[0m\u001b[33m...\u001b[0m##\u001b[1m[\u001b[0m\u001b[1m]\u001b[0m\u001b[1m[\u001b[0m\u001b[1m]\u001b[0m\u001b[1m[\u001b[0m\u001b[1m]\u001b[0m\u001b[33m...\u001b[0m\u001b[33m...\u001b[0m..\u001b[1m[\u001b[0m\u001b[1m]\u001b[0m\u001b[33m...\u001b[0m\u001b[33m...\u001b[0m\u001b[33m...\u001b[0m.\u001b[1m[\u001b[0m\u001b[1m]\u001b[0m\u001b[1m[\u001b[0m\u001b[1m]\u001b[0m##\n"
      ]
     },
     "metadata": {},
     "output_type": "display_data"
    },
    {
     "data": {
      "text/html": [
       "<pre style=\"white-space:pre;overflow-x:auto;line-height:normal;font-family:Menlo,'DejaVu Sans Mono',consolas,'Courier New',monospace\">##<span style=\"color: #808000; text-decoration-color: #808000\">...</span>.##<span style=\"color: #808000; text-decoration-color: #808000\">......</span>..<span style=\"font-weight: bold\">[][][]</span>##<span style=\"color: #808000; text-decoration-color: #808000\">...</span><span style=\"font-weight: bold\">[]</span><span style=\"color: #808000; text-decoration-color: #808000\">...</span>..<span style=\"font-weight: bold\">[]</span>##<span style=\"font-weight: bold\">[]</span><span style=\"color: #808000; text-decoration-color: #808000\">......</span>..##<span style=\"font-weight: bold\">[][]</span><span style=\"color: #808000; text-decoration-color: #808000\">..................</span>##<span style=\"color: #808000; text-decoration-color: #808000\">...</span>.<span style=\"font-weight: bold\">[]</span>..<span style=\"font-weight: bold\">[]</span><span style=\"color: #808000; text-decoration-color: #808000\">.........</span>.<span style=\"font-weight: bold\">[]</span>..##\n",
       "</pre>\n"
      ],
      "text/plain": [
       "##\u001b[33m...\u001b[0m.##\u001b[33m...\u001b[0m\u001b[33m...\u001b[0m..\u001b[1m[\u001b[0m\u001b[1m]\u001b[0m\u001b[1m[\u001b[0m\u001b[1m]\u001b[0m\u001b[1m[\u001b[0m\u001b[1m]\u001b[0m##\u001b[33m...\u001b[0m\u001b[1m[\u001b[0m\u001b[1m]\u001b[0m\u001b[33m...\u001b[0m..\u001b[1m[\u001b[0m\u001b[1m]\u001b[0m##\u001b[1m[\u001b[0m\u001b[1m]\u001b[0m\u001b[33m...\u001b[0m\u001b[33m...\u001b[0m..##\u001b[1m[\u001b[0m\u001b[1m]\u001b[0m\u001b[1m[\u001b[0m\u001b[1m]\u001b[0m\u001b[33m...\u001b[0m\u001b[33m...\u001b[0m\u001b[33m...\u001b[0m\u001b[33m...\u001b[0m\u001b[33m...\u001b[0m\u001b[33m...\u001b[0m##\u001b[33m...\u001b[0m.\u001b[1m[\u001b[0m\u001b[1m]\u001b[0m..\u001b[1m[\u001b[0m\u001b[1m]\u001b[0m\u001b[33m...\u001b[0m\u001b[33m...\u001b[0m\u001b[33m...\u001b[0m.\u001b[1m[\u001b[0m\u001b[1m]\u001b[0m..##\n"
      ]
     },
     "metadata": {},
     "output_type": "display_data"
    },
    {
     "data": {
      "text/html": [
       "<pre style=\"white-space:pre;overflow-x:auto;line-height:normal;font-family:Menlo,'DejaVu Sans Mono',consolas,'Courier New',monospace\">##<span style=\"color: #808000; text-decoration-color: #808000\">............</span>..####.<span style=\"font-weight: bold\">[][]</span>..<span style=\"font-weight: bold\">[]</span><span style=\"color: #808000; text-decoration-color: #808000\">...............</span>..##<span style=\"color: #808000; text-decoration-color: #808000\">...</span>..<span style=\"font-weight: bold\">[]</span><span style=\"color: #808000; text-decoration-color: #808000\">...</span><span style=\"font-weight: bold\">[]</span><span style=\"color: #808000; text-decoration-color: #808000\">......</span><span style=\"font-weight: bold\">[]</span>##<span style=\"color: #808000; text-decoration-color: #808000\">.........</span>.<span style=\"font-weight: bold\">[]</span>.<span style=\"font-weight: bold\">[]</span><span style=\"color: #808000; text-decoration-color: #808000\">............</span>.##\n",
       "</pre>\n"
      ],
      "text/plain": [
       "##\u001b[33m...\u001b[0m\u001b[33m...\u001b[0m\u001b[33m...\u001b[0m\u001b[33m...\u001b[0m..####.\u001b[1m[\u001b[0m\u001b[1m]\u001b[0m\u001b[1m[\u001b[0m\u001b[1m]\u001b[0m..\u001b[1m[\u001b[0m\u001b[1m]\u001b[0m\u001b[33m...\u001b[0m\u001b[33m...\u001b[0m\u001b[33m...\u001b[0m\u001b[33m...\u001b[0m\u001b[33m...\u001b[0m..##\u001b[33m...\u001b[0m..\u001b[1m[\u001b[0m\u001b[1m]\u001b[0m\u001b[33m...\u001b[0m\u001b[1m[\u001b[0m\u001b[1m]\u001b[0m\u001b[33m...\u001b[0m\u001b[33m...\u001b[0m\u001b[1m[\u001b[0m\u001b[1m]\u001b[0m##\u001b[33m...\u001b[0m\u001b[33m...\u001b[0m\u001b[33m...\u001b[0m.\u001b[1m[\u001b[0m\u001b[1m]\u001b[0m.\u001b[1m[\u001b[0m\u001b[1m]\u001b[0m\u001b[33m...\u001b[0m\u001b[33m...\u001b[0m\u001b[33m...\u001b[0m\u001b[33m...\u001b[0m.##\n"
      ]
     },
     "metadata": {},
     "output_type": "display_data"
    },
    {
     "data": {
      "text/html": [
       "<pre style=\"white-space:pre;overflow-x:auto;line-height:normal;font-family:Menlo,'DejaVu Sans Mono',consolas,'Courier New',monospace\">##<span style=\"color: #808000; text-decoration-color: #808000\">......</span><span style=\"font-weight: bold\">[]</span><span style=\"color: #808000; text-decoration-color: #808000\">......</span><span style=\"font-weight: bold\">[][][][][][][]</span><span style=\"color: #808000; text-decoration-color: #808000\">.........</span>.##<span style=\"color: #808000; text-decoration-color: #808000\">.........</span>.<span style=\"font-weight: bold\">[][]</span>####<span style=\"color: #808000; text-decoration-color: #808000\">......</span><span style=\"font-weight: bold\">[]</span>..##<span style=\"font-weight: bold\">[]</span><span style=\"color: #808000; text-decoration-color: #808000\">......</span>##<span style=\"color: #808000; text-decoration-color: #808000\">.........</span>..<span style=\"font-weight: bold\">[]</span><span style=\"color: #808000; text-decoration-color: #808000\">...</span>##\n",
       "</pre>\n"
      ],
      "text/plain": [
       "##\u001b[33m...\u001b[0m\u001b[33m...\u001b[0m\u001b[1m[\u001b[0m\u001b[1m]\u001b[0m\u001b[33m...\u001b[0m\u001b[33m...\u001b[0m\u001b[1m[\u001b[0m\u001b[1m]\u001b[0m\u001b[1m[\u001b[0m\u001b[1m]\u001b[0m\u001b[1m[\u001b[0m\u001b[1m]\u001b[0m\u001b[1m[\u001b[0m\u001b[1m]\u001b[0m\u001b[1m[\u001b[0m\u001b[1m]\u001b[0m\u001b[1m[\u001b[0m\u001b[1m]\u001b[0m\u001b[1m[\u001b[0m\u001b[1m]\u001b[0m\u001b[33m...\u001b[0m\u001b[33m...\u001b[0m\u001b[33m...\u001b[0m.##\u001b[33m...\u001b[0m\u001b[33m...\u001b[0m\u001b[33m...\u001b[0m.\u001b[1m[\u001b[0m\u001b[1m]\u001b[0m\u001b[1m[\u001b[0m\u001b[1m]\u001b[0m####\u001b[33m...\u001b[0m\u001b[33m...\u001b[0m\u001b[1m[\u001b[0m\u001b[1m]\u001b[0m..##\u001b[1m[\u001b[0m\u001b[1m]\u001b[0m\u001b[33m...\u001b[0m\u001b[33m...\u001b[0m##\u001b[33m...\u001b[0m\u001b[33m...\u001b[0m\u001b[33m...\u001b[0m..\u001b[1m[\u001b[0m\u001b[1m]\u001b[0m\u001b[33m...\u001b[0m##\n"
      ]
     },
     "metadata": {},
     "output_type": "display_data"
    },
    {
     "data": {
      "text/html": [
       "<pre style=\"white-space:pre;overflow-x:auto;line-height:normal;font-family:Menlo,'DejaVu Sans Mono',consolas,'Courier New',monospace\">##<span style=\"font-weight: bold\">[]</span><span style=\"color: #808000; text-decoration-color: #808000\">...</span>.<span style=\"font-weight: bold\">[]</span><span style=\"color: #808000; text-decoration-color: #808000\">...</span>.<span style=\"font-weight: bold\">[][][][][]</span>..<span style=\"font-weight: bold\">[][]</span><span style=\"color: #808000; text-decoration-color: #808000\">......</span>##<span style=\"font-weight: bold\">[]</span>..##<span style=\"color: #808000; text-decoration-color: #808000\">......</span>.<span style=\"font-weight: bold\">[]</span><span style=\"color: #808000; text-decoration-color: #808000\">......</span>.<span style=\"font-weight: bold\">[]</span>..<span style=\"font-weight: bold\">[]</span>..<span style=\"font-weight: bold\">[]</span>..##<span style=\"color: #808000; text-decoration-color: #808000\">...</span>.<span style=\"font-weight: bold\">[]</span><span style=\"color: #808000; text-decoration-color: #808000\">...</span><span style=\"font-weight: bold\">[]</span><span style=\"color: #808000; text-decoration-color: #808000\">......</span>.<span style=\"font-weight: bold\">[][]</span>..##\n",
       "</pre>\n"
      ],
      "text/plain": [
       "##\u001b[1m[\u001b[0m\u001b[1m]\u001b[0m\u001b[33m...\u001b[0m.\u001b[1m[\u001b[0m\u001b[1m]\u001b[0m\u001b[33m...\u001b[0m.\u001b[1m[\u001b[0m\u001b[1m]\u001b[0m\u001b[1m[\u001b[0m\u001b[1m]\u001b[0m\u001b[1m[\u001b[0m\u001b[1m]\u001b[0m\u001b[1m[\u001b[0m\u001b[1m]\u001b[0m\u001b[1m[\u001b[0m\u001b[1m]\u001b[0m..\u001b[1m[\u001b[0m\u001b[1m]\u001b[0m\u001b[1m[\u001b[0m\u001b[1m]\u001b[0m\u001b[33m...\u001b[0m\u001b[33m...\u001b[0m##\u001b[1m[\u001b[0m\u001b[1m]\u001b[0m..##\u001b[33m...\u001b[0m\u001b[33m...\u001b[0m.\u001b[1m[\u001b[0m\u001b[1m]\u001b[0m\u001b[33m...\u001b[0m\u001b[33m...\u001b[0m.\u001b[1m[\u001b[0m\u001b[1m]\u001b[0m..\u001b[1m[\u001b[0m\u001b[1m]\u001b[0m..\u001b[1m[\u001b[0m\u001b[1m]\u001b[0m..##\u001b[33m...\u001b[0m.\u001b[1m[\u001b[0m\u001b[1m]\u001b[0m\u001b[33m...\u001b[0m\u001b[1m[\u001b[0m\u001b[1m]\u001b[0m\u001b[33m...\u001b[0m\u001b[33m...\u001b[0m.\u001b[1m[\u001b[0m\u001b[1m]\u001b[0m\u001b[1m[\u001b[0m\u001b[1m]\u001b[0m..##\n"
      ]
     },
     "metadata": {},
     "output_type": "display_data"
    },
    {
     "data": {
      "text/html": [
       "<pre style=\"white-space:pre;overflow-x:auto;line-height:normal;font-family:Menlo,'DejaVu Sans Mono',consolas,'Courier New',monospace\">##<span style=\"font-weight: bold\">[]</span><span style=\"color: #808000; text-decoration-color: #808000\">...</span>.<span style=\"font-weight: bold\">[]</span>..<span style=\"font-weight: bold\">[]</span><span style=\"color: #808000; text-decoration-color: #808000\">......</span>.<span style=\"font-weight: bold\">[]</span>.<span style=\"font-weight: bold\">[][]</span>..<span style=\"font-weight: bold\">[]</span><span style=\"color: #808000; text-decoration-color: #808000\">...</span>.<span style=\"font-weight: bold\">[]</span>..<span style=\"font-weight: bold\">[]</span><span style=\"color: #808000; text-decoration-color: #808000\">...</span><span style=\"font-weight: bold\">[]</span>.<span style=\"font-weight: bold\">[]</span>..##<span style=\"color: #808000; text-decoration-color: #808000\">......</span><span style=\"font-weight: bold\">[]</span>..<span style=\"font-weight: bold\">[]</span><span style=\"color: #808000; text-decoration-color: #808000\">...</span><span style=\"font-weight: bold\">[]</span><span style=\"color: #808000; text-decoration-color: #808000\">......</span>.##<span style=\"color: #808000; text-decoration-color: #808000\">......</span>##..##..<span style=\"font-weight: bold\">[]</span>####\n",
       "</pre>\n"
      ],
      "text/plain": [
       "##\u001b[1m[\u001b[0m\u001b[1m]\u001b[0m\u001b[33m...\u001b[0m.\u001b[1m[\u001b[0m\u001b[1m]\u001b[0m..\u001b[1m[\u001b[0m\u001b[1m]\u001b[0m\u001b[33m...\u001b[0m\u001b[33m...\u001b[0m.\u001b[1m[\u001b[0m\u001b[1m]\u001b[0m.\u001b[1m[\u001b[0m\u001b[1m]\u001b[0m\u001b[1m[\u001b[0m\u001b[1m]\u001b[0m..\u001b[1m[\u001b[0m\u001b[1m]\u001b[0m\u001b[33m...\u001b[0m.\u001b[1m[\u001b[0m\u001b[1m]\u001b[0m..\u001b[1m[\u001b[0m\u001b[1m]\u001b[0m\u001b[33m...\u001b[0m\u001b[1m[\u001b[0m\u001b[1m]\u001b[0m.\u001b[1m[\u001b[0m\u001b[1m]\u001b[0m..##\u001b[33m...\u001b[0m\u001b[33m...\u001b[0m\u001b[1m[\u001b[0m\u001b[1m]\u001b[0m..\u001b[1m[\u001b[0m\u001b[1m]\u001b[0m\u001b[33m...\u001b[0m\u001b[1m[\u001b[0m\u001b[1m]\u001b[0m\u001b[33m...\u001b[0m\u001b[33m...\u001b[0m.##\u001b[33m...\u001b[0m\u001b[33m...\u001b[0m##..##..\u001b[1m[\u001b[0m\u001b[1m]\u001b[0m####\n"
      ]
     },
     "metadata": {},
     "output_type": "display_data"
    },
    {
     "data": {
      "text/html": [
       "<pre style=\"white-space:pre;overflow-x:auto;line-height:normal;font-family:Menlo,'DejaVu Sans Mono',consolas,'Courier New',monospace\">##<span style=\"font-weight: bold\">[][]</span><span style=\"color: #808000; text-decoration-color: #808000\">...</span><span style=\"font-weight: bold\">[]</span><span style=\"color: #808000; text-decoration-color: #808000\">......</span>..<span style=\"font-weight: bold\">[]</span><span style=\"color: #808000; text-decoration-color: #808000\">...</span>..<span style=\"font-weight: bold\">[]</span>..##<span style=\"font-weight: bold\">[]</span><span style=\"color: #808000; text-decoration-color: #808000\">.........</span>..<span style=\"font-weight: bold\">[][]</span>..<span style=\"font-weight: bold\">[]</span><span style=\"color: #808000; text-decoration-color: #808000\">......</span>.<span style=\"font-weight: bold\">[]</span>.<span style=\"font-weight: bold\">[]</span>.<span style=\"font-weight: bold\">[][]</span><span style=\"color: #808000; text-decoration-color: #808000\">......</span>..##<span style=\"color: #808000; text-decoration-color: #808000\">...</span><span style=\"font-weight: bold\">[]</span>.<span style=\"font-weight: bold\">[]</span><span style=\"color: #808000; text-decoration-color: #808000\">......</span>..<span style=\"font-weight: bold\">[]</span>##\n",
       "</pre>\n"
      ],
      "text/plain": [
       "##\u001b[1m[\u001b[0m\u001b[1m]\u001b[0m\u001b[1m[\u001b[0m\u001b[1m]\u001b[0m\u001b[33m...\u001b[0m\u001b[1m[\u001b[0m\u001b[1m]\u001b[0m\u001b[33m...\u001b[0m\u001b[33m...\u001b[0m..\u001b[1m[\u001b[0m\u001b[1m]\u001b[0m\u001b[33m...\u001b[0m..\u001b[1m[\u001b[0m\u001b[1m]\u001b[0m..##\u001b[1m[\u001b[0m\u001b[1m]\u001b[0m\u001b[33m...\u001b[0m\u001b[33m...\u001b[0m\u001b[33m...\u001b[0m..\u001b[1m[\u001b[0m\u001b[1m]\u001b[0m\u001b[1m[\u001b[0m\u001b[1m]\u001b[0m..\u001b[1m[\u001b[0m\u001b[1m]\u001b[0m\u001b[33m...\u001b[0m\u001b[33m...\u001b[0m.\u001b[1m[\u001b[0m\u001b[1m]\u001b[0m.\u001b[1m[\u001b[0m\u001b[1m]\u001b[0m.\u001b[1m[\u001b[0m\u001b[1m]\u001b[0m\u001b[1m[\u001b[0m\u001b[1m]\u001b[0m\u001b[33m...\u001b[0m\u001b[33m...\u001b[0m..##\u001b[33m...\u001b[0m\u001b[1m[\u001b[0m\u001b[1m]\u001b[0m.\u001b[1m[\u001b[0m\u001b[1m]\u001b[0m\u001b[33m...\u001b[0m\u001b[33m...\u001b[0m..\u001b[1m[\u001b[0m\u001b[1m]\u001b[0m##\n"
      ]
     },
     "metadata": {},
     "output_type": "display_data"
    },
    {
     "data": {
      "text/html": [
       "<pre style=\"white-space:pre;overflow-x:auto;line-height:normal;font-family:Menlo,'DejaVu Sans Mono',consolas,'Courier New',monospace\">##..##<span style=\"color: #808000; text-decoration-color: #808000\">............</span><span style=\"font-weight: bold\">[]</span><span style=\"color: #808000; text-decoration-color: #808000\">......</span>..<span style=\"font-weight: bold\">[]</span>..##<span style=\"font-weight: bold\">[]</span>##..####..<span style=\"font-weight: bold\">[]</span><span style=\"color: #808000; text-decoration-color: #808000\">...</span>.##..##..<span style=\"font-weight: bold\">[][][][]</span><span style=\"color: #808000; text-decoration-color: #808000\">.....................</span>.<span style=\"font-weight: bold\">[]</span><span style=\"color: #808000; text-decoration-color: #808000\">...</span>.####\n",
       "</pre>\n"
      ],
      "text/plain": [
       "##..##\u001b[33m...\u001b[0m\u001b[33m...\u001b[0m\u001b[33m...\u001b[0m\u001b[33m...\u001b[0m\u001b[1m[\u001b[0m\u001b[1m]\u001b[0m\u001b[33m...\u001b[0m\u001b[33m...\u001b[0m..\u001b[1m[\u001b[0m\u001b[1m]\u001b[0m..##\u001b[1m[\u001b[0m\u001b[1m]\u001b[0m##..####..\u001b[1m[\u001b[0m\u001b[1m]\u001b[0m\u001b[33m...\u001b[0m.##..##..\u001b[1m[\u001b[0m\u001b[1m]\u001b[0m\u001b[1m[\u001b[0m\u001b[1m]\u001b[0m\u001b[1m[\u001b[0m\u001b[1m]\u001b[0m\u001b[1m[\u001b[0m\u001b[1m]\u001b[0m\u001b[33m...\u001b[0m\u001b[33m...\u001b[0m\u001b[33m...\u001b[0m\u001b[33m...\u001b[0m\u001b[33m...\u001b[0m\u001b[33m...\u001b[0m\u001b[33m...\u001b[0m.\u001b[1m[\u001b[0m\u001b[1m]\u001b[0m\u001b[33m...\u001b[0m.####\n"
      ]
     },
     "metadata": {},
     "output_type": "display_data"
    },
    {
     "data": {
      "text/html": [
       "<pre style=\"white-space:pre;overflow-x:auto;line-height:normal;font-family:Menlo,'DejaVu Sans Mono',consolas,'Courier New',monospace\">##<span style=\"color: #808000; text-decoration-color: #808000\">.........</span>..<span style=\"font-weight: bold\">[]</span><span style=\"color: #808000; text-decoration-color: #808000\">...</span><span style=\"font-weight: bold\">[]</span>..##<span style=\"color: #808000; text-decoration-color: #808000\">...</span>.<span style=\"font-weight: bold\">[][]</span><span style=\"color: #808000; text-decoration-color: #808000\">......</span>..<span style=\"font-weight: bold\">[]</span>##..<span style=\"font-weight: bold\">[]</span>##<span style=\"color: #808000; text-decoration-color: #808000\">...</span>.<span style=\"font-weight: bold\">[][]</span>##<span style=\"font-weight: bold\">[]</span>..<span style=\"font-weight: bold\">[]</span><span style=\"color: #808000; text-decoration-color: #808000\">.........</span><span style=\"font-weight: bold\">[]</span><span style=\"color: #808000; text-decoration-color: #808000\">...</span><span style=\"font-weight: bold\">[]</span><span style=\"color: #808000; text-decoration-color: #808000\">......</span>..<span style=\"font-weight: bold\">[][]</span><span style=\"color: #808000; text-decoration-color: #808000\">...</span>.##\n",
       "</pre>\n"
      ],
      "text/plain": [
       "##\u001b[33m...\u001b[0m\u001b[33m...\u001b[0m\u001b[33m...\u001b[0m..\u001b[1m[\u001b[0m\u001b[1m]\u001b[0m\u001b[33m...\u001b[0m\u001b[1m[\u001b[0m\u001b[1m]\u001b[0m..##\u001b[33m...\u001b[0m.\u001b[1m[\u001b[0m\u001b[1m]\u001b[0m\u001b[1m[\u001b[0m\u001b[1m]\u001b[0m\u001b[33m...\u001b[0m\u001b[33m...\u001b[0m..\u001b[1m[\u001b[0m\u001b[1m]\u001b[0m##..\u001b[1m[\u001b[0m\u001b[1m]\u001b[0m##\u001b[33m...\u001b[0m.\u001b[1m[\u001b[0m\u001b[1m]\u001b[0m\u001b[1m[\u001b[0m\u001b[1m]\u001b[0m##\u001b[1m[\u001b[0m\u001b[1m]\u001b[0m..\u001b[1m[\u001b[0m\u001b[1m]\u001b[0m\u001b[33m...\u001b[0m\u001b[33m...\u001b[0m\u001b[33m...\u001b[0m\u001b[1m[\u001b[0m\u001b[1m]\u001b[0m\u001b[33m...\u001b[0m\u001b[1m[\u001b[0m\u001b[1m]\u001b[0m\u001b[33m...\u001b[0m\u001b[33m...\u001b[0m..\u001b[1m[\u001b[0m\u001b[1m]\u001b[0m\u001b[1m[\u001b[0m\u001b[1m]\u001b[0m\u001b[33m...\u001b[0m.##\n"
      ]
     },
     "metadata": {},
     "output_type": "display_data"
    },
    {
     "data": {
      "text/html": [
       "<pre style=\"white-space:pre;overflow-x:auto;line-height:normal;font-family:Menlo,'DejaVu Sans Mono',consolas,'Courier New',monospace\">##<span style=\"font-weight: bold\">[][]</span><span style=\"color: #808000; text-decoration-color: #808000\">...............</span><span style=\"font-weight: bold\">[]</span>.<span style=\"font-weight: bold\">[]</span>.<span style=\"font-weight: bold\">[]</span>.<span style=\"font-weight: bold\">[]</span><span style=\"color: #808000; text-decoration-color: #808000\">......</span>.<span style=\"font-weight: bold\">[][]</span><span style=\"color: #808000; text-decoration-color: #808000\">......</span>.<span style=\"font-weight: bold\">[]</span>..<span style=\"font-weight: bold\">[]</span>..##<span style=\"font-weight: bold\">[][]</span>##<span style=\"color: #808000; text-decoration-color: #808000\">...</span>.<span style=\"font-weight: bold\">[]</span>##<span style=\"color: #808000; text-decoration-color: #808000\">......</span><span style=\"font-weight: bold\">[]</span>##<span style=\"color: #808000; text-decoration-color: #808000\">.........</span><span style=\"font-weight: bold\">[]</span><span style=\"color: #808000; text-decoration-color: #808000\">...</span>##\n",
       "</pre>\n"
      ],
      "text/plain": [
       "##\u001b[1m[\u001b[0m\u001b[1m]\u001b[0m\u001b[1m[\u001b[0m\u001b[1m]\u001b[0m\u001b[33m...\u001b[0m\u001b[33m...\u001b[0m\u001b[33m...\u001b[0m\u001b[33m...\u001b[0m\u001b[33m...\u001b[0m\u001b[1m[\u001b[0m\u001b[1m]\u001b[0m.\u001b[1m[\u001b[0m\u001b[1m]\u001b[0m.\u001b[1m[\u001b[0m\u001b[1m]\u001b[0m.\u001b[1m[\u001b[0m\u001b[1m]\u001b[0m\u001b[33m...\u001b[0m\u001b[33m...\u001b[0m.\u001b[1m[\u001b[0m\u001b[1m]\u001b[0m\u001b[1m[\u001b[0m\u001b[1m]\u001b[0m\u001b[33m...\u001b[0m\u001b[33m...\u001b[0m.\u001b[1m[\u001b[0m\u001b[1m]\u001b[0m..\u001b[1m[\u001b[0m\u001b[1m]\u001b[0m..##\u001b[1m[\u001b[0m\u001b[1m]\u001b[0m\u001b[1m[\u001b[0m\u001b[1m]\u001b[0m##\u001b[33m...\u001b[0m.\u001b[1m[\u001b[0m\u001b[1m]\u001b[0m##\u001b[33m...\u001b[0m\u001b[33m...\u001b[0m\u001b[1m[\u001b[0m\u001b[1m]\u001b[0m##\u001b[33m...\u001b[0m\u001b[33m...\u001b[0m\u001b[33m...\u001b[0m\u001b[1m[\u001b[0m\u001b[1m]\u001b[0m\u001b[33m...\u001b[0m##\n"
      ]
     },
     "metadata": {},
     "output_type": "display_data"
    },
    {
     "data": {
      "text/html": [
       "<pre style=\"white-space:pre;overflow-x:auto;line-height:normal;font-family:Menlo,'DejaVu Sans Mono',consolas,'Courier New',monospace\">##..<span style=\"font-weight: bold\">[]</span>##<span style=\"color: #808000; text-decoration-color: #808000\">............</span>##<span style=\"color: #808000; text-decoration-color: #808000\">......</span>##..<span style=\"font-weight: bold\">[]</span><span style=\"color: #808000; text-decoration-color: #808000\">...</span><span style=\"font-weight: bold\">[]</span><span style=\"color: #808000; text-decoration-color: #808000\">......</span>..<span style=\"font-weight: bold\">[]</span><span style=\"color: #808000; text-decoration-color: #808000\">...</span>..##..<span style=\"font-weight: bold\">[][]</span>..<span style=\"font-weight: bold\">[]</span><span style=\"color: #808000; text-decoration-color: #808000\">...</span>.<span style=\"font-weight: bold\">[][]</span><span style=\"color: #808000; text-decoration-color: #808000\">...</span>.<span style=\"font-weight: bold\">[]</span>##<span style=\"color: #808000; text-decoration-color: #808000\">...</span>.##<span style=\"color: #808000; text-decoration-color: #808000\">......</span>..<span style=\"font-weight: bold\">[]</span>##\n",
       "</pre>\n"
      ],
      "text/plain": [
       "##..\u001b[1m[\u001b[0m\u001b[1m]\u001b[0m##\u001b[33m...\u001b[0m\u001b[33m...\u001b[0m\u001b[33m...\u001b[0m\u001b[33m...\u001b[0m##\u001b[33m...\u001b[0m\u001b[33m...\u001b[0m##..\u001b[1m[\u001b[0m\u001b[1m]\u001b[0m\u001b[33m...\u001b[0m\u001b[1m[\u001b[0m\u001b[1m]\u001b[0m\u001b[33m...\u001b[0m\u001b[33m...\u001b[0m..\u001b[1m[\u001b[0m\u001b[1m]\u001b[0m\u001b[33m...\u001b[0m..##..\u001b[1m[\u001b[0m\u001b[1m]\u001b[0m\u001b[1m[\u001b[0m\u001b[1m]\u001b[0m..\u001b[1m[\u001b[0m\u001b[1m]\u001b[0m\u001b[33m...\u001b[0m.\u001b[1m[\u001b[0m\u001b[1m]\u001b[0m\u001b[1m[\u001b[0m\u001b[1m]\u001b[0m\u001b[33m...\u001b[0m.\u001b[1m[\u001b[0m\u001b[1m]\u001b[0m##\u001b[33m...\u001b[0m.##\u001b[33m...\u001b[0m\u001b[33m...\u001b[0m..\u001b[1m[\u001b[0m\u001b[1m]\u001b[0m##\n"
      ]
     },
     "metadata": {},
     "output_type": "display_data"
    },
    {
     "data": {
      "text/html": [
       "<pre style=\"white-space:pre;overflow-x:auto;line-height:normal;font-family:Menlo,'DejaVu Sans Mono',consolas,'Courier New',monospace\">##..##..<span style=\"font-weight: bold\">[]</span><span style=\"color: #808000; text-decoration-color: #808000\">......</span>.<span style=\"font-weight: bold\">[]</span><span style=\"color: #808000; text-decoration-color: #808000\">............</span>.##<span style=\"color: #808000; text-decoration-color: #808000\">...............</span><span style=\"font-weight: bold\">[][]</span>..<span style=\"font-weight: bold\">[]</span>.<span style=\"font-weight: bold\">[]</span>####<span style=\"font-weight: bold\">[]</span><span style=\"color: #808000; text-decoration-color: #808000\">...</span><span style=\"font-weight: bold\">[][]</span><span style=\"color: #808000; text-decoration-color: #808000\">...</span>..##<span style=\"font-weight: bold\">[][]</span>..<span style=\"font-weight: bold\">[][]</span><span style=\"color: #808000; text-decoration-color: #808000\">......</span>..##\n",
       "</pre>\n"
      ],
      "text/plain": [
       "##..##..\u001b[1m[\u001b[0m\u001b[1m]\u001b[0m\u001b[33m...\u001b[0m\u001b[33m...\u001b[0m.\u001b[1m[\u001b[0m\u001b[1m]\u001b[0m\u001b[33m...\u001b[0m\u001b[33m...\u001b[0m\u001b[33m...\u001b[0m\u001b[33m...\u001b[0m.##\u001b[33m...\u001b[0m\u001b[33m...\u001b[0m\u001b[33m...\u001b[0m\u001b[33m...\u001b[0m\u001b[33m...\u001b[0m\u001b[1m[\u001b[0m\u001b[1m]\u001b[0m\u001b[1m[\u001b[0m\u001b[1m]\u001b[0m..\u001b[1m[\u001b[0m\u001b[1m]\u001b[0m.\u001b[1m[\u001b[0m\u001b[1m]\u001b[0m####\u001b[1m[\u001b[0m\u001b[1m]\u001b[0m\u001b[33m...\u001b[0m\u001b[1m[\u001b[0m\u001b[1m]\u001b[0m\u001b[1m[\u001b[0m\u001b[1m]\u001b[0m\u001b[33m...\u001b[0m..##\u001b[1m[\u001b[0m\u001b[1m]\u001b[0m\u001b[1m[\u001b[0m\u001b[1m]\u001b[0m..\u001b[1m[\u001b[0m\u001b[1m]\u001b[0m\u001b[1m[\u001b[0m\u001b[1m]\u001b[0m\u001b[33m...\u001b[0m\u001b[33m...\u001b[0m..##\n"
      ]
     },
     "metadata": {},
     "output_type": "display_data"
    },
    {
     "data": {
      "text/html": [
       "<pre style=\"white-space:pre;overflow-x:auto;line-height:normal;font-family:Menlo,'DejaVu Sans Mono',consolas,'Courier New',monospace\">##<span style=\"color: #808000; text-decoration-color: #808000\">............</span>..<span style=\"font-weight: bold\">[]</span>..##<span style=\"color: #808000; text-decoration-color: #808000\">............</span>..##<span style=\"color: #808000; text-decoration-color: #808000\">............</span><span style=\"font-weight: bold\">[]</span>##<span style=\"color: #808000; text-decoration-color: #808000\">......</span>.<span style=\"font-weight: bold\">[][][][][]</span><span style=\"color: #808000; text-decoration-color: #808000\">......</span>..<span style=\"font-weight: bold\">[][]</span>.<span style=\"font-weight: bold\">[]</span>..<span style=\"font-weight: bold\">[][]</span><span style=\"color: #808000; text-decoration-color: #808000\">......</span>##\n",
       "</pre>\n"
      ],
      "text/plain": [
       "##\u001b[33m...\u001b[0m\u001b[33m...\u001b[0m\u001b[33m...\u001b[0m\u001b[33m...\u001b[0m..\u001b[1m[\u001b[0m\u001b[1m]\u001b[0m..##\u001b[33m...\u001b[0m\u001b[33m...\u001b[0m\u001b[33m...\u001b[0m\u001b[33m...\u001b[0m..##\u001b[33m...\u001b[0m\u001b[33m...\u001b[0m\u001b[33m...\u001b[0m\u001b[33m...\u001b[0m\u001b[1m[\u001b[0m\u001b[1m]\u001b[0m##\u001b[33m...\u001b[0m\u001b[33m...\u001b[0m.\u001b[1m[\u001b[0m\u001b[1m]\u001b[0m\u001b[1m[\u001b[0m\u001b[1m]\u001b[0m\u001b[1m[\u001b[0m\u001b[1m]\u001b[0m\u001b[1m[\u001b[0m\u001b[1m]\u001b[0m\u001b[1m[\u001b[0m\u001b[1m]\u001b[0m\u001b[33m...\u001b[0m\u001b[33m...\u001b[0m..\u001b[1m[\u001b[0m\u001b[1m]\u001b[0m\u001b[1m[\u001b[0m\u001b[1m]\u001b[0m.\u001b[1m[\u001b[0m\u001b[1m]\u001b[0m..\u001b[1m[\u001b[0m\u001b[1m]\u001b[0m\u001b[1m[\u001b[0m\u001b[1m]\u001b[0m\u001b[33m...\u001b[0m\u001b[33m...\u001b[0m##\n"
      ]
     },
     "metadata": {},
     "output_type": "display_data"
    },
    {
     "data": {
      "text/html": [
       "<pre style=\"white-space:pre;overflow-x:auto;line-height:normal;font-family:Menlo,'DejaVu Sans Mono',consolas,'Courier New',monospace\">##<span style=\"color: #808000; text-decoration-color: #808000\">...</span>.##<span style=\"color: #808000; text-decoration-color: #808000\">...</span>.<span style=\"font-weight: bold\">[]</span>..##<span style=\"color: #808000; text-decoration-color: #808000\">...</span>.<span style=\"font-weight: bold\">[]</span><span style=\"color: #808000; text-decoration-color: #808000\">.........</span>..<span style=\"font-weight: bold\">[]</span><span style=\"color: #808000; text-decoration-color: #808000\">......</span>..<span style=\"font-weight: bold\">[]</span><span style=\"color: #808000; text-decoration-color: #808000\">...</span>.<span style=\"font-weight: bold\">[]</span><span style=\"color: #808000; text-decoration-color: #808000\">......</span>.<span style=\"font-weight: bold\">[][][]</span><span style=\"color: #808000; text-decoration-color: #808000\">......</span>..<span style=\"font-weight: bold\">[]</span><span style=\"color: #808000; text-decoration-color: #808000\">...</span>.<span style=\"font-weight: bold\">[]</span>.<span style=\"font-weight: bold\">[][][]</span>.##..##..##\n",
       "</pre>\n"
      ],
      "text/plain": [
       "##\u001b[33m...\u001b[0m.##\u001b[33m...\u001b[0m.\u001b[1m[\u001b[0m\u001b[1m]\u001b[0m..##\u001b[33m...\u001b[0m.\u001b[1m[\u001b[0m\u001b[1m]\u001b[0m\u001b[33m...\u001b[0m\u001b[33m...\u001b[0m\u001b[33m...\u001b[0m..\u001b[1m[\u001b[0m\u001b[1m]\u001b[0m\u001b[33m...\u001b[0m\u001b[33m...\u001b[0m..\u001b[1m[\u001b[0m\u001b[1m]\u001b[0m\u001b[33m...\u001b[0m.\u001b[1m[\u001b[0m\u001b[1m]\u001b[0m\u001b[33m...\u001b[0m\u001b[33m...\u001b[0m.\u001b[1m[\u001b[0m\u001b[1m]\u001b[0m\u001b[1m[\u001b[0m\u001b[1m]\u001b[0m\u001b[1m[\u001b[0m\u001b[1m]\u001b[0m\u001b[33m...\u001b[0m\u001b[33m...\u001b[0m..\u001b[1m[\u001b[0m\u001b[1m]\u001b[0m\u001b[33m...\u001b[0m.\u001b[1m[\u001b[0m\u001b[1m]\u001b[0m.\u001b[1m[\u001b[0m\u001b[1m]\u001b[0m\u001b[1m[\u001b[0m\u001b[1m]\u001b[0m\u001b[1m[\u001b[0m\u001b[1m]\u001b[0m.##..##..##\n"
      ]
     },
     "metadata": {},
     "output_type": "display_data"
    },
    {
     "data": {
      "text/html": [
       "<pre style=\"white-space:pre;overflow-x:auto;line-height:normal;font-family:Menlo,'DejaVu Sans Mono',consolas,'Courier New',monospace\">##<span style=\"font-weight: bold\">[]</span>##..<span style=\"font-weight: bold\">[]</span>..<span style=\"font-weight: bold\">[][]</span>##<span style=\"color: #808000; text-decoration-color: #808000\">.........</span>.##<span style=\"color: #808000; text-decoration-color: #808000\">...</span>..<span style=\"font-weight: bold\">[]</span><span style=\"color: #808000; text-decoration-color: #808000\">.........</span>..<span style=\"font-weight: bold\">[]</span>.<span style=\"font-weight: bold\">[]</span><span style=\"color: #808000; text-decoration-color: #808000\">......</span>..<span style=\"font-weight: bold\">[][]</span>.##<span style=\"color: #808000; text-decoration-color: #808000\">............</span>..<span style=\"font-weight: bold\">[]</span>##<span style=\"color: #808000; text-decoration-color: #808000\">...</span>.<span style=\"font-weight: bold\">[]</span><span style=\"color: #808000; text-decoration-color: #808000\">......</span>##\n",
       "</pre>\n"
      ],
      "text/plain": [
       "##\u001b[1m[\u001b[0m\u001b[1m]\u001b[0m##..\u001b[1m[\u001b[0m\u001b[1m]\u001b[0m..\u001b[1m[\u001b[0m\u001b[1m]\u001b[0m\u001b[1m[\u001b[0m\u001b[1m]\u001b[0m##\u001b[33m...\u001b[0m\u001b[33m...\u001b[0m\u001b[33m...\u001b[0m.##\u001b[33m...\u001b[0m..\u001b[1m[\u001b[0m\u001b[1m]\u001b[0m\u001b[33m...\u001b[0m\u001b[33m...\u001b[0m\u001b[33m...\u001b[0m..\u001b[1m[\u001b[0m\u001b[1m]\u001b[0m.\u001b[1m[\u001b[0m\u001b[1m]\u001b[0m\u001b[33m...\u001b[0m\u001b[33m...\u001b[0m..\u001b[1m[\u001b[0m\u001b[1m]\u001b[0m\u001b[1m[\u001b[0m\u001b[1m]\u001b[0m.##\u001b[33m...\u001b[0m\u001b[33m...\u001b[0m\u001b[33m...\u001b[0m\u001b[33m...\u001b[0m..\u001b[1m[\u001b[0m\u001b[1m]\u001b[0m##\u001b[33m...\u001b[0m.\u001b[1m[\u001b[0m\u001b[1m]\u001b[0m\u001b[33m...\u001b[0m\u001b[33m...\u001b[0m##\n"
      ]
     },
     "metadata": {},
     "output_type": "display_data"
    },
    {
     "data": {
      "text/html": [
       "<pre style=\"white-space:pre;overflow-x:auto;line-height:normal;font-family:Menlo,'DejaVu Sans Mono',consolas,'Courier New',monospace\">##<span style=\"color: #808000; text-decoration-color: #808000\">......</span>##..####<span style=\"color: #808000; text-decoration-color: #808000\">...............</span><span style=\"font-weight: bold\">[][]</span><span style=\"color: #808000; text-decoration-color: #808000\">...</span><span style=\"font-weight: bold\">[]</span>.<span style=\"font-weight: bold\">[][]</span><span style=\"color: #808000; text-decoration-color: #808000\">..................</span>.<span style=\"font-weight: bold\">[]</span>##<span style=\"color: #808000; text-decoration-color: #808000\">...</span>.<span style=\"font-weight: bold\">[]</span><span style=\"color: #808000; text-decoration-color: #808000\">......</span>.<span style=\"font-weight: bold\">[]</span>.<span style=\"font-weight: bold\">[]</span>..####<span style=\"font-weight: bold\">[]</span><span style=\"color: #808000; text-decoration-color: #808000\">...</span>.##\n",
       "</pre>\n"
      ],
      "text/plain": [
       "##\u001b[33m...\u001b[0m\u001b[33m...\u001b[0m##..####\u001b[33m...\u001b[0m\u001b[33m...\u001b[0m\u001b[33m...\u001b[0m\u001b[33m...\u001b[0m\u001b[33m...\u001b[0m\u001b[1m[\u001b[0m\u001b[1m]\u001b[0m\u001b[1m[\u001b[0m\u001b[1m]\u001b[0m\u001b[33m...\u001b[0m\u001b[1m[\u001b[0m\u001b[1m]\u001b[0m.\u001b[1m[\u001b[0m\u001b[1m]\u001b[0m\u001b[1m[\u001b[0m\u001b[1m]\u001b[0m\u001b[33m...\u001b[0m\u001b[33m...\u001b[0m\u001b[33m...\u001b[0m\u001b[33m...\u001b[0m\u001b[33m...\u001b[0m\u001b[33m...\u001b[0m.\u001b[1m[\u001b[0m\u001b[1m]\u001b[0m##\u001b[33m...\u001b[0m.\u001b[1m[\u001b[0m\u001b[1m]\u001b[0m\u001b[33m...\u001b[0m\u001b[33m...\u001b[0m.\u001b[1m[\u001b[0m\u001b[1m]\u001b[0m.\u001b[1m[\u001b[0m\u001b[1m]\u001b[0m..####\u001b[1m[\u001b[0m\u001b[1m]\u001b[0m\u001b[33m...\u001b[0m.##\n"
      ]
     },
     "metadata": {},
     "output_type": "display_data"
    },
    {
     "data": {
      "text/html": [
       "<pre style=\"white-space:pre;overflow-x:auto;line-height:normal;font-family:Menlo,'DejaVu Sans Mono',consolas,'Courier New',monospace\">##<span style=\"font-weight: bold\">[]</span>##<span style=\"color: #808000; text-decoration-color: #808000\">......</span>####..##<span style=\"color: #808000; text-decoration-color: #808000\">.........</span>..<span style=\"font-weight: bold\">[]</span><span style=\"color: #808000; text-decoration-color: #808000\">...</span>..##<span style=\"color: #808000; text-decoration-color: #808000\">......</span>..<span style=\"font-weight: bold\">[]</span>..##<span style=\"color: #808000; text-decoration-color: #808000\">.....................</span>.<span style=\"font-weight: bold\">[]</span><span style=\"color: #808000; text-decoration-color: #808000\">......</span><span style=\"font-weight: bold\">[]</span><span style=\"color: #808000; text-decoration-color: #808000\">............</span>##\n",
       "</pre>\n"
      ],
      "text/plain": [
       "##\u001b[1m[\u001b[0m\u001b[1m]\u001b[0m##\u001b[33m...\u001b[0m\u001b[33m...\u001b[0m####..##\u001b[33m...\u001b[0m\u001b[33m...\u001b[0m\u001b[33m...\u001b[0m..\u001b[1m[\u001b[0m\u001b[1m]\u001b[0m\u001b[33m...\u001b[0m..##\u001b[33m...\u001b[0m\u001b[33m...\u001b[0m..\u001b[1m[\u001b[0m\u001b[1m]\u001b[0m..##\u001b[33m...\u001b[0m\u001b[33m...\u001b[0m\u001b[33m...\u001b[0m\u001b[33m...\u001b[0m\u001b[33m...\u001b[0m\u001b[33m...\u001b[0m\u001b[33m...\u001b[0m.\u001b[1m[\u001b[0m\u001b[1m]\u001b[0m\u001b[33m...\u001b[0m\u001b[33m...\u001b[0m\u001b[1m[\u001b[0m\u001b[1m]\u001b[0m\u001b[33m...\u001b[0m\u001b[33m...\u001b[0m\u001b[33m...\u001b[0m\u001b[33m...\u001b[0m##\n"
      ]
     },
     "metadata": {},
     "output_type": "display_data"
    },
    {
     "data": {
      "text/html": [
       "<pre style=\"white-space:pre;overflow-x:auto;line-height:normal;font-family:Menlo,'DejaVu Sans Mono',consolas,'Courier New',monospace\">##..<span style=\"font-weight: bold\">[][]</span><span style=\"color: #808000; text-decoration-color: #808000\">......</span>..##.<span style=\"font-weight: bold\">[]</span><span style=\"color: #808000; text-decoration-color: #808000\">...</span>..<span style=\"font-weight: bold\">[]</span><span style=\"color: #808000; text-decoration-color: #808000\">...</span>.<span style=\"font-weight: bold\">[]</span><span style=\"color: #808000; text-decoration-color: #808000\">............</span>..<span style=\"font-weight: bold\">[]</span><span style=\"color: #808000; text-decoration-color: #808000\">.....................</span>..<span style=\"font-weight: bold\">[]</span>.##<span style=\"font-weight: bold\">[]</span><span style=\"color: #808000; text-decoration-color: #808000\">...</span><span style=\"font-weight: bold\">[]</span><span style=\"color: #808000; text-decoration-color: #808000\">...</span>..<span style=\"font-weight: bold\">[]</span><span style=\"color: #808000; text-decoration-color: #808000\">......</span>##\n",
       "</pre>\n"
      ],
      "text/plain": [
       "##..\u001b[1m[\u001b[0m\u001b[1m]\u001b[0m\u001b[1m[\u001b[0m\u001b[1m]\u001b[0m\u001b[33m...\u001b[0m\u001b[33m...\u001b[0m..##.\u001b[1m[\u001b[0m\u001b[1m]\u001b[0m\u001b[33m...\u001b[0m..\u001b[1m[\u001b[0m\u001b[1m]\u001b[0m\u001b[33m...\u001b[0m.\u001b[1m[\u001b[0m\u001b[1m]\u001b[0m\u001b[33m...\u001b[0m\u001b[33m...\u001b[0m\u001b[33m...\u001b[0m\u001b[33m...\u001b[0m..\u001b[1m[\u001b[0m\u001b[1m]\u001b[0m\u001b[33m...\u001b[0m\u001b[33m...\u001b[0m\u001b[33m...\u001b[0m\u001b[33m...\u001b[0m\u001b[33m...\u001b[0m\u001b[33m...\u001b[0m\u001b[33m...\u001b[0m..\u001b[1m[\u001b[0m\u001b[1m]\u001b[0m.##\u001b[1m[\u001b[0m\u001b[1m]\u001b[0m\u001b[33m...\u001b[0m\u001b[1m[\u001b[0m\u001b[1m]\u001b[0m\u001b[33m...\u001b[0m..\u001b[1m[\u001b[0m\u001b[1m]\u001b[0m\u001b[33m...\u001b[0m\u001b[33m...\u001b[0m##\n"
      ]
     },
     "metadata": {},
     "output_type": "display_data"
    },
    {
     "data": {
      "text/html": [
       "<pre style=\"white-space:pre;overflow-x:auto;line-height:normal;font-family:Menlo,'DejaVu Sans Mono',consolas,'Courier New',monospace\">##<span style=\"font-weight: bold\">[]</span><span style=\"color: #808000; text-decoration-color: #808000\">...</span>.<span style=\"font-weight: bold\">[]</span><span style=\"color: #808000; text-decoration-color: #808000\">...</span>.<span style=\"font-weight: bold\">[]</span><span style=\"color: #808000; text-decoration-color: #808000\">......</span><span style=\"font-weight: bold\">[]</span><span style=\"color: #808000; text-decoration-color: #808000\">...</span>..<span style=\"font-weight: bold\">[]</span><span style=\"color: #808000; text-decoration-color: #808000\">...............</span>.<span style=\"font-weight: bold\">[][]</span><span style=\"color: #808000; text-decoration-color: #808000\">...............</span>..<span style=\"font-weight: bold\">[]</span>##<span style=\"color: #808000; text-decoration-color: #808000\">......</span>..<span style=\"font-weight: bold\">[]</span>..<span style=\"font-weight: bold\">[]</span>..##<span style=\"color: #808000; text-decoration-color: #808000\">......</span>..##\n",
       "</pre>\n"
      ],
      "text/plain": [
       "##\u001b[1m[\u001b[0m\u001b[1m]\u001b[0m\u001b[33m...\u001b[0m.\u001b[1m[\u001b[0m\u001b[1m]\u001b[0m\u001b[33m...\u001b[0m.\u001b[1m[\u001b[0m\u001b[1m]\u001b[0m\u001b[33m...\u001b[0m\u001b[33m...\u001b[0m\u001b[1m[\u001b[0m\u001b[1m]\u001b[0m\u001b[33m...\u001b[0m..\u001b[1m[\u001b[0m\u001b[1m]\u001b[0m\u001b[33m...\u001b[0m\u001b[33m...\u001b[0m\u001b[33m...\u001b[0m\u001b[33m...\u001b[0m\u001b[33m...\u001b[0m.\u001b[1m[\u001b[0m\u001b[1m]\u001b[0m\u001b[1m[\u001b[0m\u001b[1m]\u001b[0m\u001b[33m...\u001b[0m\u001b[33m...\u001b[0m\u001b[33m...\u001b[0m\u001b[33m...\u001b[0m\u001b[33m...\u001b[0m..\u001b[1m[\u001b[0m\u001b[1m]\u001b[0m##\u001b[33m...\u001b[0m\u001b[33m...\u001b[0m..\u001b[1m[\u001b[0m\u001b[1m]\u001b[0m..\u001b[1m[\u001b[0m\u001b[1m]\u001b[0m..##\u001b[33m...\u001b[0m\u001b[33m...\u001b[0m..##\n"
      ]
     },
     "metadata": {},
     "output_type": "display_data"
    },
    {
     "data": {
      "text/html": [
       "<pre style=\"white-space:pre;overflow-x:auto;line-height:normal;font-family:Menlo,'DejaVu Sans Mono',consolas,'Courier New',monospace\">##<span style=\"color: #808000; text-decoration-color: #808000\">.........</span>.##<span style=\"color: #808000; text-decoration-color: #808000\">......</span>##<span style=\"color: #808000; text-decoration-color: #808000\">...</span><span style=\"font-weight: bold\">[]</span>..<span style=\"font-weight: bold\">[]</span><span style=\"color: #808000; text-decoration-color: #808000\">...</span><span style=\"font-weight: bold\">[]</span><span style=\"color: #808000; text-decoration-color: #808000\">.........</span>.##<span style=\"font-weight: bold\">[]</span>..##<span style=\"color: #808000; text-decoration-color: #808000\">...</span>.##<span style=\"color: #808000; text-decoration-color: #808000\">.........</span>.<span style=\"font-weight: bold\">[]</span>.<span style=\"font-weight: bold\">[][][]</span><span style=\"color: #808000; text-decoration-color: #808000\">......</span>.<span style=\"font-weight: bold\">[][]</span>..##..<span style=\"font-weight: bold\">[]</span>##\n",
       "</pre>\n"
      ],
      "text/plain": [
       "##\u001b[33m...\u001b[0m\u001b[33m...\u001b[0m\u001b[33m...\u001b[0m.##\u001b[33m...\u001b[0m\u001b[33m...\u001b[0m##\u001b[33m...\u001b[0m\u001b[1m[\u001b[0m\u001b[1m]\u001b[0m..\u001b[1m[\u001b[0m\u001b[1m]\u001b[0m\u001b[33m...\u001b[0m\u001b[1m[\u001b[0m\u001b[1m]\u001b[0m\u001b[33m...\u001b[0m\u001b[33m...\u001b[0m\u001b[33m...\u001b[0m.##\u001b[1m[\u001b[0m\u001b[1m]\u001b[0m..##\u001b[33m...\u001b[0m.##\u001b[33m...\u001b[0m\u001b[33m...\u001b[0m\u001b[33m...\u001b[0m.\u001b[1m[\u001b[0m\u001b[1m]\u001b[0m.\u001b[1m[\u001b[0m\u001b[1m]\u001b[0m\u001b[1m[\u001b[0m\u001b[1m]\u001b[0m\u001b[1m[\u001b[0m\u001b[1m]\u001b[0m\u001b[33m...\u001b[0m\u001b[33m...\u001b[0m.\u001b[1m[\u001b[0m\u001b[1m]\u001b[0m\u001b[1m[\u001b[0m\u001b[1m]\u001b[0m..##..\u001b[1m[\u001b[0m\u001b[1m]\u001b[0m##\n"
      ]
     },
     "metadata": {},
     "output_type": "display_data"
    },
    {
     "data": {
      "text/html": [
       "<pre style=\"white-space:pre;overflow-x:auto;line-height:normal;font-family:Menlo,'DejaVu Sans Mono',consolas,'Courier New',monospace\">##<span style=\"color: #808000; text-decoration-color: #808000\">......</span>..<span style=\"font-weight: bold\">[]</span><span style=\"color: #808000; text-decoration-color: #808000\">............</span><span style=\"font-weight: bold\">[]</span>##<span style=\"font-weight: bold\">[][]</span><span style=\"color: #808000; text-decoration-color: #808000\">...</span><span style=\"font-weight: bold\">[]</span><span style=\"color: #808000; text-decoration-color: #808000\">...</span><span style=\"font-weight: bold\">[]</span>##<span style=\"color: #808000; text-decoration-color: #808000\">...</span>..<span style=\"font-weight: bold\">[]</span><span style=\"color: #808000; text-decoration-color: #808000\">......</span>.<span style=\"font-weight: bold\">[]</span><span style=\"color: #808000; text-decoration-color: #808000\">.........</span><span style=\"font-weight: bold\">[]</span><span style=\"color: #808000; text-decoration-color: #808000\">..................</span>.<span style=\"font-weight: bold\">[]</span><span style=\"color: #808000; text-decoration-color: #808000\">......</span>##\n",
       "</pre>\n"
      ],
      "text/plain": [
       "##\u001b[33m...\u001b[0m\u001b[33m...\u001b[0m..\u001b[1m[\u001b[0m\u001b[1m]\u001b[0m\u001b[33m...\u001b[0m\u001b[33m...\u001b[0m\u001b[33m...\u001b[0m\u001b[33m...\u001b[0m\u001b[1m[\u001b[0m\u001b[1m]\u001b[0m##\u001b[1m[\u001b[0m\u001b[1m]\u001b[0m\u001b[1m[\u001b[0m\u001b[1m]\u001b[0m\u001b[33m...\u001b[0m\u001b[1m[\u001b[0m\u001b[1m]\u001b[0m\u001b[33m...\u001b[0m\u001b[1m[\u001b[0m\u001b[1m]\u001b[0m##\u001b[33m...\u001b[0m..\u001b[1m[\u001b[0m\u001b[1m]\u001b[0m\u001b[33m...\u001b[0m\u001b[33m...\u001b[0m.\u001b[1m[\u001b[0m\u001b[1m]\u001b[0m\u001b[33m...\u001b[0m\u001b[33m...\u001b[0m\u001b[33m...\u001b[0m\u001b[1m[\u001b[0m\u001b[1m]\u001b[0m\u001b[33m...\u001b[0m\u001b[33m...\u001b[0m\u001b[33m...\u001b[0m\u001b[33m...\u001b[0m\u001b[33m...\u001b[0m\u001b[33m...\u001b[0m.\u001b[1m[\u001b[0m\u001b[1m]\u001b[0m\u001b[33m...\u001b[0m\u001b[33m...\u001b[0m##\n"
      ]
     },
     "metadata": {},
     "output_type": "display_data"
    },
    {
     "data": {
      "text/html": [
       "<pre style=\"white-space:pre;overflow-x:auto;line-height:normal;font-family:Menlo,'DejaVu Sans Mono',consolas,'Courier New',monospace\">##<span style=\"color: #808000; text-decoration-color: #808000\">...</span>.<span style=\"font-weight: bold\">[]</span><span style=\"color: #808000; text-decoration-color: #808000\">......</span>##..<span style=\"font-weight: bold\">[]</span><span style=\"color: #808000; text-decoration-color: #808000\">...</span>.<span style=\"font-weight: bold\">[]</span>..<span style=\"font-weight: bold\">[][]</span>..<span style=\"font-weight: bold\">[][]</span><span style=\"color: #808000; text-decoration-color: #808000\">...</span>..<span style=\"font-weight: bold\">[]</span><span style=\"color: #808000; text-decoration-color: #808000\">...</span>..##..##<span style=\"font-weight: bold\">[][]</span><span style=\"color: #808000; text-decoration-color: #808000\">....................................</span>..##\n",
       "</pre>\n"
      ],
      "text/plain": [
       "##\u001b[33m...\u001b[0m.\u001b[1m[\u001b[0m\u001b[1m]\u001b[0m\u001b[33m...\u001b[0m\u001b[33m...\u001b[0m##..\u001b[1m[\u001b[0m\u001b[1m]\u001b[0m\u001b[33m...\u001b[0m.\u001b[1m[\u001b[0m\u001b[1m]\u001b[0m..\u001b[1m[\u001b[0m\u001b[1m]\u001b[0m\u001b[1m[\u001b[0m\u001b[1m]\u001b[0m..\u001b[1m[\u001b[0m\u001b[1m]\u001b[0m\u001b[1m[\u001b[0m\u001b[1m]\u001b[0m\u001b[33m...\u001b[0m..\u001b[1m[\u001b[0m\u001b[1m]\u001b[0m\u001b[33m...\u001b[0m..##..##\u001b[1m[\u001b[0m\u001b[1m]\u001b[0m\u001b[1m[\u001b[0m\u001b[1m]\u001b[0m\u001b[33m...\u001b[0m\u001b[33m...\u001b[0m\u001b[33m...\u001b[0m\u001b[33m...\u001b[0m\u001b[33m...\u001b[0m\u001b[33m...\u001b[0m\u001b[33m...\u001b[0m\u001b[33m...\u001b[0m\u001b[33m...\u001b[0m\u001b[33m...\u001b[0m\u001b[33m...\u001b[0m\u001b[33m...\u001b[0m..##\n"
      ]
     },
     "metadata": {},
     "output_type": "display_data"
    },
    {
     "data": {
      "text/html": [
       "<pre style=\"white-space:pre;overflow-x:auto;line-height:normal;font-family:Menlo,'DejaVu Sans Mono',consolas,'Courier New',monospace\">##..<span style=\"font-weight: bold\">[]</span><span style=\"color: #808000; text-decoration-color: #808000\">.........</span>.<span style=\"font-weight: bold\">[][]</span>..<span style=\"font-weight: bold\">[]</span><span style=\"color: #808000; text-decoration-color: #808000\">...</span>.<span style=\"font-weight: bold\">[][][]</span><span style=\"color: #808000; text-decoration-color: #808000\">............</span>..<span style=\"font-weight: bold\">[]</span>..##..<span style=\"font-weight: bold\">[][]</span>##<span style=\"color: #808000; text-decoration-color: #808000\">.................................</span><span style=\"font-weight: bold\">[]</span>.##\n",
       "</pre>\n"
      ],
      "text/plain": [
       "##..\u001b[1m[\u001b[0m\u001b[1m]\u001b[0m\u001b[33m...\u001b[0m\u001b[33m...\u001b[0m\u001b[33m...\u001b[0m.\u001b[1m[\u001b[0m\u001b[1m]\u001b[0m\u001b[1m[\u001b[0m\u001b[1m]\u001b[0m..\u001b[1m[\u001b[0m\u001b[1m]\u001b[0m\u001b[33m...\u001b[0m.\u001b[1m[\u001b[0m\u001b[1m]\u001b[0m\u001b[1m[\u001b[0m\u001b[1m]\u001b[0m\u001b[1m[\u001b[0m\u001b[1m]\u001b[0m\u001b[33m...\u001b[0m\u001b[33m...\u001b[0m\u001b[33m...\u001b[0m\u001b[33m...\u001b[0m..\u001b[1m[\u001b[0m\u001b[1m]\u001b[0m..##..\u001b[1m[\u001b[0m\u001b[1m]\u001b[0m\u001b[1m[\u001b[0m\u001b[1m]\u001b[0m##\u001b[33m...\u001b[0m\u001b[33m...\u001b[0m\u001b[33m...\u001b[0m\u001b[33m...\u001b[0m\u001b[33m...\u001b[0m\u001b[33m...\u001b[0m\u001b[33m...\u001b[0m\u001b[33m...\u001b[0m\u001b[33m...\u001b[0m\u001b[33m...\u001b[0m\u001b[33m...\u001b[0m\u001b[1m[\u001b[0m\u001b[1m]\u001b[0m.##\n"
      ]
     },
     "metadata": {},
     "output_type": "display_data"
    },
    {
     "data": {
      "text/html": [
       "<pre style=\"white-space:pre;overflow-x:auto;line-height:normal;font-family:Menlo,'DejaVu Sans Mono',consolas,'Courier New',monospace\">##<span style=\"font-weight: bold\">[]</span>####<span style=\"font-weight: bold\">[]</span>..##<span style=\"color: #808000; text-decoration-color: #808000\">...</span>.<span style=\"font-weight: bold\">[][][]</span><span style=\"color: #808000; text-decoration-color: #808000\">......</span>##<span style=\"color: #808000; text-decoration-color: #808000\">.........</span><span style=\"font-weight: bold\">[]</span><span style=\"color: #808000; text-decoration-color: #808000\">......</span>.<span style=\"font-weight: bold\">[]</span><span style=\"color: #808000; text-decoration-color: #808000\">...</span>.##<span style=\"font-weight: bold\">[][][]</span><span style=\"color: #808000; text-decoration-color: #808000\">..............................</span><span style=\"font-weight: bold\">[][]</span>##\n",
       "</pre>\n"
      ],
      "text/plain": [
       "##\u001b[1m[\u001b[0m\u001b[1m]\u001b[0m####\u001b[1m[\u001b[0m\u001b[1m]\u001b[0m..##\u001b[33m...\u001b[0m.\u001b[1m[\u001b[0m\u001b[1m]\u001b[0m\u001b[1m[\u001b[0m\u001b[1m]\u001b[0m\u001b[1m[\u001b[0m\u001b[1m]\u001b[0m\u001b[33m...\u001b[0m\u001b[33m...\u001b[0m##\u001b[33m...\u001b[0m\u001b[33m...\u001b[0m\u001b[33m...\u001b[0m\u001b[1m[\u001b[0m\u001b[1m]\u001b[0m\u001b[33m...\u001b[0m\u001b[33m...\u001b[0m.\u001b[1m[\u001b[0m\u001b[1m]\u001b[0m\u001b[33m...\u001b[0m.##\u001b[1m[\u001b[0m\u001b[1m]\u001b[0m\u001b[1m[\u001b[0m\u001b[1m]\u001b[0m\u001b[1m[\u001b[0m\u001b[1m]\u001b[0m\u001b[33m...\u001b[0m\u001b[33m...\u001b[0m\u001b[33m...\u001b[0m\u001b[33m...\u001b[0m\u001b[33m...\u001b[0m\u001b[33m...\u001b[0m\u001b[33m...\u001b[0m\u001b[33m...\u001b[0m\u001b[33m...\u001b[0m\u001b[33m...\u001b[0m\u001b[1m[\u001b[0m\u001b[1m]\u001b[0m\u001b[1m[\u001b[0m\u001b[1m]\u001b[0m##\n"
      ]
     },
     "metadata": {},
     "output_type": "display_data"
    },
    {
     "data": {
      "text/html": [
       "<pre style=\"white-space:pre;overflow-x:auto;line-height:normal;font-family:Menlo,'DejaVu Sans Mono',consolas,'Courier New',monospace\">##<span style=\"color: #808000; text-decoration-color: #808000\">...</span>.<span style=\"font-weight: bold\">[]</span>..<span style=\"font-weight: bold\">[]</span><span style=\"color: #808000; text-decoration-color: #808000\">......</span><span style=\"font-weight: bold\">[]</span><span style=\"color: #808000; text-decoration-color: #808000\">......</span>..<span style=\"font-weight: bold\">[]</span><span style=\"color: #808000; text-decoration-color: #808000\">...</span>.<span style=\"font-weight: bold\">[]</span><span style=\"color: #808000; text-decoration-color: #808000\">......</span>..##<span style=\"font-weight: bold\">[]</span><span style=\"color: #808000; text-decoration-color: #808000\">............</span>..<span style=\"font-weight: bold\">[]</span><span style=\"color: #808000; text-decoration-color: #808000\">............</span><span style=\"font-weight: bold\">[]</span><span style=\"color: #808000; text-decoration-color: #808000\">......</span>.<span style=\"font-weight: bold\">[]</span>.<span style=\"font-weight: bold\">[]</span>####<span style=\"font-weight: bold\">[][]</span>##\n",
       "</pre>\n"
      ],
      "text/plain": [
       "##\u001b[33m...\u001b[0m.\u001b[1m[\u001b[0m\u001b[1m]\u001b[0m..\u001b[1m[\u001b[0m\u001b[1m]\u001b[0m\u001b[33m...\u001b[0m\u001b[33m...\u001b[0m\u001b[1m[\u001b[0m\u001b[1m]\u001b[0m\u001b[33m...\u001b[0m\u001b[33m...\u001b[0m..\u001b[1m[\u001b[0m\u001b[1m]\u001b[0m\u001b[33m...\u001b[0m.\u001b[1m[\u001b[0m\u001b[1m]\u001b[0m\u001b[33m...\u001b[0m\u001b[33m...\u001b[0m..##\u001b[1m[\u001b[0m\u001b[1m]\u001b[0m\u001b[33m...\u001b[0m\u001b[33m...\u001b[0m\u001b[33m...\u001b[0m\u001b[33m...\u001b[0m..\u001b[1m[\u001b[0m\u001b[1m]\u001b[0m\u001b[33m...\u001b[0m\u001b[33m...\u001b[0m\u001b[33m...\u001b[0m\u001b[33m...\u001b[0m\u001b[1m[\u001b[0m\u001b[1m]\u001b[0m\u001b[33m...\u001b[0m\u001b[33m...\u001b[0m.\u001b[1m[\u001b[0m\u001b[1m]\u001b[0m.\u001b[1m[\u001b[0m\u001b[1m]\u001b[0m####\u001b[1m[\u001b[0m\u001b[1m]\u001b[0m\u001b[1m[\u001b[0m\u001b[1m]\u001b[0m##\n"
      ]
     },
     "metadata": {},
     "output_type": "display_data"
    },
    {
     "data": {
      "text/html": [
       "<pre style=\"white-space:pre;overflow-x:auto;line-height:normal;font-family:Menlo,'DejaVu Sans Mono',consolas,'Courier New',monospace\">##<span style=\"color: #808000; text-decoration-color: #808000\">...</span>.<span style=\"font-weight: bold\">[]</span>..##<span style=\"font-weight: bold\">[]</span><span style=\"color: #808000; text-decoration-color: #808000\">...</span>.<span style=\"font-weight: bold\">[]</span>..<span style=\"font-weight: bold\">[][][]</span><span style=\"color: #808000; text-decoration-color: #808000\">...</span>.##<span style=\"font-weight: bold\">[]</span><span style=\"color: #808000; text-decoration-color: #808000\">............</span>..<span style=\"font-weight: bold\">[]</span>..##..##<span style=\"font-weight: bold\">[][][][]</span><span style=\"color: #808000; text-decoration-color: #808000\">......</span><span style=\"font-weight: bold\">[]</span>.<span style=\"font-weight: bold\">[][]</span>.<span style=\"font-weight: bold\">[][][]</span>##<span style=\"color: #808000; text-decoration-color: #808000\">...</span>.##..##\n",
       "</pre>\n"
      ],
      "text/plain": [
       "##\u001b[33m...\u001b[0m.\u001b[1m[\u001b[0m\u001b[1m]\u001b[0m..##\u001b[1m[\u001b[0m\u001b[1m]\u001b[0m\u001b[33m...\u001b[0m.\u001b[1m[\u001b[0m\u001b[1m]\u001b[0m..\u001b[1m[\u001b[0m\u001b[1m]\u001b[0m\u001b[1m[\u001b[0m\u001b[1m]\u001b[0m\u001b[1m[\u001b[0m\u001b[1m]\u001b[0m\u001b[33m...\u001b[0m.##\u001b[1m[\u001b[0m\u001b[1m]\u001b[0m\u001b[33m...\u001b[0m\u001b[33m...\u001b[0m\u001b[33m...\u001b[0m\u001b[33m...\u001b[0m..\u001b[1m[\u001b[0m\u001b[1m]\u001b[0m..##..##\u001b[1m[\u001b[0m\u001b[1m]\u001b[0m\u001b[1m[\u001b[0m\u001b[1m]\u001b[0m\u001b[1m[\u001b[0m\u001b[1m]\u001b[0m\u001b[1m[\u001b[0m\u001b[1m]\u001b[0m\u001b[33m...\u001b[0m\u001b[33m...\u001b[0m\u001b[1m[\u001b[0m\u001b[1m]\u001b[0m.\u001b[1m[\u001b[0m\u001b[1m]\u001b[0m\u001b[1m[\u001b[0m\u001b[1m]\u001b[0m.\u001b[1m[\u001b[0m\u001b[1m]\u001b[0m\u001b[1m[\u001b[0m\u001b[1m]\u001b[0m\u001b[1m[\u001b[0m\u001b[1m]\u001b[0m##\u001b[33m...\u001b[0m.##..##\n"
      ]
     },
     "metadata": {},
     "output_type": "display_data"
    },
    {
     "data": {
      "text/html": [
       "<pre style=\"white-space:pre;overflow-x:auto;line-height:normal;font-family:Menlo,'DejaVu Sans Mono',consolas,'Courier New',monospace\">##<span style=\"color: #808000; text-decoration-color: #808000\">.........</span>.<span style=\"font-weight: bold\">[]</span>..<span style=\"font-weight: bold\">[][][]</span><span style=\"color: #808000; text-decoration-color: #808000\">......</span>##..<span style=\"font-weight: bold\">[][]</span><span style=\"color: #808000; text-decoration-color: #808000\">......</span><span style=\"font-weight: bold\">[]</span><span style=\"color: #808000; text-decoration-color: #808000\">......</span><span style=\"font-weight: bold\">[][][][][][][][]</span>.<span style=\"font-weight: bold\">[]</span><span style=\"color: #808000; text-decoration-color: #808000\">...</span>..##..<span style=\"font-weight: bold\">[]</span>..<span style=\"font-weight: bold\">[][][][]</span>..<span style=\"font-weight: bold\">[][][]</span>##\n",
       "</pre>\n"
      ],
      "text/plain": [
       "##\u001b[33m...\u001b[0m\u001b[33m...\u001b[0m\u001b[33m...\u001b[0m.\u001b[1m[\u001b[0m\u001b[1m]\u001b[0m..\u001b[1m[\u001b[0m\u001b[1m]\u001b[0m\u001b[1m[\u001b[0m\u001b[1m]\u001b[0m\u001b[1m[\u001b[0m\u001b[1m]\u001b[0m\u001b[33m...\u001b[0m\u001b[33m...\u001b[0m##..\u001b[1m[\u001b[0m\u001b[1m]\u001b[0m\u001b[1m[\u001b[0m\u001b[1m]\u001b[0m\u001b[33m...\u001b[0m\u001b[33m...\u001b[0m\u001b[1m[\u001b[0m\u001b[1m]\u001b[0m\u001b[33m...\u001b[0m\u001b[33m...\u001b[0m\u001b[1m[\u001b[0m\u001b[1m]\u001b[0m\u001b[1m[\u001b[0m\u001b[1m]\u001b[0m\u001b[1m[\u001b[0m\u001b[1m]\u001b[0m\u001b[1m[\u001b[0m\u001b[1m]\u001b[0m\u001b[1m[\u001b[0m\u001b[1m]\u001b[0m\u001b[1m[\u001b[0m\u001b[1m]\u001b[0m\u001b[1m[\u001b[0m\u001b[1m]\u001b[0m\u001b[1m[\u001b[0m\u001b[1m]\u001b[0m.\u001b[1m[\u001b[0m\u001b[1m]\u001b[0m\u001b[33m...\u001b[0m..##..\u001b[1m[\u001b[0m\u001b[1m]\u001b[0m..\u001b[1m[\u001b[0m\u001b[1m]\u001b[0m\u001b[1m[\u001b[0m\u001b[1m]\u001b[0m\u001b[1m[\u001b[0m\u001b[1m]\u001b[0m\u001b[1m[\u001b[0m\u001b[1m]\u001b[0m..\u001b[1m[\u001b[0m\u001b[1m]\u001b[0m\u001b[1m[\u001b[0m\u001b[1m]\u001b[0m\u001b[1m[\u001b[0m\u001b[1m]\u001b[0m##\n"
      ]
     },
     "metadata": {},
     "output_type": "display_data"
    },
    {
     "data": {
      "text/html": [
       "<pre style=\"white-space:pre;overflow-x:auto;line-height:normal;font-family:Menlo,'DejaVu Sans Mono',consolas,'Courier New',monospace\">####################################################################################################\n",
       "</pre>\n"
      ],
      "text/plain": [
       "####################################################################################################\n"
      ]
     },
     "metadata": {},
     "output_type": "display_data"
    },
    {
     "data": {
      "text/html": [
       "<pre style=\"white-space:pre;overflow-x:auto;line-height:normal;font-family:Menlo,'DejaVu Sans Mono',consolas,'Courier New',monospace\"><span style=\"color: #008080; text-decoration-color: #008080; font-weight: bold\">1425169</span>\n",
       "</pre>\n"
      ],
      "text/plain": [
       "\u001b[1;36m1425169\u001b[0m\n"
      ]
     },
     "metadata": {},
     "output_type": "display_data"
    }
   ],
   "source": [
    "import sys\n",
    "import re\n",
    "from collections import *\n",
    "from itertools import *\n",
    "from heapq import *\n",
    "import math\n",
    "from rich import print\n",
    "\n",
    "sys.setrecursionlimit(2000)\n",
    "\n",
    "def count(it):\n",
    "    return sum(1 for _ in it)\n",
    "\n",
    "# Read the input from input.txt file\n",
    "with open('puzzle_input.txt', 'r') as file:\n",
    "    inp = file.read()\n",
    "\n",
    "parts = inp.split(\"\\n\\n\")\n",
    "lines = parts[0].split(\"\\n\")\n",
    "\n",
    "def expand(c):\n",
    "    if c == \"O\":\n",
    "        return \"[]\"\n",
    "    elif c == \"@\":\n",
    "        return \"@.\"\n",
    "    else:\n",
    "        return c + c\n",
    "\n",
    "# Expand lines\n",
    "lines = [\"\".join(expand(c) for c in l) for l in lines]\n",
    "print(\"\\n\".join(lines))\n",
    "m = len(lines)\n",
    "n = len(lines[0])\n",
    "\n",
    "# Create the grid (defaultdict of defaultdicts)\n",
    "grid = defaultdict(\n",
    "    lambda: defaultdict(lambda: \"!\"),\n",
    "    {i: defaultdict(lambda: \"!\", {j: line[j] for j in range(len(line))}) for i, line in enumerate(lines)}\n",
    ")\n",
    "\n",
    "# Directions and character to direction map\n",
    "dirs = [(0, 1), (0, -1), (-1, 0), (1, 0)]\n",
    "chardirs = {\"<\": 1, \">\": 0, \"^\": 2, \"v\": 3}\n",
    "\n",
    "result = 0\n",
    "\n",
    "# Check move function\n",
    "def check_move(d, i, j, already_checked):\n",
    "    if (i, j) in already_checked:\n",
    "        return already_checked[(i, j)]\n",
    "    already_checked[(i, j)] = True\n",
    "    if grid[i][j] == \"#\":\n",
    "        already_checked[(i, j)] = False\n",
    "    elif grid[i][j] == \".\":\n",
    "        already_checked[(i, j)] = True\n",
    "    elif grid[i][j] == \"@\":\n",
    "        already_checked[(i, j)] = check_move(d, i + d[0], j + d[1], already_checked)\n",
    "    elif grid[i][j] == \"[\":\n",
    "        already_checked[(i, j)] = check_move(d, i + d[0], j + d[1], already_checked) and check_move(d, i, j + 1, already_checked)\n",
    "    elif grid[i][j] == \"]\":\n",
    "        already_checked[(i, j)] = check_move(d, i + d[0], j + d[1], already_checked) and check_move(d, i, j - 1, already_checked)\n",
    "    return already_checked[(i, j)]\n",
    "\n",
    "# Commit move function\n",
    "def commit_move(d, i, j, already_committed):\n",
    "    if (i, j) in already_committed:\n",
    "        return\n",
    "    already_committed.add((i, j))\n",
    "    if grid[i][j] == \"#\":\n",
    "        return\n",
    "    elif grid[i][j] == \".\":\n",
    "        return\n",
    "    elif grid[i][j] == \"[\":\n",
    "        commit_move(d, i + d[0], j + d[1], already_committed)\n",
    "        commit_move(d, i, j + 1, already_committed)\n",
    "        grid[i + d[0]][j + d[1]] = grid[i][j]\n",
    "        grid[i][j] = \".\"\n",
    "    elif grid[i][j] == \"]\":\n",
    "        commit_move(d, i + d[0], j + d[1], already_committed)\n",
    "        commit_move(d, i, j - 1, already_committed)\n",
    "        grid[i + d[0]][j + d[1]] = grid[i][j]\n",
    "        grid[i][j] = \".\"\n",
    "    elif grid[i][j] == \"@\":\n",
    "        commit_move(d, i + d[0], j + d[1], already_committed)\n",
    "        grid[i + d[0]][j + d[1]] = grid[i][j]\n",
    "        grid[i][j] = \".\"\n",
    "\n",
    "# Find the initial robot position\n",
    "robot_pos = (0, 0)\n",
    "for i in range(m):\n",
    "    for j in range(n):\n",
    "        if grid[i][j] == \"@\":\n",
    "            robot_pos = (i, j)\n",
    "\n",
    "# Process the directions from the second part of the input\n",
    "for dirchar in parts[1]:\n",
    "    if dirchar == \"\\n\":\n",
    "        continue\n",
    "    d = dirs[chardirs[dirchar]]\n",
    "    if check_move(d, robot_pos[0], robot_pos[1], {}):\n",
    "        commit_move(d, robot_pos[0], robot_pos[1], set())\n",
    "        robot_pos = (robot_pos[0] + d[0], robot_pos[1] + d[1])\n",
    "\n",
    "# Print the updated grid and calculate the result\n",
    "for i in range(m):\n",
    "    row = \"\"\n",
    "    for j in range(n):\n",
    "        row += grid[i][j]\n",
    "        if grid[i][j] == \"[\":\n",
    "            offset = 0\n",
    "            #if j > n - j - 1:\n",
    "            #    offset = 1\n",
    "            result += 100 * i + j + offset\n",
    "    print(row)\n",
    "\n",
    "print(result)"
   ]
  }
 ],
 "metadata": {
  "kernelspec": {
   "display_name": "Python 3",
   "language": "python",
   "name": "python3"
  },
  "language_info": {
   "codemirror_mode": {
    "name": "ipython",
    "version": 3
   },
   "file_extension": ".py",
   "mimetype": "text/x-python",
   "name": "python",
   "nbconvert_exporter": "python",
   "pygments_lexer": "ipython3",
   "version": "3.11.5"
  }
 },
 "nbformat": 4,
 "nbformat_minor": 2
}
