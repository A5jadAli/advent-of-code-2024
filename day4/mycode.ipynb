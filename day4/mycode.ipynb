{
 "cells": [
  {
   "cell_type": "markdown",
   "metadata": {},
   "source": [
    "### **Day 4**"
   ]
  },
  {
   "cell_type": "code",
   "execution_count": null,
   "metadata": {},
   "outputs": [
    {
     "name": "stdout",
     "output_type": "stream",
     "text": [
      "The word 'xmas' was found 5585 times.\n"
     ]
    }
   ],
   "source": [
    "def load_grid(file_path):\n",
    "    with open(file_path, 'r') as file:\n",
    "        grid = [list(line.strip()) for line in file.readlines()]\n",
    "    return grid\n",
    "\n",
    "def find_xmas(grid):\n",
    "    rows = len(grid)\n",
    "    cols = len(grid[0]) if rows > 0 else 0\n",
    "    word = \"XMAS\"\n",
    "    word_len = len(word)\n",
    "    directions = [\n",
    "        (0, 1),   # Right\n",
    "        (0, -1),  # Left\n",
    "        (1, 0),   # Down\n",
    "        (-1, 0),  # Up\n",
    "        (1, 1),   # Diagonal Down-Right\n",
    "        (1, -1),  # Diagonal Down-Left\n",
    "        (-1, 1),  # Diagonal Up-Right\n",
    "        (-1, -1)  # Diagonal Up-Left\n",
    "    ]\n",
    "    count = 0\n",
    "\n",
    "    # Check if the word can be formed in the given direction\n",
    "    def can_form_word(r, c, dr, dc):\n",
    "        for i in range(word_len):\n",
    "            nr, nc = r + i * dr, c + i * dc\n",
    "            if nr < 0 or nc < 0 or nr >= rows or nc >= cols or grid[nr][nc] != word[i]:\n",
    "                return False\n",
    "        return True\n",
    "\n",
    "    # Search for the word in all directions\n",
    "    for r in range(rows):\n",
    "        for c in range(cols):\n",
    "            for dr, dc in directions:\n",
    "                if can_form_word(r, c, dr, dc):\n",
    "                    count += 1\n",
    "\n",
    "    return count\n",
    "\n",
    "# Example usage\n",
    "file_path = \"puzzle_input.txt\"  # Replace with your text file\n",
    "grid = load_grid(file_path)\n",
    "result = find_xmas(grid)\n",
    "\n",
    "print(f\"The word 'xmas' was found {result} times.\")"
   ]
  },
  {
   "cell_type": "code",
   "execution_count": 4,
   "metadata": {},
   "outputs": [
    {
     "name": "stdout",
     "output_type": "stream",
     "text": [
      "The number of X-MAS patterns found is: 1982\n"
     ]
    }
   ],
   "source": [
    "def load_grid(file_path):\n",
    "    with open(file_path, 'r') as file:\n",
    "        grid = [list(line.strip()) for line in file.readlines()]\n",
    "    return grid\n",
    "\n",
    "def find_xmas_patterns(grid):\n",
    "    rows = len(grid)\n",
    "    cols = len(grid[0]) if rows > 0 else 0\n",
    "    pattern_count = 0\n",
    "\n",
    "    def is_valid_pattern(r, c):\n",
    "        # Check bounds and diagonals\n",
    "        if r - 1 < 0 or r + 1 >= rows or c - 1 < 0 or c + 1 >= cols:\n",
    "            return False\n",
    "\n",
    "        # Extract diagonal characters\n",
    "        top_left = grid[r - 1][c - 1]\n",
    "        top_right = grid[r - 1][c + 1]\n",
    "        center = grid[r][c]\n",
    "        bottom_left = grid[r + 1][c - 1]\n",
    "        bottom_right = grid[r + 1][c + 1]\n",
    "\n",
    "        # Check X-shape for MAS or SAM patterns\n",
    "        return (\n",
    "            (top_left + center + bottom_right in [\"MAS\", \"SAM\"] and\n",
    "             top_right + center + bottom_left in [\"MAS\", \"SAM\"])\n",
    "        )\n",
    "\n",
    "    for r in range(1, rows - 1):\n",
    "        for c in range(1, cols - 1):\n",
    "            if is_valid_pattern(r, c):\n",
    "                pattern_count += 1\n",
    "\n",
    "    return pattern_count\n",
    "\n",
    "# Example usage\n",
    "file_path = \"puzzle_input.txt\"  # Replace with your text file\n",
    "grid = load_grid(file_path)\n",
    "result = find_xmas_patterns(grid)\n",
    "\n",
    "print(f\"The number of X-MAS patterns found is: {result}\")"
   ]
  }
 ],
 "metadata": {
  "kernelspec": {
   "display_name": "Python 3",
   "language": "python",
   "name": "python3"
  },
  "language_info": {
   "codemirror_mode": {
    "name": "ipython",
    "version": 3
   },
   "file_extension": ".py",
   "mimetype": "text/x-python",
   "name": "python",
   "nbconvert_exporter": "python",
   "pygments_lexer": "ipython3",
   "version": "3.11.5"
  }
 },
 "nbformat": 4,
 "nbformat_minor": 2
}
